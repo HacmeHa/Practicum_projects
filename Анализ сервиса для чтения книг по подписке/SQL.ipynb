{
  "metadata": {
    "kernelspec": {
      "name": "python",
      "display_name": "Python (Pyodide)",
      "language": "python"
    },
    "language_info": {
      "codemirror_mode": {
        "name": "python",
        "version": 3
      },
      "file_extension": ".py",
      "mimetype": "text/x-python",
      "name": "python",
      "nbconvert_exporter": "python",
      "pygments_lexer": "ipython3",
      "version": "3.8"
    },
    "ExecuteTimeLog": [
      {
        "duration": 10646,
        "start_time": "2025-01-24T09:55:23.401Z"
      },
      {
        "duration": 63,
        "start_time": "2025-01-24T10:27:39.281Z"
      },
      {
        "duration": 76,
        "start_time": "2025-01-24T10:28:40.859Z"
      },
      {
        "duration": 74,
        "start_time": "2025-01-24T10:28:57.779Z"
      },
      {
        "duration": 109,
        "start_time": "2025-01-24T10:29:25.380Z"
      },
      {
        "duration": 97,
        "start_time": "2025-01-24T10:30:10.967Z"
      },
      {
        "duration": 110,
        "start_time": "2025-01-24T10:30:23.079Z"
      },
      {
        "duration": 84,
        "start_time": "2025-01-24T10:44:17.528Z"
      },
      {
        "duration": 106,
        "start_time": "2025-01-24T10:45:29.573Z"
      },
      {
        "duration": 132,
        "start_time": "2025-01-24T10:46:08.254Z"
      },
      {
        "duration": 57,
        "start_time": "2025-01-24T10:46:16.032Z"
      },
      {
        "duration": 93,
        "start_time": "2025-01-24T10:46:19.496Z"
      },
      {
        "duration": 98,
        "start_time": "2025-01-24T19:42:18.214Z"
      },
      {
        "duration": 9932,
        "start_time": "2025-01-24T19:42:25.474Z"
      },
      {
        "duration": 94,
        "start_time": "2025-01-24T19:42:35.407Z"
      },
      {
        "duration": 11,
        "start_time": "2025-01-24T19:48:06.042Z"
      },
      {
        "duration": 8,
        "start_time": "2025-01-24T19:49:21.868Z"
      },
      {
        "duration": 59,
        "start_time": "2025-01-24T20:07:53.116Z"
      },
      {
        "duration": 28,
        "start_time": "2025-01-24T20:10:03.331Z"
      },
      {
        "duration": 61,
        "start_time": "2025-01-26T09:55:42.037Z"
      },
      {
        "duration": 13060,
        "start_time": "2025-01-26T09:55:48.964Z"
      },
      {
        "duration": 8,
        "start_time": "2025-01-26T09:56:02.026Z"
      },
      {
        "duration": 170,
        "start_time": "2025-01-26T09:56:02.035Z"
      },
      {
        "duration": 39,
        "start_time": "2025-01-26T09:58:51.401Z"
      },
      {
        "duration": 58,
        "start_time": "2025-01-26T10:05:30.789Z"
      },
      {
        "duration": 24,
        "start_time": "2025-01-26T10:06:22.682Z"
      },
      {
        "duration": 53,
        "start_time": "2025-01-26T10:06:46.960Z"
      },
      {
        "duration": 65,
        "start_time": "2025-01-26T10:07:21.257Z"
      },
      {
        "duration": 17,
        "start_time": "2025-01-26T10:07:44.748Z"
      },
      {
        "duration": 13,
        "start_time": "2025-01-26T10:08:45.762Z"
      },
      {
        "duration": 17,
        "start_time": "2025-01-26T10:08:51.192Z"
      },
      {
        "duration": 13,
        "start_time": "2025-01-26T10:10:59.892Z"
      },
      {
        "duration": 23,
        "start_time": "2025-01-26T10:19:16.754Z"
      },
      {
        "duration": 30,
        "start_time": "2025-01-26T10:20:36.747Z"
      },
      {
        "duration": 12,
        "start_time": "2025-01-26T10:21:47.724Z"
      },
      {
        "duration": 12,
        "start_time": "2025-01-26T10:21:52.310Z"
      },
      {
        "duration": 13,
        "start_time": "2025-01-26T10:22:18.272Z"
      },
      {
        "duration": 33,
        "start_time": "2025-01-26T10:25:25.556Z"
      },
      {
        "duration": 118,
        "start_time": "2025-01-26T10:26:56.831Z"
      },
      {
        "duration": 16,
        "start_time": "2025-01-26T10:27:01.620Z"
      },
      {
        "duration": 25,
        "start_time": "2025-01-26T10:27:08.764Z"
      },
      {
        "duration": 16,
        "start_time": "2025-01-26T10:27:47.883Z"
      },
      {
        "duration": 22,
        "start_time": "2025-01-26T10:36:32.287Z"
      },
      {
        "duration": 64,
        "start_time": "2025-01-26T10:36:50.875Z"
      },
      {
        "duration": 22,
        "start_time": "2025-01-26T10:37:17.544Z"
      },
      {
        "duration": 49,
        "start_time": "2025-01-26T10:37:43.779Z"
      },
      {
        "duration": 45,
        "start_time": "2025-01-26T10:37:58.136Z"
      },
      {
        "duration": 18,
        "start_time": "2025-01-26T10:38:36.793Z"
      },
      {
        "duration": 18,
        "start_time": "2025-01-26T10:38:42.858Z"
      },
      {
        "duration": 8089,
        "start_time": "2025-01-26T12:54:13.259Z"
      },
      {
        "duration": 7,
        "start_time": "2025-01-26T12:54:21.350Z"
      },
      {
        "duration": 72,
        "start_time": "2025-01-26T12:54:21.359Z"
      },
      {
        "duration": 12,
        "start_time": "2025-01-26T12:54:21.433Z"
      },
      {
        "duration": 22,
        "start_time": "2025-01-26T12:54:21.447Z"
      },
      {
        "duration": 26,
        "start_time": "2025-01-26T12:54:21.471Z"
      },
      {
        "duration": 8294,
        "start_time": "2025-01-26T12:55:30.323Z"
      },
      {
        "duration": 7,
        "start_time": "2025-01-26T12:55:38.619Z"
      },
      {
        "duration": 73,
        "start_time": "2025-01-26T12:55:38.627Z"
      },
      {
        "duration": 12,
        "start_time": "2025-01-26T12:55:38.702Z"
      },
      {
        "duration": 16,
        "start_time": "2025-01-26T12:55:38.715Z"
      },
      {
        "duration": 16,
        "start_time": "2025-01-26T12:55:38.733Z"
      },
      {
        "duration": 8427,
        "start_time": "2025-01-26T20:36:46.077Z"
      },
      {
        "duration": 24,
        "start_time": "2025-01-26T20:36:54.506Z"
      },
      {
        "duration": 156,
        "start_time": "2025-01-26T20:36:54.532Z"
      },
      {
        "duration": 48,
        "start_time": "2025-01-26T20:36:54.689Z"
      },
      {
        "duration": 52,
        "start_time": "2025-01-26T20:36:54.738Z"
      },
      {
        "duration": 51,
        "start_time": "2025-01-26T20:36:54.791Z"
      },
      {
        "duration": 10212,
        "start_time": "2025-01-27T10:55:46.799Z"
      },
      {
        "duration": 28,
        "start_time": "2025-01-27T10:55:57.013Z"
      },
      {
        "duration": 181,
        "start_time": "2025-01-27T10:55:57.043Z"
      },
      {
        "duration": 55,
        "start_time": "2025-01-27T10:55:57.226Z"
      },
      {
        "duration": 56,
        "start_time": "2025-01-27T10:55:57.282Z"
      },
      {
        "duration": 58,
        "start_time": "2025-01-27T10:55:57.340Z"
      },
      {
        "duration": 94,
        "start_time": "2025-01-27T10:59:02.151Z"
      },
      {
        "duration": 91,
        "start_time": "2025-01-27T11:00:49.821Z"
      },
      {
        "duration": 94,
        "start_time": "2025-01-27T11:01:07.803Z"
      },
      {
        "duration": 90,
        "start_time": "2025-01-27T11:06:09.581Z"
      },
      {
        "duration": 87,
        "start_time": "2025-01-27T11:08:06.833Z"
      },
      {
        "duration": 97,
        "start_time": "2025-01-27T11:08:33.110Z"
      },
      {
        "duration": 88,
        "start_time": "2025-01-27T11:08:57.032Z"
      },
      {
        "duration": 135,
        "start_time": "2025-01-27T11:11:55.413Z"
      },
      {
        "duration": 60,
        "start_time": "2025-01-27T11:12:46.443Z"
      },
      {
        "duration": 132,
        "start_time": "2025-01-27T11:15:39.478Z"
      },
      {
        "duration": 170,
        "start_time": "2025-01-27T11:17:55.338Z"
      },
      {
        "duration": 47,
        "start_time": "2025-01-27T11:18:13.821Z"
      },
      {
        "duration": 159,
        "start_time": "2025-01-27T11:27:27.180Z"
      },
      {
        "duration": 57,
        "start_time": "2025-01-27T11:44:17.300Z"
      },
      {
        "duration": 58,
        "start_time": "2025-01-27T11:45:58.212Z"
      },
      {
        "duration": 56,
        "start_time": "2025-01-27T11:48:51.387Z"
      },
      {
        "duration": 59,
        "start_time": "2025-01-27T11:49:44.608Z"
      },
      {
        "duration": 9341,
        "start_time": "2025-01-27T11:51:11.375Z"
      },
      {
        "duration": 30,
        "start_time": "2025-01-27T11:51:20.719Z"
      },
      {
        "duration": 188,
        "start_time": "2025-01-27T11:51:20.751Z"
      },
      {
        "duration": 55,
        "start_time": "2025-01-27T11:51:20.941Z"
      },
      {
        "duration": 60,
        "start_time": "2025-01-27T11:51:20.998Z"
      },
      {
        "duration": 62,
        "start_time": "2025-01-27T11:51:21.060Z"
      },
      {
        "duration": 60,
        "start_time": "2025-01-27T11:51:21.125Z"
      },
      {
        "duration": 9350,
        "start_time": "2025-01-27T11:54:26.904Z"
      },
      {
        "duration": 28,
        "start_time": "2025-01-27T11:54:36.256Z"
      },
      {
        "duration": 215,
        "start_time": "2025-01-27T11:54:36.286Z"
      },
      {
        "duration": 54,
        "start_time": "2025-01-27T11:54:36.503Z"
      },
      {
        "duration": 58,
        "start_time": "2025-01-27T11:54:36.559Z"
      },
      {
        "duration": 87,
        "start_time": "2025-01-27T11:54:36.620Z"
      },
      {
        "duration": 55,
        "start_time": "2025-01-27T11:54:36.709Z"
      }
    ],
    "toc": {
      "base_numbering": 1,
      "nav_menu": {},
      "number_sections": true,
      "sideBar": true,
      "skip_h1_title": true,
      "title_cell": "Table of Contents",
      "title_sidebar": "Contents",
      "toc_cell": false,
      "toc_position": {
        "height": "calc(100% - 180px)",
        "left": "10px",
        "top": "150px",
        "width": "260px"
      },
      "toc_section_display": true,
      "toc_window_display": true
    }
  },
  "nbformat_minor": 4,
  "nbformat": 4,
  "cells": [
    {
      "cell_type": "markdown",
      "source": "# Анализ базы данных через SQL",
      "metadata": {}
    },
    {
      "cell_type": "markdown",
      "source": "Мы компания, купившая крупный сервис для чтения книг по подписке.\n<br>Цель исследования: сформулировать ценностное предложение для нового продукта.\n<br> В качестве инструмента для анализа у нас есть база данных.\nВ ней — информация о книгах, издательствах, авторах, а также пользовательские обзоры книг.\n\n<br>План исследования:\n1. Знакомство с данными\n\n\n2. Решение задач через SQL-запросы с выводами \n- кол-во книг, вышедших после 1 января 2000 года\n- кол-во обзоров и средняя оценка для каждой книги\n- определить издательство, которое выпустило наибольшее число книг (толще 50 страниц)\n- определить автора с самой высокой средней оценкой книг (оценка 50 и больше)\n- посчитать среднее количество обзоров от пользователей, которые поставили больше 48 оценок.\n3. Общий вывод",
      "metadata": {}
    },
    {
      "cell_type": "markdown",
      "source": "## Знакомство с данными",
      "metadata": {}
    },
    {
      "cell_type": "code",
      "source": "# импортируем библиотеки\nimport pandas as pd\nfrom sqlalchemy import text, create_engine\n# устанавливаем параметры\ndb_config = {'user': 'praktikum_student', # имя пользователя\n'pwd': 'Sdf4$2;d-d30pp', # пароль\n'host': 'rc1b-wcoijxj3yxfsf3fs.mdb.yandexcloud.net',\n'port': 6432, # порт подключения\n'db': 'data-analyst-final-project-db'} # название базы данных\nconnection_string = 'postgresql://{user}:{pwd}@{host}:{port}/{db}'.format(**db_config)\n# сохраняем коннектор\nengine = create_engine(connection_string, connect_args={'sslmode':'require'})\n# чтобы выполнить SQL-запрос, используем Pandas\nquery = '''SELECT * FROM books LIMIT 5'''\ncon=engine.connect()\nbooks_data = pd.io.sql.read_sql(sql=text(query), con=con)\nbooks_count = pd.io.sql.read_sql(sql='SELECT COUNT(*) as total FROM books', con=con)\ndisplay(books_data)\nprint(f'Количество строк: {books_count[\"total\"][0]}')\n\n# Для authors\nquery_authors = '''SELECT * FROM authors LIMIT 5'''\nauthors_data = pd.io.sql.read_sql(sql=text(query_authors), con=con)\nauthor_count = pd.io.sql.read_sql(sql='SELECT COUNT(*) as total FROM authors', con=con)\ndisplay(authors_data)\nprint(f'Количество строк: {author_count[\"total\"][0]}')\n\n# Для publishers\nquery_publishers = '''SELECT * FROM publishers LIMIT 5'''\npublishers_data = pd.io.sql.read_sql(sql=text(query_publishers), con=con)\npublisher_count = pd.io.sql.read_sql(sql='SELECT COUNT(*) as total FROM publishers', con=con)\ndisplay(publishers_data)\nprint(f'Количество строк: {publisher_count[\"total\"][0]}')\n\n# Для ratings\nquery_ratings = '''SELECT * FROM ratings LIMIT 5'''\nratings_data = pd.io.sql.read_sql(sql=text(query_ratings), con=con)\nrating_count = pd.io.sql.read_sql(sql='SELECT COUNT(*) as total FROM ratings', con=con)\ndisplay(ratings_data)\nprint(f'Количество строк: {rating_count[\"total\"][0]}')\n\n# Для reviews\nquery_reviews = '''SELECT * FROM reviews LIMIT 5'''\nreviews_data = pd.io.sql.read_sql(sql=text(query_reviews), con=con)\nreview_count = pd.io.sql.read_sql(sql='SELECT COUNT(*) as total FROM reviews', con=con)\ndisplay(reviews_data)\nprint(f'Количество строк: {review_count[\"total\"][0]}')",
      "metadata": {},
      "outputs": [
        {
          "data": {
            "text/html": [
              "<div>\n",
              "<style scoped>\n",
              "    .dataframe tbody tr th:only-of-type {\n",
              "        vertical-align: middle;\n",
              "    }\n",
              "\n",
              "    .dataframe tbody tr th {\n",
              "        vertical-align: top;\n",
              "    }\n",
              "\n",
              "    .dataframe thead th {\n",
              "        text-align: right;\n",
              "    }\n",
              "</style>\n",
              "<table border=\"1\" class=\"dataframe\">\n",
              "  <thead>\n",
              "    <tr style=\"text-align: right;\">\n",
              "      <th></th>\n",
              "      <th>book_id</th>\n",
              "      <th>author_id</th>\n",
              "      <th>title</th>\n",
              "      <th>num_pages</th>\n",
              "      <th>publication_date</th>\n",
              "      <th>publisher_id</th>\n",
              "    </tr>\n",
              "  </thead>\n",
              "  <tbody>\n",
              "    <tr>\n",
              "      <th>0</th>\n",
              "      <td>1</td>\n",
              "      <td>546</td>\n",
              "      <td>'Salem's Lot</td>\n",
              "      <td>594</td>\n",
              "      <td>2005-11-01</td>\n",
              "      <td>93</td>\n",
              "    </tr>\n",
              "    <tr>\n",
              "      <th>1</th>\n",
              "      <td>2</td>\n",
              "      <td>465</td>\n",
              "      <td>1 000 Places to See Before You Die</td>\n",
              "      <td>992</td>\n",
              "      <td>2003-05-22</td>\n",
              "      <td>336</td>\n",
              "    </tr>\n",
              "    <tr>\n",
              "      <th>2</th>\n",
              "      <td>3</td>\n",
              "      <td>407</td>\n",
              "      <td>13 Little Blue Envelopes (Little Blue Envelope...</td>\n",
              "      <td>322</td>\n",
              "      <td>2010-12-21</td>\n",
              "      <td>135</td>\n",
              "    </tr>\n",
              "    <tr>\n",
              "      <th>3</th>\n",
              "      <td>4</td>\n",
              "      <td>82</td>\n",
              "      <td>1491: New Revelations of the Americas Before C...</td>\n",
              "      <td>541</td>\n",
              "      <td>2006-10-10</td>\n",
              "      <td>309</td>\n",
              "    </tr>\n",
              "    <tr>\n",
              "      <th>4</th>\n",
              "      <td>5</td>\n",
              "      <td>125</td>\n",
              "      <td>1776</td>\n",
              "      <td>386</td>\n",
              "      <td>2006-07-04</td>\n",
              "      <td>268</td>\n",
              "    </tr>\n",
              "  </tbody>\n",
              "</table>\n",
              "</div>"
            ],
            "text/plain": [
              "   book_id  author_id                                              title  \\\n",
              "0        1        546                                       'Salem's Lot   \n",
              "1        2        465                 1 000 Places to See Before You Die   \n",
              "2        3        407  13 Little Blue Envelopes (Little Blue Envelope...   \n",
              "3        4         82  1491: New Revelations of the Americas Before C...   \n",
              "4        5        125                                               1776   \n",
              "\n",
              "   num_pages publication_date  publisher_id  \n",
              "0        594       2005-11-01            93  \n",
              "1        992       2003-05-22           336  \n",
              "2        322       2010-12-21           135  \n",
              "3        541       2006-10-10           309  \n",
              "4        386       2006-07-04           268  "
            ]
          },
          "metadata": {},
          "output_type": "display_data"
        },
        {
          "name": "stdout",
          "output_type": "stream",
          "text": "Количество строк: 1000\n"
        },
        {
          "data": {
            "text/html": [
              "<div>\n",
              "<style scoped>\n",
              "    .dataframe tbody tr th:only-of-type {\n",
              "        vertical-align: middle;\n",
              "    }\n",
              "\n",
              "    .dataframe tbody tr th {\n",
              "        vertical-align: top;\n",
              "    }\n",
              "\n",
              "    .dataframe thead th {\n",
              "        text-align: right;\n",
              "    }\n",
              "</style>\n",
              "<table border=\"1\" class=\"dataframe\">\n",
              "  <thead>\n",
              "    <tr style=\"text-align: right;\">\n",
              "      <th></th>\n",
              "      <th>author_id</th>\n",
              "      <th>author</th>\n",
              "    </tr>\n",
              "  </thead>\n",
              "  <tbody>\n",
              "    <tr>\n",
              "      <th>0</th>\n",
              "      <td>1</td>\n",
              "      <td>A.S. Byatt</td>\n",
              "    </tr>\n",
              "    <tr>\n",
              "      <th>1</th>\n",
              "      <td>2</td>\n",
              "      <td>Aesop/Laura Harris/Laura Gibbs</td>\n",
              "    </tr>\n",
              "    <tr>\n",
              "      <th>2</th>\n",
              "      <td>3</td>\n",
              "      <td>Agatha Christie</td>\n",
              "    </tr>\n",
              "    <tr>\n",
              "      <th>3</th>\n",
              "      <td>4</td>\n",
              "      <td>Alan Brennert</td>\n",
              "    </tr>\n",
              "    <tr>\n",
              "      <th>4</th>\n",
              "      <td>5</td>\n",
              "      <td>Alan Moore/David   Lloyd</td>\n",
              "    </tr>\n",
              "  </tbody>\n",
              "</table>\n",
              "</div>"
            ],
            "text/plain": [
              "   author_id                          author\n",
              "0          1                      A.S. Byatt\n",
              "1          2  Aesop/Laura Harris/Laura Gibbs\n",
              "2          3                 Agatha Christie\n",
              "3          4                   Alan Brennert\n",
              "4          5        Alan Moore/David   Lloyd"
            ]
          },
          "metadata": {},
          "output_type": "display_data"
        },
        {
          "name": "stdout",
          "output_type": "stream",
          "text": "Количество строк: 636\n"
        },
        {
          "data": {
            "text/html": [
              "<div>\n",
              "<style scoped>\n",
              "    .dataframe tbody tr th:only-of-type {\n",
              "        vertical-align: middle;\n",
              "    }\n",
              "\n",
              "    .dataframe tbody tr th {\n",
              "        vertical-align: top;\n",
              "    }\n",
              "\n",
              "    .dataframe thead th {\n",
              "        text-align: right;\n",
              "    }\n",
              "</style>\n",
              "<table border=\"1\" class=\"dataframe\">\n",
              "  <thead>\n",
              "    <tr style=\"text-align: right;\">\n",
              "      <th></th>\n",
              "      <th>publisher_id</th>\n",
              "      <th>publisher</th>\n",
              "    </tr>\n",
              "  </thead>\n",
              "  <tbody>\n",
              "    <tr>\n",
              "      <th>0</th>\n",
              "      <td>1</td>\n",
              "      <td>Ace</td>\n",
              "    </tr>\n",
              "    <tr>\n",
              "      <th>1</th>\n",
              "      <td>2</td>\n",
              "      <td>Ace Book</td>\n",
              "    </tr>\n",
              "    <tr>\n",
              "      <th>2</th>\n",
              "      <td>3</td>\n",
              "      <td>Ace Books</td>\n",
              "    </tr>\n",
              "    <tr>\n",
              "      <th>3</th>\n",
              "      <td>4</td>\n",
              "      <td>Ace Hardcover</td>\n",
              "    </tr>\n",
              "    <tr>\n",
              "      <th>4</th>\n",
              "      <td>5</td>\n",
              "      <td>Addison Wesley Publishing Company</td>\n",
              "    </tr>\n",
              "  </tbody>\n",
              "</table>\n",
              "</div>"
            ],
            "text/plain": [
              "   publisher_id                          publisher\n",
              "0             1                                Ace\n",
              "1             2                           Ace Book\n",
              "2             3                          Ace Books\n",
              "3             4                      Ace Hardcover\n",
              "4             5  Addison Wesley Publishing Company"
            ]
          },
          "metadata": {},
          "output_type": "display_data"
        },
        {
          "name": "stdout",
          "output_type": "stream",
          "text": "Количество строк: 340\n"
        },
        {
          "data": {
            "text/html": [
              "<div>\n",
              "<style scoped>\n",
              "    .dataframe tbody tr th:only-of-type {\n",
              "        vertical-align: middle;\n",
              "    }\n",
              "\n",
              "    .dataframe tbody tr th {\n",
              "        vertical-align: top;\n",
              "    }\n",
              "\n",
              "    .dataframe thead th {\n",
              "        text-align: right;\n",
              "    }\n",
              "</style>\n",
              "<table border=\"1\" class=\"dataframe\">\n",
              "  <thead>\n",
              "    <tr style=\"text-align: right;\">\n",
              "      <th></th>\n",
              "      <th>rating_id</th>\n",
              "      <th>book_id</th>\n",
              "      <th>username</th>\n",
              "      <th>rating</th>\n",
              "    </tr>\n",
              "  </thead>\n",
              "  <tbody>\n",
              "    <tr>\n",
              "      <th>0</th>\n",
              "      <td>1</td>\n",
              "      <td>1</td>\n",
              "      <td>ryanfranco</td>\n",
              "      <td>4</td>\n",
              "    </tr>\n",
              "    <tr>\n",
              "      <th>1</th>\n",
              "      <td>2</td>\n",
              "      <td>1</td>\n",
              "      <td>grantpatricia</td>\n",
              "      <td>2</td>\n",
              "    </tr>\n",
              "    <tr>\n",
              "      <th>2</th>\n",
              "      <td>3</td>\n",
              "      <td>1</td>\n",
              "      <td>brandtandrea</td>\n",
              "      <td>5</td>\n",
              "    </tr>\n",
              "    <tr>\n",
              "      <th>3</th>\n",
              "      <td>4</td>\n",
              "      <td>2</td>\n",
              "      <td>lorichen</td>\n",
              "      <td>3</td>\n",
              "    </tr>\n",
              "    <tr>\n",
              "      <th>4</th>\n",
              "      <td>5</td>\n",
              "      <td>2</td>\n",
              "      <td>mariokeller</td>\n",
              "      <td>2</td>\n",
              "    </tr>\n",
              "  </tbody>\n",
              "</table>\n",
              "</div>"
            ],
            "text/plain": [
              "   rating_id  book_id       username  rating\n",
              "0          1        1     ryanfranco       4\n",
              "1          2        1  grantpatricia       2\n",
              "2          3        1   brandtandrea       5\n",
              "3          4        2       lorichen       3\n",
              "4          5        2    mariokeller       2"
            ]
          },
          "metadata": {},
          "output_type": "display_data"
        },
        {
          "name": "stdout",
          "output_type": "stream",
          "text": "Количество строк: 6456\n"
        },
        {
          "data": {
            "text/html": [
              "<div>\n",
              "<style scoped>\n",
              "    .dataframe tbody tr th:only-of-type {\n",
              "        vertical-align: middle;\n",
              "    }\n",
              "\n",
              "    .dataframe tbody tr th {\n",
              "        vertical-align: top;\n",
              "    }\n",
              "\n",
              "    .dataframe thead th {\n",
              "        text-align: right;\n",
              "    }\n",
              "</style>\n",
              "<table border=\"1\" class=\"dataframe\">\n",
              "  <thead>\n",
              "    <tr style=\"text-align: right;\">\n",
              "      <th></th>\n",
              "      <th>review_id</th>\n",
              "      <th>book_id</th>\n",
              "      <th>username</th>\n",
              "      <th>text</th>\n",
              "    </tr>\n",
              "  </thead>\n",
              "  <tbody>\n",
              "    <tr>\n",
              "      <th>0</th>\n",
              "      <td>1</td>\n",
              "      <td>1</td>\n",
              "      <td>brandtandrea</td>\n",
              "      <td>Mention society tell send professor analysis. ...</td>\n",
              "    </tr>\n",
              "    <tr>\n",
              "      <th>1</th>\n",
              "      <td>2</td>\n",
              "      <td>1</td>\n",
              "      <td>ryanfranco</td>\n",
              "      <td>Foot glass pretty audience hit themselves. Amo...</td>\n",
              "    </tr>\n",
              "    <tr>\n",
              "      <th>2</th>\n",
              "      <td>3</td>\n",
              "      <td>2</td>\n",
              "      <td>lorichen</td>\n",
              "      <td>Listen treat keep worry. Miss husband tax but ...</td>\n",
              "    </tr>\n",
              "    <tr>\n",
              "      <th>3</th>\n",
              "      <td>4</td>\n",
              "      <td>3</td>\n",
              "      <td>johnsonamanda</td>\n",
              "      <td>Finally month interesting blue could nature cu...</td>\n",
              "    </tr>\n",
              "    <tr>\n",
              "      <th>4</th>\n",
              "      <td>5</td>\n",
              "      <td>3</td>\n",
              "      <td>scotttamara</td>\n",
              "      <td>Nation purpose heavy give wait song will. List...</td>\n",
              "    </tr>\n",
              "  </tbody>\n",
              "</table>\n",
              "</div>"
            ],
            "text/plain": [
              "   review_id  book_id       username  \\\n",
              "0          1        1   brandtandrea   \n",
              "1          2        1     ryanfranco   \n",
              "2          3        2       lorichen   \n",
              "3          4        3  johnsonamanda   \n",
              "4          5        3    scotttamara   \n",
              "\n",
              "                                                text  \n",
              "0  Mention society tell send professor analysis. ...  \n",
              "1  Foot glass pretty audience hit themselves. Amo...  \n",
              "2  Listen treat keep worry. Miss husband tax but ...  \n",
              "3  Finally month interesting blue could nature cu...  \n",
              "4  Nation purpose heavy give wait song will. List...  "
            ]
          },
          "metadata": {},
          "output_type": "display_data"
        },
        {
          "name": "stdout",
          "output_type": "stream",
          "text": "Количество строк: 2793\n"
        }
      ],
      "execution_count": 1
    },
    {
      "cell_type": "markdown",
      "source": "ВЫВОД ПО РАЗДЕЛУ: В базе данных 5 таблиц. Самая многострочная с оценками книг. ",
      "metadata": {}
    },
    {
      "cell_type": "markdown",
      "source": "## Решение задач через SQL-запросы с выводами",
      "metadata": {}
    },
    {
      "cell_type": "markdown",
      "source": "### Кол-во книг, вышедших после 1 января 2000 года",
      "metadata": {}
    },
    {
      "cell_type": "code",
      "source": "# Запрос для подсчета книг после 1 января 2000 года\ncount_query = '''SELECT COUNT(*) as book_id FROM books WHERE publication_date > '2000-01-01' '''\nbooks_count = pd.io.sql.read_sql(sql=text(count_query), con=con)\n\n# Отображаем данные\nprint(f'Количество книг после 1 января 2000 года: {books_count[\"book_id\"][0]}')",
      "metadata": {},
      "outputs": [
        {
          "name": "stdout",
          "output_type": "stream",
          "text": "Количество книг после 1 января 2000 года: 819\n"
        }
      ],
      "execution_count": 2
    },
    {
      "cell_type": "markdown",
      "source": "Из 1000 книг 819 вышли после 1 января 2000 года.",
      "metadata": {}
    },
    {
      "cell_type": "markdown",
      "source": "### Кол-во обзоров и средняя оценка для каждой книги",
      "metadata": {}
    },
    {
      "cell_type": "code",
      "source": "count_book = '''SELECT b.title, \n    COUNT(DISTINCT re.review_id) AS total_reviews, \n    AVG(ra.rating) AS average_rating\nFROM books b\nLEFT JOIN reviews re ON b.book_id=re.book_id\nLEFT JOIN ratings ra ON b.book_id=ra.book_id\nGROUP BY b.book_id, b.title\nORDER BY total_reviews DESC\n'''\ncon = engine.connect()\nbook_reviews_data = pd.io.sql.read_sql(sql=text(count_book), con=con)\n\n# Отображаем данные\ndisplay(book_reviews_data)\n",
      "metadata": {},
      "outputs": [
        {
          "data": {
            "text/html": [
              "<div>\n",
              "<style scoped>\n",
              "    .dataframe tbody tr th:only-of-type {\n",
              "        vertical-align: middle;\n",
              "    }\n",
              "\n",
              "    .dataframe tbody tr th {\n",
              "        vertical-align: top;\n",
              "    }\n",
              "\n",
              "    .dataframe thead th {\n",
              "        text-align: right;\n",
              "    }\n",
              "</style>\n",
              "<table border=\"1\" class=\"dataframe\">\n",
              "  <thead>\n",
              "    <tr style=\"text-align: right;\">\n",
              "      <th></th>\n",
              "      <th>title</th>\n",
              "      <th>total_reviews</th>\n",
              "      <th>average_rating</th>\n",
              "    </tr>\n",
              "  </thead>\n",
              "  <tbody>\n",
              "    <tr>\n",
              "      <th>0</th>\n",
              "      <td>Twilight (Twilight  #1)</td>\n",
              "      <td>7</td>\n",
              "      <td>3.662500</td>\n",
              "    </tr>\n",
              "    <tr>\n",
              "      <th>1</th>\n",
              "      <td>Water for Elephants</td>\n",
              "      <td>6</td>\n",
              "      <td>3.977273</td>\n",
              "    </tr>\n",
              "    <tr>\n",
              "      <th>2</th>\n",
              "      <td>The Glass Castle</td>\n",
              "      <td>6</td>\n",
              "      <td>4.206897</td>\n",
              "    </tr>\n",
              "    <tr>\n",
              "      <th>3</th>\n",
              "      <td>Harry Potter and the Prisoner of Azkaban (Harr...</td>\n",
              "      <td>6</td>\n",
              "      <td>4.414634</td>\n",
              "    </tr>\n",
              "    <tr>\n",
              "      <th>4</th>\n",
              "      <td>The Curious Incident of the Dog in the Night-Time</td>\n",
              "      <td>6</td>\n",
              "      <td>4.081081</td>\n",
              "    </tr>\n",
              "    <tr>\n",
              "      <th>...</th>\n",
              "      <td>...</td>\n",
              "      <td>...</td>\n",
              "      <td>...</td>\n",
              "    </tr>\n",
              "    <tr>\n",
              "      <th>995</th>\n",
              "      <td>Anne Rice's The Vampire Lestat: A Graphic Novel</td>\n",
              "      <td>0</td>\n",
              "      <td>3.666667</td>\n",
              "    </tr>\n",
              "    <tr>\n",
              "      <th>996</th>\n",
              "      <td>The Natural Way to Draw</td>\n",
              "      <td>0</td>\n",
              "      <td>3.000000</td>\n",
              "    </tr>\n",
              "    <tr>\n",
              "      <th>997</th>\n",
              "      <td>The Cat in the Hat and Other Dr. Seuss Favorites</td>\n",
              "      <td>0</td>\n",
              "      <td>5.000000</td>\n",
              "    </tr>\n",
              "    <tr>\n",
              "      <th>998</th>\n",
              "      <td>Essential Tales and Poems</td>\n",
              "      <td>0</td>\n",
              "      <td>4.000000</td>\n",
              "    </tr>\n",
              "    <tr>\n",
              "      <th>999</th>\n",
              "      <td>Disney's Beauty and the Beast (A Little Golden...</td>\n",
              "      <td>0</td>\n",
              "      <td>4.000000</td>\n",
              "    </tr>\n",
              "  </tbody>\n",
              "</table>\n",
              "<p>1000 rows × 3 columns</p>\n",
              "</div>"
            ],
            "text/plain": [
              "                                                 title  total_reviews  \\\n",
              "0                              Twilight (Twilight  #1)              7   \n",
              "1                                  Water for Elephants              6   \n",
              "2                                     The Glass Castle              6   \n",
              "3    Harry Potter and the Prisoner of Azkaban (Harr...              6   \n",
              "4    The Curious Incident of the Dog in the Night-Time              6   \n",
              "..                                                 ...            ...   \n",
              "995    Anne Rice's The Vampire Lestat: A Graphic Novel              0   \n",
              "996                            The Natural Way to Draw              0   \n",
              "997   The Cat in the Hat and Other Dr. Seuss Favorites              0   \n",
              "998                          Essential Tales and Poems              0   \n",
              "999  Disney's Beauty and the Beast (A Little Golden...              0   \n",
              "\n",
              "     average_rating  \n",
              "0          3.662500  \n",
              "1          3.977273  \n",
              "2          4.206897  \n",
              "3          4.414634  \n",
              "4          4.081081  \n",
              "..              ...  \n",
              "995        3.666667  \n",
              "996        3.000000  \n",
              "997        5.000000  \n",
              "998        4.000000  \n",
              "999        4.000000  \n",
              "\n",
              "[1000 rows x 3 columns]"
            ]
          },
          "metadata": {},
          "output_type": "display_data"
        }
      ],
      "execution_count": 3
    },
    {
      "cell_type": "markdown",
      "source": "У книги Twilight (Twilight #1) больше всего обзоров - 7, при этом ее средняя оценка - 3.66. У книг, у которых обзоров не было встречаются разные оценки, в т.ч. 5. ",
      "metadata": {}
    },
    {
      "cell_type": "markdown",
      "source": "### Определить издательство, которое выпустило наибольшее число книг (толще 50 страниц)",
      "metadata": {}
    },
    {
      "cell_type": "code",
      "source": "count_publisher = '''SELECT COUNT(*), p.publisher\nFROM publishers p\nJOIN books b ON p.publisher_id=b.publisher_id\nWHERE b.num_pages > 50\nGROUP BY p.publisher\nORDER BY count(*) DESC\nLIMIT 1\n'''\ncon = engine.connect()\nbooks_publishers = pd.io.sql.read_sql(sql=text(count_publisher), con=con)\n\n# Отображаем данные\ndisplay(books_publishers)",
      "metadata": {},
      "outputs": [
        {
          "data": {
            "text/html": [
              "<div>\n",
              "<style scoped>\n",
              "    .dataframe tbody tr th:only-of-type {\n",
              "        vertical-align: middle;\n",
              "    }\n",
              "\n",
              "    .dataframe tbody tr th {\n",
              "        vertical-align: top;\n",
              "    }\n",
              "\n",
              "    .dataframe thead th {\n",
              "        text-align: right;\n",
              "    }\n",
              "</style>\n",
              "<table border=\"1\" class=\"dataframe\">\n",
              "  <thead>\n",
              "    <tr style=\"text-align: right;\">\n",
              "      <th></th>\n",
              "      <th>count</th>\n",
              "      <th>publisher</th>\n",
              "    </tr>\n",
              "  </thead>\n",
              "  <tbody>\n",
              "    <tr>\n",
              "      <th>0</th>\n",
              "      <td>42</td>\n",
              "      <td>Penguin Books</td>\n",
              "    </tr>\n",
              "  </tbody>\n",
              "</table>\n",
              "</div>"
            ],
            "text/plain": [
              "   count      publisher\n",
              "0     42  Penguin Books"
            ]
          },
          "metadata": {},
          "output_type": "display_data"
        }
      ],
      "execution_count": 4
    },
    {
      "cell_type": "markdown",
      "source": "Издательство Penguin Books выпустило больше остальных книг - 42 шт. ",
      "metadata": {}
    },
    {
      "cell_type": "markdown",
      "source": "### Определить автора с самой высокой средней оценкой книг (оценка 50 и больше)",
      "metadata": {}
    },
    {
      "cell_type": "code",
      "source": "avg_author = '''SELECT a.author,\n                       AVG(r.rating) AS avg_rating\nFROM authors a\nJOIN books b ON b.author_id=a.author_id\nJOIN ratings r ON b.book_id=r.book_id\nWHERE b.book_id IN (\n    SELECT b.book_id\n    FROM books b\n    JOIN ratings r ON b.book_id=r.book_id\n    GROUP BY b.book_id\n    HAVING COUNT(r.rating) >= 50\n)\nGROUP BY a.author\nORDER BY avg_rating DESC\nLIMIT 1\n'''\ncon = engine.connect()\nauthor_rating = pd.io.sql.read_sql(sql=text(avg_author), con=con)\n\n# Отображаем данные\ndisplay(author_rating)",
      "metadata": {},
      "outputs": [
        {
          "data": {
            "text/html": [
              "<div>\n",
              "<style scoped>\n",
              "    .dataframe tbody tr th:only-of-type {\n",
              "        vertical-align: middle;\n",
              "    }\n",
              "\n",
              "    .dataframe tbody tr th {\n",
              "        vertical-align: top;\n",
              "    }\n",
              "\n",
              "    .dataframe thead th {\n",
              "        text-align: right;\n",
              "    }\n",
              "</style>\n",
              "<table border=\"1\" class=\"dataframe\">\n",
              "  <thead>\n",
              "    <tr style=\"text-align: right;\">\n",
              "      <th></th>\n",
              "      <th>author</th>\n",
              "      <th>avg_rating</th>\n",
              "    </tr>\n",
              "  </thead>\n",
              "  <tbody>\n",
              "    <tr>\n",
              "      <th>0</th>\n",
              "      <td>J.K. Rowling/Mary GrandPré</td>\n",
              "      <td>4.287097</td>\n",
              "    </tr>\n",
              "  </tbody>\n",
              "</table>\n",
              "</div>"
            ],
            "text/plain": [
              "                       author  avg_rating\n",
              "0  J.K. Rowling/Mary GrandPré    4.287097"
            ]
          },
          "metadata": {},
          "output_type": "display_data"
        }
      ],
      "execution_count": 5
    },
    {
      "cell_type": "markdown",
      "source": "Выше средняя оценка оказалась у автора J.K. Rowling/Mary GrandPré - 4.29.",
      "metadata": {}
    },
    {
      "cell_type": "markdown",
      "source": "### Посчитать среднее количество обзоров от пользователей, которые поставили больше 48 оценок",
      "metadata": {}
    },
    {
      "cell_type": "code",
      "source": "avg_review = '''SELECT AVG(re.review_id) avg_review\nFROM reviews re\nJOIN books b ON b.book_id=re.book_id\nJOIN ratings ra ON b.book_id=ra.book_id\nHAVING COUNT(ra.rating_id) > 48\nORDER BY avg_review DESC\n'''\ncon = engine.connect()\nreviews_rating = pd.io.sql.read_sql(sql=text(avg_review), con=con)\n\n# Отображаем данные\ndisplay(reviews_rating)",
      "metadata": {},
      "outputs": [
        {
          "data": {
            "text/html": [
              "<div>\n",
              "<style scoped>\n",
              "    .dataframe tbody tr th:only-of-type {\n",
              "        vertical-align: middle;\n",
              "    }\n",
              "\n",
              "    .dataframe tbody tr th {\n",
              "        vertical-align: top;\n",
              "    }\n",
              "\n",
              "    .dataframe thead th {\n",
              "        text-align: right;\n",
              "    }\n",
              "</style>\n",
              "<table border=\"1\" class=\"dataframe\">\n",
              "  <thead>\n",
              "    <tr style=\"text-align: right;\">\n",
              "      <th></th>\n",
              "      <th>avg_review</th>\n",
              "    </tr>\n",
              "  </thead>\n",
              "  <tbody>\n",
              "    <tr>\n",
              "      <th>0</th>\n",
              "      <td>1441.602782</td>\n",
              "    </tr>\n",
              "  </tbody>\n",
              "</table>\n",
              "</div>"
            ],
            "text/plain": [
              "    avg_review\n",
              "0  1441.602782"
            ]
          },
          "metadata": {},
          "output_type": "display_data"
        }
      ],
      "execution_count": 6
    },
    {
      "cell_type": "code",
      "source": "avg_review = '''SELECT AVG(reviews_cnt) AS avg_review       \n            \n                  FROM (\n                       SELECT username,\n                              COUNT(review_id) AS reviews_cnt\n                          FROM reviews\n                      GROUP BY username\n                        HAVING username IN (\n                                        SELECT username\n                                        FROM ratings\n                                        GROUP BY username\n                                        HAVING COUNT(rating_id) > 48   \n                                      ) \n                 ) AS reviews_avg '''\ncon = engine.connect()\nreviews_rating = pd.io.sql.read_sql(sql=text(avg_review), con=con)\n\n# Отображаем данные\ndisplay(reviews_rating)",
      "metadata": {},
      "outputs": [
        {
          "data": {
            "text/html": [
              "<div>\n",
              "<style scoped>\n",
              "    .dataframe tbody tr th:only-of-type {\n",
              "        vertical-align: middle;\n",
              "    }\n",
              "\n",
              "    .dataframe tbody tr th {\n",
              "        vertical-align: top;\n",
              "    }\n",
              "\n",
              "    .dataframe thead th {\n",
              "        text-align: right;\n",
              "    }\n",
              "</style>\n",
              "<table border=\"1\" class=\"dataframe\">\n",
              "  <thead>\n",
              "    <tr style=\"text-align: right;\">\n",
              "      <th></th>\n",
              "      <th>avg_review</th>\n",
              "    </tr>\n",
              "  </thead>\n",
              "  <tbody>\n",
              "    <tr>\n",
              "      <th>0</th>\n",
              "      <td>24.0</td>\n",
              "    </tr>\n",
              "  </tbody>\n",
              "</table>\n",
              "</div>"
            ],
            "text/plain": [
              "   avg_review\n",
              "0        24.0"
            ]
          },
          "metadata": {},
          "output_type": "display_data"
        }
      ],
      "execution_count": 7
    },
    {
      "cell_type": "markdown",
      "source": "У пользователей, которые поставили больше 48 оценок в среднем написано по 24 обзора. ",
      "metadata": {}
    },
    {
      "cell_type": "markdown",
      "source": "## Общий вывод",
      "metadata": {}
    },
    {
      "cell_type": "markdown",
      "source": "В разделе ЗНАКОМСТВО С ДАННЫМИ мы познакомились с 5-ю таблицами. Самая многострочная среди них таблица с оценками книг.\n<br>Изучив детально данные и посчитав некоторые параметры наша компания может представить новый сервис для чтения книг по подписке, который предлагает уникальные возможности и преимущественно удовлетворяет потребности современных читателей. Вот ключевые выводы и ценности, которые мы выделили:\n\n1. Широкий выбор современного контента: \n   Из 1000 книг 819 были выпущены после 1 января 2000 года, что подтверждает наш фокус на актуальных и современных произведениях, соответствующих интересам пользователей.\n\n2. Популярные бестселлеры с активным обсуждением: \n   Книга Twilight (Twilight #1) выделяется своим количеством обзоров — 7. Несмотря на среднюю оценку 3.66, это свидетельствует о том, что пользователи активно обсуждают контент, и дают возможность новым читателям легко находить самые обсуждаемые произведения.\n\n3. Разнообразие мнений и оценок: \n   В нашем каталоге есть книги, на которые еще не написаны обзоры, но среди них уже встречаются наивысшие оценки. Это говорит о том, что новинки в нашем сервисе могут стать следующими любимыми книгами для многих читателей.\n\n4. Сильные издательства для качественного контента: \n   С издательством Penguin Books, выпустившим больше всего книг — 42, мы гарантируем наличие качественного и разнообразного контента, который соответствует высоким стандартам.\n\n5. Лучшая литература от известных авторов: \n   Для ценителей качественной литературы, у нас в ассортименте представлены работы таких авторов, как J.K. Rowling/Mary GrandPré, имеющая среднюю оценку 4.29. Это подтверждает наличие высококачественного контента от признанных авторов.\n\n6. Ценность отзывов: \n   Среднее количество обзоров книг, которые написали пользователи с 48 оценками и больше составляет 24 обзора. Это позволяет нашим пользователям принимать более информированные решения при выборе книг, знакомясь с мнением других читателей.\n\nДанный сервис станет обширной платформой для любителей чтения, предоставляя доступ к огромному количеству книг, поддерживая активное взаимодействие и обмен мнениями среди читателей, а также гарантируя качественное чтение от самых известных авторов и издательств.",
      "metadata": {}
    }
  ]
}