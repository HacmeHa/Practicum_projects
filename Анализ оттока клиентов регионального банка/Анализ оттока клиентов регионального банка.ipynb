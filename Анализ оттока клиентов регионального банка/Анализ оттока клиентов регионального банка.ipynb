{
  "metadata": {
    "kernelspec": {
      "name": "python",
      "display_name": "Python (Pyodide)",
      "language": "python"
    },
    "language_info": {
      "codemirror_mode": {
        "name": "python",
        "version": 3
      },
      "file_extension": ".py",
      "mimetype": "text/x-python",
      "name": "python",
      "nbconvert_exporter": "python",
      "pygments_lexer": "ipython3",
      "version": "3.8"
    },
    "ExecuteTimeLog": [
      {
        "duration": 1227,
        "start_time": "2025-01-12T19:41:27.497Z"
      },
      {
        "duration": 78,
        "start_time": "2025-01-12T19:41:28.726Z"
      },
      {
        "duration": 80,
        "start_time": "2025-01-12T19:42:27.124Z"
      },
      {
        "duration": 110,
        "start_time": "2025-01-12T19:44:36.631Z"
      },
      {
        "duration": 3,
        "start_time": "2025-01-12T19:47:32.195Z"
      },
      {
        "duration": 9,
        "start_time": "2025-01-12T19:58:21.940Z"
      },
      {
        "duration": 20,
        "start_time": "2025-01-12T19:59:17.631Z"
      },
      {
        "duration": 4,
        "start_time": "2025-01-12T20:01:38.955Z"
      },
      {
        "duration": 20,
        "start_time": "2025-01-12T20:01:42.598Z"
      },
      {
        "duration": 18,
        "start_time": "2025-01-12T20:03:04.967Z"
      },
      {
        "duration": 10,
        "start_time": "2025-01-12T20:03:48.247Z"
      },
      {
        "duration": 16,
        "start_time": "2025-01-12T20:03:57.385Z"
      },
      {
        "duration": 1073,
        "start_time": "2025-01-12T20:04:19.493Z"
      },
      {
        "duration": 83,
        "start_time": "2025-01-12T20:04:20.567Z"
      },
      {
        "duration": 3,
        "start_time": "2025-01-12T20:04:20.651Z"
      },
      {
        "duration": 35,
        "start_time": "2025-01-12T20:04:20.655Z"
      },
      {
        "duration": 9,
        "start_time": "2025-01-12T20:04:20.691Z"
      },
      {
        "duration": 8,
        "start_time": "2025-01-12T20:04:20.701Z"
      },
      {
        "duration": 19,
        "start_time": "2025-01-12T20:05:02.560Z"
      },
      {
        "duration": 5,
        "start_time": "2025-01-12T20:05:50.883Z"
      },
      {
        "duration": 7,
        "start_time": "2025-01-12T20:05:54.101Z"
      },
      {
        "duration": 10,
        "start_time": "2025-01-12T20:05:58.033Z"
      },
      {
        "duration": 10,
        "start_time": "2025-01-12T20:25:47.790Z"
      },
      {
        "duration": 7,
        "start_time": "2025-01-12T20:26:32.636Z"
      },
      {
        "duration": 9,
        "start_time": "2025-01-12T20:36:28.478Z"
      },
      {
        "duration": 13,
        "start_time": "2025-01-12T20:37:56.039Z"
      },
      {
        "duration": 1077,
        "start_time": "2025-01-12T20:38:50.719Z"
      },
      {
        "duration": 123,
        "start_time": "2025-01-12T20:38:51.797Z"
      },
      {
        "duration": 3,
        "start_time": "2025-01-12T20:38:51.922Z"
      },
      {
        "duration": 19,
        "start_time": "2025-01-12T20:38:51.927Z"
      },
      {
        "duration": 10,
        "start_time": "2025-01-12T20:38:51.947Z"
      },
      {
        "duration": 13,
        "start_time": "2025-01-12T20:38:51.958Z"
      },
      {
        "duration": 8,
        "start_time": "2025-01-12T20:38:51.973Z"
      },
      {
        "duration": 12,
        "start_time": "2025-01-12T20:38:51.983Z"
      },
      {
        "duration": 12,
        "start_time": "2025-01-12T20:38:51.997Z"
      },
      {
        "duration": 12,
        "start_time": "2025-01-12T20:39:30.281Z"
      },
      {
        "duration": 13,
        "start_time": "2025-01-12T20:39:47.843Z"
      },
      {
        "duration": 47,
        "start_time": "2025-01-13T10:54:28.743Z"
      },
      {
        "duration": 1271,
        "start_time": "2025-01-13T10:54:33.892Z"
      },
      {
        "duration": 120,
        "start_time": "2025-01-13T10:54:35.165Z"
      },
      {
        "duration": 3,
        "start_time": "2025-01-13T10:54:35.286Z"
      },
      {
        "duration": 98,
        "start_time": "2025-01-13T10:54:35.291Z"
      },
      {
        "duration": 29,
        "start_time": "2025-01-13T10:54:35.391Z"
      },
      {
        "duration": 11,
        "start_time": "2025-01-13T10:54:35.421Z"
      },
      {
        "duration": 19,
        "start_time": "2025-01-13T10:54:35.434Z"
      },
      {
        "duration": 48,
        "start_time": "2025-01-13T10:54:35.454Z"
      },
      {
        "duration": 26,
        "start_time": "2025-01-13T10:54:35.504Z"
      },
      {
        "duration": 13,
        "start_time": "2025-01-13T10:54:35.532Z"
      },
      {
        "duration": 11034,
        "start_time": "2025-01-13T11:00:06.186Z"
      },
      {
        "duration": 11791,
        "start_time": "2025-01-13T11:00:53.181Z"
      },
      {
        "duration": 116,
        "start_time": "2025-01-13T11:05:17.001Z"
      },
      {
        "duration": 110,
        "start_time": "2025-01-13T11:05:37.945Z"
      },
      {
        "duration": 958,
        "start_time": "2025-01-13T11:05:49.812Z"
      },
      {
        "duration": 107,
        "start_time": "2025-01-13T11:05:56.379Z"
      },
      {
        "duration": 104,
        "start_time": "2025-01-13T11:07:08.912Z"
      },
      {
        "duration": 106,
        "start_time": "2025-01-13T11:07:14.851Z"
      },
      {
        "duration": 107,
        "start_time": "2025-01-13T11:07:22.294Z"
      },
      {
        "duration": 105,
        "start_time": "2025-01-13T11:07:36.524Z"
      },
      {
        "duration": 102,
        "start_time": "2025-01-13T11:07:48.244Z"
      },
      {
        "duration": 94,
        "start_time": "2025-01-13T11:07:56.549Z"
      },
      {
        "duration": 111,
        "start_time": "2025-01-13T11:09:38.455Z"
      },
      {
        "duration": 101,
        "start_time": "2025-01-13T11:09:43.736Z"
      },
      {
        "duration": 5,
        "start_time": "2025-01-13T11:11:42.217Z"
      },
      {
        "duration": 8,
        "start_time": "2025-01-13T11:11:58.169Z"
      },
      {
        "duration": 4,
        "start_time": "2025-01-13T11:12:26.701Z"
      },
      {
        "duration": 4,
        "start_time": "2025-01-13T11:12:37.554Z"
      },
      {
        "duration": 105,
        "start_time": "2025-01-13T11:12:46.698Z"
      },
      {
        "duration": 99,
        "start_time": "2025-01-13T11:12:51.927Z"
      },
      {
        "duration": 8,
        "start_time": "2025-01-13T11:13:09.789Z"
      },
      {
        "duration": 170,
        "start_time": "2025-01-13T11:19:15.580Z"
      },
      {
        "duration": 207,
        "start_time": "2025-01-13T11:21:57.246Z"
      },
      {
        "duration": 613,
        "start_time": "2025-01-13T11:22:16.155Z"
      },
      {
        "duration": 92,
        "start_time": "2025-01-13T11:23:22.167Z"
      },
      {
        "duration": 91,
        "start_time": "2025-01-13T11:23:27.294Z"
      },
      {
        "duration": 265,
        "start_time": "2025-01-13T11:26:31.957Z"
      },
      {
        "duration": 193,
        "start_time": "2025-01-13T11:27:02.778Z"
      },
      {
        "duration": 203,
        "start_time": "2025-01-13T11:27:08.254Z"
      },
      {
        "duration": 98,
        "start_time": "2025-01-13T11:29:47.589Z"
      },
      {
        "duration": 109,
        "start_time": "2025-01-13T11:30:07.926Z"
      },
      {
        "duration": 146,
        "start_time": "2025-01-13T11:33:06.570Z"
      },
      {
        "duration": 54,
        "start_time": "2025-01-14T11:07:39.046Z"
      },
      {
        "duration": 1518,
        "start_time": "2025-01-14T11:07:43.839Z"
      },
      {
        "duration": 132,
        "start_time": "2025-01-14T11:07:45.359Z"
      },
      {
        "duration": 3,
        "start_time": "2025-01-14T11:07:45.492Z"
      },
      {
        "duration": 38,
        "start_time": "2025-01-14T11:07:45.497Z"
      },
      {
        "duration": 17,
        "start_time": "2025-01-14T11:07:45.537Z"
      },
      {
        "duration": 11,
        "start_time": "2025-01-14T11:07:45.556Z"
      },
      {
        "duration": 8,
        "start_time": "2025-01-14T11:07:45.568Z"
      },
      {
        "duration": 15,
        "start_time": "2025-01-14T11:07:45.578Z"
      },
      {
        "duration": 40,
        "start_time": "2025-01-14T11:07:45.594Z"
      },
      {
        "duration": 5,
        "start_time": "2025-01-14T11:07:45.636Z"
      },
      {
        "duration": 159,
        "start_time": "2025-01-14T11:07:45.643Z"
      },
      {
        "duration": 256,
        "start_time": "2025-01-14T11:07:45.804Z"
      },
      {
        "duration": 145,
        "start_time": "2025-01-14T11:07:46.062Z"
      },
      {
        "duration": 184,
        "start_time": "2025-01-14T11:07:46.209Z"
      },
      {
        "duration": 5,
        "start_time": "2025-01-14T11:16:46.941Z"
      },
      {
        "duration": 5,
        "start_time": "2025-01-14T11:16:49.781Z"
      },
      {
        "duration": 180,
        "start_time": "2025-01-14T11:18:52.084Z"
      },
      {
        "duration": 125,
        "start_time": "2025-01-14T11:20:51.028Z"
      },
      {
        "duration": 451,
        "start_time": "2025-01-14T11:20:57.116Z"
      },
      {
        "duration": 207,
        "start_time": "2025-01-14T11:24:38.213Z"
      },
      {
        "duration": 15336,
        "start_time": "2025-01-14T11:51:10.063Z"
      },
      {
        "duration": 188,
        "start_time": "2025-01-14T11:52:53.444Z"
      },
      {
        "duration": 978,
        "start_time": "2025-01-14T12:04:41.741Z"
      },
      {
        "duration": 258,
        "start_time": "2025-01-14T12:07:37.349Z"
      },
      {
        "duration": 1808,
        "start_time": "2025-01-14T12:08:44.404Z"
      },
      {
        "duration": 1277,
        "start_time": "2025-01-14T12:14:03.998Z"
      },
      {
        "duration": 210,
        "start_time": "2025-01-14T12:14:05.277Z"
      },
      {
        "duration": 3,
        "start_time": "2025-01-14T12:14:05.489Z"
      },
      {
        "duration": 45,
        "start_time": "2025-01-14T12:14:05.494Z"
      },
      {
        "duration": 12,
        "start_time": "2025-01-14T12:14:05.540Z"
      },
      {
        "duration": 53,
        "start_time": "2025-01-14T12:14:05.553Z"
      },
      {
        "duration": 46,
        "start_time": "2025-01-14T12:14:05.607Z"
      },
      {
        "duration": 35,
        "start_time": "2025-01-14T12:14:05.654Z"
      },
      {
        "duration": 41,
        "start_time": "2025-01-14T12:14:05.691Z"
      },
      {
        "duration": 18,
        "start_time": "2025-01-14T12:14:05.734Z"
      },
      {
        "duration": 30,
        "start_time": "2025-01-14T12:14:05.754Z"
      },
      {
        "duration": 200,
        "start_time": "2025-01-14T12:14:05.786Z"
      },
      {
        "duration": 256,
        "start_time": "2025-01-14T12:14:05.987Z"
      },
      {
        "duration": 260,
        "start_time": "2025-01-14T12:14:06.245Z"
      },
      {
        "duration": 144,
        "start_time": "2025-01-14T12:14:06.506Z"
      },
      {
        "duration": 188,
        "start_time": "2025-01-14T12:14:06.652Z"
      },
      {
        "duration": 5,
        "start_time": "2025-01-14T12:14:06.841Z"
      },
      {
        "duration": 210,
        "start_time": "2025-01-14T12:14:06.847Z"
      },
      {
        "duration": 122,
        "start_time": "2025-01-14T12:15:33.192Z"
      },
      {
        "duration": 325,
        "start_time": "2025-01-14T12:19:20.614Z"
      },
      {
        "duration": 251,
        "start_time": "2025-01-14T12:22:37.213Z"
      },
      {
        "duration": 284,
        "start_time": "2025-01-14T12:22:43.914Z"
      },
      {
        "duration": 254,
        "start_time": "2025-01-14T12:22:49.478Z"
      },
      {
        "duration": 247,
        "start_time": "2025-01-14T12:22:53.033Z"
      },
      {
        "duration": 186,
        "start_time": "2025-01-14T12:24:41.700Z"
      },
      {
        "duration": 285,
        "start_time": "2025-01-14T12:24:47.477Z"
      },
      {
        "duration": 632,
        "start_time": "2025-01-14T12:29:29.369Z"
      },
      {
        "duration": 676,
        "start_time": "2025-01-14T12:31:08.738Z"
      },
      {
        "duration": 16147,
        "start_time": "2025-01-14T12:31:56.636Z"
      },
      {
        "duration": 393,
        "start_time": "2025-01-14T12:34:21.218Z"
      },
      {
        "duration": 16626,
        "start_time": "2025-01-14T12:35:28.626Z"
      },
      {
        "duration": 5166,
        "start_time": "2025-01-14T12:35:57.305Z"
      },
      {
        "duration": 201,
        "start_time": "2025-01-14T12:36:22.259Z"
      },
      {
        "duration": 4225,
        "start_time": "2025-01-14T12:37:28.128Z"
      },
      {
        "duration": 19416,
        "start_time": "2025-01-14T12:37:53.482Z"
      },
      {
        "duration": 116,
        "start_time": "2025-01-14T12:40:14.233Z"
      },
      {
        "duration": 1668,
        "start_time": "2025-01-14T12:40:18.291Z"
      },
      {
        "duration": 219,
        "start_time": "2025-01-14T12:43:03.794Z"
      },
      {
        "duration": 217,
        "start_time": "2025-01-14T12:43:07.329Z"
      },
      {
        "duration": 5,
        "start_time": "2025-01-14T12:46:24.797Z"
      },
      {
        "duration": 10,
        "start_time": "2025-01-14T12:47:00.753Z"
      },
      {
        "duration": 15,
        "start_time": "2025-01-14T12:48:37.710Z"
      },
      {
        "duration": 686,
        "start_time": "2025-01-14T12:50:36.363Z"
      },
      {
        "duration": 10,
        "start_time": "2025-01-14T12:51:26.269Z"
      },
      {
        "duration": 779,
        "start_time": "2025-01-14T12:51:30.487Z"
      },
      {
        "duration": 276,
        "start_time": "2025-01-14T12:52:38.158Z"
      },
      {
        "duration": 644,
        "start_time": "2025-01-14T12:55:45.119Z"
      },
      {
        "duration": 770,
        "start_time": "2025-01-14T12:57:15.832Z"
      },
      {
        "duration": 662,
        "start_time": "2025-01-14T12:57:58.845Z"
      },
      {
        "duration": 689,
        "start_time": "2025-01-14T12:58:12.373Z"
      },
      {
        "duration": 902,
        "start_time": "2025-01-14T12:58:35.121Z"
      },
      {
        "duration": 710,
        "start_time": "2025-01-14T12:58:38.300Z"
      },
      {
        "duration": 845,
        "start_time": "2025-01-14T13:00:13.262Z"
      },
      {
        "duration": 668,
        "start_time": "2025-01-14T13:00:24.991Z"
      },
      {
        "duration": 116,
        "start_time": "2025-01-14T13:03:42.007Z"
      },
      {
        "duration": 818,
        "start_time": "2025-01-14T13:04:14.587Z"
      },
      {
        "duration": 792,
        "start_time": "2025-01-14T13:04:31.106Z"
      },
      {
        "duration": 983,
        "start_time": "2025-01-14T13:08:25.496Z"
      },
      {
        "duration": 680,
        "start_time": "2025-01-14T13:09:19.949Z"
      },
      {
        "duration": 906,
        "start_time": "2025-01-14T13:09:28.075Z"
      },
      {
        "duration": 721,
        "start_time": "2025-01-14T13:09:49.289Z"
      },
      {
        "duration": 190,
        "start_time": "2025-01-14T13:09:58.761Z"
      },
      {
        "duration": 367,
        "start_time": "2025-01-14T13:10:06.639Z"
      },
      {
        "duration": 698,
        "start_time": "2025-01-14T13:10:19.229Z"
      },
      {
        "duration": 883,
        "start_time": "2025-01-14T13:10:29.500Z"
      },
      {
        "duration": 5,
        "start_time": "2025-01-14T13:10:56.198Z"
      },
      {
        "duration": 5,
        "start_time": "2025-01-14T13:11:00.473Z"
      },
      {
        "duration": 20,
        "start_time": "2025-01-14T13:16:51.936Z"
      },
      {
        "duration": 734,
        "start_time": "2025-01-14T13:24:51.503Z"
      },
      {
        "duration": 8,
        "start_time": "2025-01-14T13:28:41.711Z"
      },
      {
        "duration": 10,
        "start_time": "2025-01-14T13:28:49.686Z"
      },
      {
        "duration": 978,
        "start_time": "2025-01-14T13:37:36.395Z"
      },
      {
        "duration": 9,
        "start_time": "2025-01-14T13:39:52.743Z"
      },
      {
        "duration": 16,
        "start_time": "2025-01-14T13:40:16.121Z"
      },
      {
        "duration": 9,
        "start_time": "2025-01-14T13:41:21.560Z"
      },
      {
        "duration": 9,
        "start_time": "2025-01-14T13:41:31.656Z"
      },
      {
        "duration": 9,
        "start_time": "2025-01-14T13:41:44.512Z"
      },
      {
        "duration": 379,
        "start_time": "2025-01-14T13:43:38.243Z"
      },
      {
        "duration": 173,
        "start_time": "2025-01-14T19:20:58.851Z"
      },
      {
        "duration": 140,
        "start_time": "2025-01-14T19:21:42.718Z"
      },
      {
        "duration": 128,
        "start_time": "2025-01-14T19:21:57.991Z"
      },
      {
        "duration": 146,
        "start_time": "2025-01-14T19:23:21.144Z"
      },
      {
        "duration": 1306,
        "start_time": "2025-01-14T19:25:46.014Z"
      },
      {
        "duration": 105,
        "start_time": "2025-01-14T19:25:47.322Z"
      },
      {
        "duration": 4,
        "start_time": "2025-01-14T19:25:47.428Z"
      },
      {
        "duration": 36,
        "start_time": "2025-01-14T19:25:47.434Z"
      },
      {
        "duration": 17,
        "start_time": "2025-01-14T19:25:47.472Z"
      },
      {
        "duration": 12,
        "start_time": "2025-01-14T19:25:47.491Z"
      },
      {
        "duration": 27,
        "start_time": "2025-01-14T19:25:47.504Z"
      },
      {
        "duration": 12,
        "start_time": "2025-01-14T19:25:47.533Z"
      },
      {
        "duration": 32,
        "start_time": "2025-01-14T19:25:47.546Z"
      },
      {
        "duration": 13,
        "start_time": "2025-01-14T19:25:47.580Z"
      },
      {
        "duration": 6,
        "start_time": "2025-01-14T19:25:47.595Z"
      },
      {
        "duration": 52,
        "start_time": "2025-01-14T19:28:57.909Z"
      },
      {
        "duration": 1334,
        "start_time": "2025-01-14T19:29:28.822Z"
      },
      {
        "duration": 112,
        "start_time": "2025-01-14T19:29:30.159Z"
      },
      {
        "duration": 4,
        "start_time": "2025-01-14T19:29:30.273Z"
      },
      {
        "duration": 45,
        "start_time": "2025-01-14T19:29:30.280Z"
      },
      {
        "duration": 32,
        "start_time": "2025-01-14T19:29:30.327Z"
      },
      {
        "duration": 36,
        "start_time": "2025-01-14T19:29:30.362Z"
      },
      {
        "duration": 18,
        "start_time": "2025-01-14T19:29:30.400Z"
      },
      {
        "duration": 12,
        "start_time": "2025-01-14T19:29:30.419Z"
      },
      {
        "duration": 19,
        "start_time": "2025-01-14T19:29:30.433Z"
      },
      {
        "duration": 23,
        "start_time": "2025-01-14T19:29:30.456Z"
      },
      {
        "duration": 15,
        "start_time": "2025-01-14T19:29:30.481Z"
      },
      {
        "duration": 701,
        "start_time": "2025-01-14T19:29:30.498Z"
      },
      {
        "duration": 165,
        "start_time": "2025-01-14T19:29:31.201Z"
      },
      {
        "duration": 8,
        "start_time": "2025-01-14T19:29:31.368Z"
      },
      {
        "duration": 143,
        "start_time": "2025-01-14T19:29:31.377Z"
      },
      {
        "duration": 241,
        "start_time": "2025-01-14T19:29:31.522Z"
      },
      {
        "duration": 414,
        "start_time": "2025-01-14T19:29:31.765Z"
      },
      {
        "duration": 132,
        "start_time": "2025-01-14T19:29:32.181Z"
      },
      {
        "duration": 222,
        "start_time": "2025-01-14T19:29:32.314Z"
      },
      {
        "duration": 5,
        "start_time": "2025-01-14T19:29:32.537Z"
      },
      {
        "duration": 207,
        "start_time": "2025-01-14T19:29:32.543Z"
      },
      {
        "duration": 112,
        "start_time": "2025-01-14T19:51:51.228Z"
      },
      {
        "duration": 1407,
        "start_time": "2025-01-14T19:52:10.557Z"
      },
      {
        "duration": 0,
        "start_time": "2025-01-14T19:52:11.967Z"
      },
      {
        "duration": 0,
        "start_time": "2025-01-14T19:52:11.968Z"
      },
      {
        "duration": 0,
        "start_time": "2025-01-14T19:52:11.970Z"
      },
      {
        "duration": 0,
        "start_time": "2025-01-14T19:52:11.971Z"
      },
      {
        "duration": 0,
        "start_time": "2025-01-14T19:52:11.972Z"
      },
      {
        "duration": 0,
        "start_time": "2025-01-14T19:52:11.974Z"
      },
      {
        "duration": 0,
        "start_time": "2025-01-14T19:52:11.975Z"
      },
      {
        "duration": 0,
        "start_time": "2025-01-14T19:52:11.976Z"
      },
      {
        "duration": 0,
        "start_time": "2025-01-14T19:52:11.978Z"
      },
      {
        "duration": 0,
        "start_time": "2025-01-14T19:52:11.979Z"
      },
      {
        "duration": 0,
        "start_time": "2025-01-14T19:52:11.981Z"
      },
      {
        "duration": 0,
        "start_time": "2025-01-14T19:52:11.982Z"
      },
      {
        "duration": 0,
        "start_time": "2025-01-14T19:52:11.983Z"
      },
      {
        "duration": 0,
        "start_time": "2025-01-14T19:52:11.984Z"
      },
      {
        "duration": 0,
        "start_time": "2025-01-14T19:52:11.986Z"
      },
      {
        "duration": 0,
        "start_time": "2025-01-14T19:52:11.987Z"
      },
      {
        "duration": 0,
        "start_time": "2025-01-14T19:52:11.988Z"
      },
      {
        "duration": 0,
        "start_time": "2025-01-14T19:52:11.989Z"
      },
      {
        "duration": 0,
        "start_time": "2025-01-14T19:52:11.990Z"
      },
      {
        "duration": 0,
        "start_time": "2025-01-14T19:52:12.031Z"
      },
      {
        "duration": 0,
        "start_time": "2025-01-14T19:52:12.032Z"
      },
      {
        "duration": 10,
        "start_time": "2025-01-14T19:55:03.512Z"
      },
      {
        "duration": 103,
        "start_time": "2025-01-14T19:56:18.609Z"
      },
      {
        "duration": 3677,
        "start_time": "2025-01-14T19:56:25.828Z"
      },
      {
        "duration": 3935,
        "start_time": "2025-01-14T19:56:54.685Z"
      },
      {
        "duration": 113,
        "start_time": "2025-01-14T19:56:58.623Z"
      },
      {
        "duration": 4,
        "start_time": "2025-01-14T19:56:58.737Z"
      },
      {
        "duration": 32,
        "start_time": "2025-01-14T19:56:58.743Z"
      },
      {
        "duration": 15,
        "start_time": "2025-01-14T19:56:58.777Z"
      },
      {
        "duration": 40,
        "start_time": "2025-01-14T19:56:58.794Z"
      },
      {
        "duration": 7,
        "start_time": "2025-01-14T19:56:58.836Z"
      },
      {
        "duration": 19,
        "start_time": "2025-01-14T19:56:58.845Z"
      },
      {
        "duration": 6,
        "start_time": "2025-01-14T19:56:58.865Z"
      },
      {
        "duration": 16,
        "start_time": "2025-01-14T19:56:58.873Z"
      },
      {
        "duration": 28,
        "start_time": "2025-01-14T19:56:58.890Z"
      },
      {
        "duration": 756,
        "start_time": "2025-01-14T19:56:58.919Z"
      },
      {
        "duration": 581,
        "start_time": "2025-01-14T19:56:59.677Z"
      },
      {
        "duration": 7,
        "start_time": "2025-01-14T19:57:00.260Z"
      },
      {
        "duration": 181,
        "start_time": "2025-01-14T19:57:00.269Z"
      },
      {
        "duration": 348,
        "start_time": "2025-01-14T19:57:00.452Z"
      },
      {
        "duration": 329,
        "start_time": "2025-01-14T19:57:00.801Z"
      },
      {
        "duration": 131,
        "start_time": "2025-01-14T19:57:01.131Z"
      },
      {
        "duration": 228,
        "start_time": "2025-01-14T19:57:01.264Z"
      },
      {
        "duration": 4,
        "start_time": "2025-01-14T19:57:01.495Z"
      },
      {
        "duration": 210,
        "start_time": "2025-01-14T19:57:01.501Z"
      },
      {
        "duration": 189,
        "start_time": "2025-01-14T19:57:01.712Z"
      },
      {
        "duration": 5,
        "start_time": "2025-01-14T20:02:11.025Z"
      },
      {
        "duration": 88,
        "start_time": "2025-01-14T20:02:30.465Z"
      },
      {
        "duration": 102,
        "start_time": "2025-01-14T20:03:02.490Z"
      },
      {
        "duration": 401,
        "start_time": "2025-01-14T20:03:40.228Z"
      },
      {
        "duration": 358,
        "start_time": "2025-01-14T20:11:37.110Z"
      },
      {
        "duration": 1070,
        "start_time": "2025-01-14T20:12:56.796Z"
      },
      {
        "duration": 240,
        "start_time": "2025-01-14T20:19:38.393Z"
      },
      {
        "duration": 826,
        "start_time": "2025-01-14T20:21:25.837Z"
      },
      {
        "duration": 838,
        "start_time": "2025-01-14T20:22:11.030Z"
      },
      {
        "duration": 939,
        "start_time": "2025-01-14T20:25:53.136Z"
      },
      {
        "duration": 8,
        "start_time": "2025-01-14T20:28:15.672Z"
      },
      {
        "duration": 170,
        "start_time": "2025-01-14T20:37:23.744Z"
      },
      {
        "duration": 166,
        "start_time": "2025-01-14T21:04:42.722Z"
      },
      {
        "duration": 150,
        "start_time": "2025-01-14T21:05:11.125Z"
      },
      {
        "duration": 489,
        "start_time": "2025-01-14T21:16:40.021Z"
      },
      {
        "duration": 589,
        "start_time": "2025-01-14T21:16:58.825Z"
      },
      {
        "duration": 312,
        "start_time": "2025-01-14T21:17:37.498Z"
      },
      {
        "duration": 309,
        "start_time": "2025-01-14T21:17:52.215Z"
      },
      {
        "duration": 352,
        "start_time": "2025-01-14T21:18:47.230Z"
      },
      {
        "duration": 333,
        "start_time": "2025-01-14T21:18:54.318Z"
      },
      {
        "duration": 332,
        "start_time": "2025-01-14T21:23:13.000Z"
      },
      {
        "duration": 298,
        "start_time": "2025-01-14T21:25:03.589Z"
      },
      {
        "duration": 858,
        "start_time": "2025-01-14T21:31:01.797Z"
      },
      {
        "duration": 4870,
        "start_time": "2025-01-15T11:37:57.280Z"
      },
      {
        "duration": 181,
        "start_time": "2025-01-15T11:38:02.152Z"
      },
      {
        "duration": 3,
        "start_time": "2025-01-15T11:38:02.335Z"
      },
      {
        "duration": 46,
        "start_time": "2025-01-15T11:38:02.339Z"
      },
      {
        "duration": 10,
        "start_time": "2025-01-15T11:38:02.387Z"
      },
      {
        "duration": 23,
        "start_time": "2025-01-15T11:38:02.398Z"
      },
      {
        "duration": 32,
        "start_time": "2025-01-15T11:38:02.422Z"
      },
      {
        "duration": 100,
        "start_time": "2025-01-15T11:38:02.455Z"
      },
      {
        "duration": 7,
        "start_time": "2025-01-15T11:38:02.556Z"
      },
      {
        "duration": 10,
        "start_time": "2025-01-15T11:38:02.565Z"
      },
      {
        "duration": 6,
        "start_time": "2025-01-15T11:38:02.577Z"
      },
      {
        "duration": 792,
        "start_time": "2025-01-15T11:38:02.585Z"
      },
      {
        "duration": 286,
        "start_time": "2025-01-15T11:38:03.379Z"
      },
      {
        "duration": 380,
        "start_time": "2025-01-15T11:38:03.667Z"
      },
      {
        "duration": 158,
        "start_time": "2025-01-15T11:38:04.054Z"
      },
      {
        "duration": 169,
        "start_time": "2025-01-15T11:38:04.214Z"
      },
      {
        "duration": 225,
        "start_time": "2025-01-15T11:38:04.384Z"
      },
      {
        "duration": 763,
        "start_time": "2025-01-15T11:38:04.610Z"
      },
      {
        "duration": 912,
        "start_time": "2025-01-15T11:38:05.375Z"
      },
      {
        "duration": 101,
        "start_time": "2025-01-15T11:38:06.288Z"
      },
      {
        "duration": 0,
        "start_time": "2025-01-15T11:38:06.391Z"
      },
      {
        "duration": 0,
        "start_time": "2025-01-15T11:38:06.392Z"
      },
      {
        "duration": 26,
        "start_time": "2025-01-15T11:38:59.379Z"
      },
      {
        "duration": 407,
        "start_time": "2025-01-15T11:39:57.766Z"
      },
      {
        "duration": 13,
        "start_time": "2025-01-15T11:40:34.228Z"
      },
      {
        "duration": 326,
        "start_time": "2025-01-15T11:42:14.912Z"
      },
      {
        "duration": 3489,
        "start_time": "2025-01-15T11:51:49.757Z"
      },
      {
        "duration": 131,
        "start_time": "2025-01-15T11:51:53.248Z"
      },
      {
        "duration": 3,
        "start_time": "2025-01-15T11:51:53.381Z"
      },
      {
        "duration": 35,
        "start_time": "2025-01-15T11:51:53.385Z"
      },
      {
        "duration": 10,
        "start_time": "2025-01-15T11:51:53.422Z"
      },
      {
        "duration": 9,
        "start_time": "2025-01-15T11:51:53.433Z"
      },
      {
        "duration": 15,
        "start_time": "2025-01-15T11:51:53.443Z"
      },
      {
        "duration": 9,
        "start_time": "2025-01-15T11:51:53.460Z"
      },
      {
        "duration": 6,
        "start_time": "2025-01-15T11:51:53.471Z"
      },
      {
        "duration": 11,
        "start_time": "2025-01-15T11:51:53.479Z"
      },
      {
        "duration": 6,
        "start_time": "2025-01-15T11:51:53.492Z"
      },
      {
        "duration": 938,
        "start_time": "2025-01-15T11:51:53.499Z"
      },
      {
        "duration": 293,
        "start_time": "2025-01-15T11:51:54.440Z"
      },
      {
        "duration": 379,
        "start_time": "2025-01-15T11:51:54.734Z"
      },
      {
        "duration": 158,
        "start_time": "2025-01-15T11:51:55.114Z"
      },
      {
        "duration": 165,
        "start_time": "2025-01-15T11:51:55.274Z"
      },
      {
        "duration": 196,
        "start_time": "2025-01-15T11:51:55.441Z"
      },
      {
        "duration": 740,
        "start_time": "2025-01-15T11:51:55.639Z"
      },
      {
        "duration": 862,
        "start_time": "2025-01-15T11:51:56.380Z"
      },
      {
        "duration": 419,
        "start_time": "2025-01-15T11:51:57.244Z"
      },
      {
        "duration": 142,
        "start_time": "2025-01-15T11:51:57.664Z"
      },
      {
        "duration": 177,
        "start_time": "2025-01-15T11:51:57.808Z"
      },
      {
        "duration": 109,
        "start_time": "2025-01-15T12:35:08.578Z"
      },
      {
        "duration": 8,
        "start_time": "2025-01-15T12:35:16.734Z"
      },
      {
        "duration": 8,
        "start_time": "2025-01-15T12:35:37.627Z"
      },
      {
        "duration": 9,
        "start_time": "2025-01-15T12:42:11.379Z"
      },
      {
        "duration": 9,
        "start_time": "2025-01-15T12:43:47.168Z"
      },
      {
        "duration": 12,
        "start_time": "2025-01-15T12:58:40.719Z"
      },
      {
        "duration": 13,
        "start_time": "2025-01-15T12:58:48.938Z"
      },
      {
        "duration": 13,
        "start_time": "2025-01-15T13:13:56.278Z"
      },
      {
        "duration": 2877,
        "start_time": "2025-01-15T13:14:27.604Z"
      },
      {
        "duration": 4186,
        "start_time": "2025-01-15T13:14:37.047Z"
      },
      {
        "duration": 284,
        "start_time": "2025-01-15T13:14:41.235Z"
      },
      {
        "duration": 4,
        "start_time": "2025-01-15T13:14:41.520Z"
      },
      {
        "duration": 52,
        "start_time": "2025-01-15T13:14:41.526Z"
      },
      {
        "duration": 13,
        "start_time": "2025-01-15T13:14:41.580Z"
      },
      {
        "duration": 10,
        "start_time": "2025-01-15T13:14:41.594Z"
      },
      {
        "duration": 7,
        "start_time": "2025-01-15T13:14:41.605Z"
      },
      {
        "duration": 11,
        "start_time": "2025-01-15T13:14:41.613Z"
      },
      {
        "duration": 5,
        "start_time": "2025-01-15T13:14:41.625Z"
      },
      {
        "duration": 34,
        "start_time": "2025-01-15T13:14:41.632Z"
      },
      {
        "duration": 13,
        "start_time": "2025-01-15T13:14:41.668Z"
      },
      {
        "duration": 1005,
        "start_time": "2025-01-15T13:14:41.683Z"
      },
      {
        "duration": 333,
        "start_time": "2025-01-15T13:14:42.690Z"
      },
      {
        "duration": 337,
        "start_time": "2025-01-15T13:14:43.024Z"
      },
      {
        "duration": 175,
        "start_time": "2025-01-15T13:14:43.363Z"
      },
      {
        "duration": 195,
        "start_time": "2025-01-15T13:14:43.539Z"
      },
      {
        "duration": 245,
        "start_time": "2025-01-15T13:14:43.736Z"
      },
      {
        "duration": 954,
        "start_time": "2025-01-15T13:14:43.985Z"
      },
      {
        "duration": 1040,
        "start_time": "2025-01-15T13:14:44.941Z"
      },
      {
        "duration": 333,
        "start_time": "2025-01-15T13:14:45.984Z"
      },
      {
        "duration": 8,
        "start_time": "2025-01-15T13:14:46.319Z"
      },
      {
        "duration": 37,
        "start_time": "2025-01-15T13:14:46.328Z"
      },
      {
        "duration": 584,
        "start_time": "2025-01-15T13:14:46.376Z"
      },
      {
        "duration": 9,
        "start_time": "2025-01-15T13:17:38.893Z"
      },
      {
        "duration": 9,
        "start_time": "2025-01-15T13:17:59.048Z"
      },
      {
        "duration": 10,
        "start_time": "2025-01-15T13:18:08.377Z"
      },
      {
        "duration": 12,
        "start_time": "2025-01-15T13:18:14.461Z"
      },
      {
        "duration": 10,
        "start_time": "2025-01-15T13:18:57.845Z"
      },
      {
        "duration": 7,
        "start_time": "2025-01-15T13:42:56.315Z"
      },
      {
        "duration": 135,
        "start_time": "2025-01-15T14:06:35.781Z"
      },
      {
        "duration": 19,
        "start_time": "2025-01-15T14:11:04.311Z"
      },
      {
        "duration": 14,
        "start_time": "2025-01-15T14:11:58.153Z"
      },
      {
        "duration": 32,
        "start_time": "2025-01-15T14:13:29.752Z"
      },
      {
        "duration": 23,
        "start_time": "2025-01-15T14:13:38.677Z"
      },
      {
        "duration": 17,
        "start_time": "2025-01-15T14:16:14.951Z"
      },
      {
        "duration": 945,
        "start_time": "2025-01-15T14:16:31.747Z"
      },
      {
        "duration": 22,
        "start_time": "2025-01-15T14:19:24.209Z"
      },
      {
        "duration": 921,
        "start_time": "2025-01-15T14:19:32.563Z"
      },
      {
        "duration": 5,
        "start_time": "2025-01-15T14:22:18.743Z"
      },
      {
        "duration": 9,
        "start_time": "2025-01-15T14:22:22.209Z"
      },
      {
        "duration": 1495,
        "start_time": "2025-01-15T14:24:05.068Z"
      },
      {
        "duration": 1092,
        "start_time": "2025-01-15T14:26:40.600Z"
      },
      {
        "duration": 60,
        "start_time": "2025-01-15T19:35:04.358Z"
      },
      {
        "duration": 5196,
        "start_time": "2025-01-15T19:35:13.289Z"
      },
      {
        "duration": 106,
        "start_time": "2025-01-15T19:35:18.487Z"
      },
      {
        "duration": 4,
        "start_time": "2025-01-15T19:35:18.594Z"
      },
      {
        "duration": 20,
        "start_time": "2025-01-15T19:35:18.599Z"
      },
      {
        "duration": 9,
        "start_time": "2025-01-15T19:35:18.621Z"
      },
      {
        "duration": 36,
        "start_time": "2025-01-15T19:35:18.631Z"
      },
      {
        "duration": 8,
        "start_time": "2025-01-15T19:35:18.668Z"
      },
      {
        "duration": 28,
        "start_time": "2025-01-15T19:35:18.677Z"
      },
      {
        "duration": 5,
        "start_time": "2025-01-15T19:35:18.707Z"
      },
      {
        "duration": 18,
        "start_time": "2025-01-15T19:35:18.714Z"
      },
      {
        "duration": 6,
        "start_time": "2025-01-15T19:35:18.733Z"
      },
      {
        "duration": 849,
        "start_time": "2025-01-15T19:35:18.740Z"
      },
      {
        "duration": 285,
        "start_time": "2025-01-15T19:35:19.590Z"
      },
      {
        "duration": 300,
        "start_time": "2025-01-15T19:35:19.876Z"
      },
      {
        "duration": 148,
        "start_time": "2025-01-15T19:35:20.177Z"
      },
      {
        "duration": 166,
        "start_time": "2025-01-15T19:35:20.326Z"
      },
      {
        "duration": 194,
        "start_time": "2025-01-15T19:35:20.494Z"
      },
      {
        "duration": 806,
        "start_time": "2025-01-15T19:35:20.690Z"
      },
      {
        "duration": 865,
        "start_time": "2025-01-15T19:35:21.497Z"
      },
      {
        "duration": 311,
        "start_time": "2025-01-15T19:35:22.364Z"
      },
      {
        "duration": 8,
        "start_time": "2025-01-15T19:35:22.677Z"
      },
      {
        "duration": 15,
        "start_time": "2025-01-15T19:35:22.686Z"
      },
      {
        "duration": 1001,
        "start_time": "2025-01-15T19:35:22.702Z"
      },
      {
        "duration": 1560,
        "start_time": "2025-01-15T19:35:23.705Z"
      },
      {
        "duration": 22,
        "start_time": "2025-01-15T19:35:36.814Z"
      },
      {
        "duration": 9,
        "start_time": "2025-01-15T19:42:28.983Z"
      },
      {
        "duration": 10,
        "start_time": "2025-01-15T19:43:48.160Z"
      },
      {
        "duration": 10,
        "start_time": "2025-01-15T19:51:30.592Z"
      },
      {
        "duration": 183,
        "start_time": "2025-01-15T20:06:45.922Z"
      },
      {
        "duration": 196,
        "start_time": "2025-01-15T20:08:40.177Z"
      },
      {
        "duration": 143,
        "start_time": "2025-01-15T20:12:49.444Z"
      },
      {
        "duration": 139,
        "start_time": "2025-01-15T20:13:07.506Z"
      },
      {
        "duration": 140,
        "start_time": "2025-01-15T20:13:43.475Z"
      },
      {
        "duration": 473,
        "start_time": "2025-01-15T20:15:53.410Z"
      },
      {
        "duration": 5119,
        "start_time": "2025-01-16T10:06:43.805Z"
      },
      {
        "duration": 114,
        "start_time": "2025-01-16T10:06:48.926Z"
      },
      {
        "duration": 3,
        "start_time": "2025-01-16T10:06:49.042Z"
      },
      {
        "duration": 24,
        "start_time": "2025-01-16T10:06:49.047Z"
      },
      {
        "duration": 11,
        "start_time": "2025-01-16T10:06:49.073Z"
      },
      {
        "duration": 11,
        "start_time": "2025-01-16T10:06:49.085Z"
      },
      {
        "duration": 9,
        "start_time": "2025-01-16T10:06:49.098Z"
      },
      {
        "duration": 11,
        "start_time": "2025-01-16T10:06:49.138Z"
      },
      {
        "duration": 5,
        "start_time": "2025-01-16T10:06:49.151Z"
      },
      {
        "duration": 12,
        "start_time": "2025-01-16T10:06:49.159Z"
      },
      {
        "duration": 5,
        "start_time": "2025-01-16T10:06:49.173Z"
      },
      {
        "duration": 926,
        "start_time": "2025-01-16T10:06:49.180Z"
      },
      {
        "duration": 306,
        "start_time": "2025-01-16T10:06:50.108Z"
      },
      {
        "duration": 315,
        "start_time": "2025-01-16T10:06:50.416Z"
      },
      {
        "duration": 162,
        "start_time": "2025-01-16T10:06:50.736Z"
      },
      {
        "duration": 179,
        "start_time": "2025-01-16T10:06:50.900Z"
      },
      {
        "duration": 207,
        "start_time": "2025-01-16T10:06:51.081Z"
      },
      {
        "duration": 893,
        "start_time": "2025-01-16T10:06:51.290Z"
      },
      {
        "duration": 213,
        "start_time": "2025-01-16T10:06:52.185Z"
      },
      {
        "duration": 162,
        "start_time": "2025-01-16T10:06:52.400Z"
      },
      {
        "duration": 938,
        "start_time": "2025-01-16T10:06:52.564Z"
      },
      {
        "duration": 351,
        "start_time": "2025-01-16T10:06:53.504Z"
      },
      {
        "duration": 8,
        "start_time": "2025-01-16T10:06:53.857Z"
      },
      {
        "duration": 11,
        "start_time": "2025-01-16T10:06:53.867Z"
      },
      {
        "duration": 18,
        "start_time": "2025-01-16T10:06:53.879Z"
      },
      {
        "duration": 1013,
        "start_time": "2025-01-16T10:06:53.898Z"
      },
      {
        "duration": 28,
        "start_time": "2025-01-16T10:06:54.913Z"
      },
      {
        "duration": 12,
        "start_time": "2025-01-16T10:06:54.945Z"
      },
      {
        "duration": 14,
        "start_time": "2025-01-16T10:06:54.958Z"
      },
      {
        "duration": 9,
        "start_time": "2025-01-16T10:09:58.025Z"
      },
      {
        "duration": 9,
        "start_time": "2025-01-16T10:10:04.002Z"
      },
      {
        "duration": 12,
        "start_time": "2025-01-16T10:10:26.813Z"
      },
      {
        "duration": 10,
        "start_time": "2025-01-16T10:10:41.522Z"
      },
      {
        "duration": 9,
        "start_time": "2025-01-16T10:10:51.201Z"
      },
      {
        "duration": 8,
        "start_time": "2025-01-16T10:44:24.425Z"
      },
      {
        "duration": 2476,
        "start_time": "2025-01-16T10:55:32.471Z"
      },
      {
        "duration": 1515,
        "start_time": "2025-01-16T10:56:41.374Z"
      },
      {
        "duration": 9,
        "start_time": "2025-01-16T10:56:52.943Z"
      },
      {
        "duration": 16,
        "start_time": "2025-01-16T10:58:35.588Z"
      },
      {
        "duration": 20,
        "start_time": "2025-01-16T10:59:22.504Z"
      },
      {
        "duration": 1098,
        "start_time": "2025-01-16T10:59:35.558Z"
      },
      {
        "duration": 1060,
        "start_time": "2025-01-16T11:00:20.139Z"
      },
      {
        "duration": 8,
        "start_time": "2025-01-16T11:02:09.157Z"
      },
      {
        "duration": 16,
        "start_time": "2025-01-16T11:02:33.796Z"
      },
      {
        "duration": 1619,
        "start_time": "2025-01-16T11:03:00.978Z"
      },
      {
        "duration": 8,
        "start_time": "2025-01-16T11:03:10.840Z"
      },
      {
        "duration": 8,
        "start_time": "2025-01-16T11:06:05.225Z"
      },
      {
        "duration": 6,
        "start_time": "2025-01-16T11:07:38.717Z"
      },
      {
        "duration": 8,
        "start_time": "2025-01-16T11:07:57.262Z"
      },
      {
        "duration": 14,
        "start_time": "2025-01-16T11:11:46.945Z"
      },
      {
        "duration": 2470,
        "start_time": "2025-01-16T11:12:09.904Z"
      },
      {
        "duration": 11,
        "start_time": "2025-01-16T11:12:16.699Z"
      },
      {
        "duration": 9,
        "start_time": "2025-01-16T11:14:50.156Z"
      },
      {
        "duration": 2492,
        "start_time": "2025-01-16T11:21:12.022Z"
      },
      {
        "duration": 15,
        "start_time": "2025-01-16T11:21:21.732Z"
      },
      {
        "duration": 12,
        "start_time": "2025-01-16T11:22:25.316Z"
      },
      {
        "duration": 11,
        "start_time": "2025-01-16T11:22:53.123Z"
      },
      {
        "duration": 15,
        "start_time": "2025-01-16T11:23:58.781Z"
      },
      {
        "duration": 22,
        "start_time": "2025-01-16T11:25:41.451Z"
      },
      {
        "duration": 10,
        "start_time": "2025-01-16T11:25:47.441Z"
      },
      {
        "duration": 5,
        "start_time": "2025-01-16T11:27:18.412Z"
      },
      {
        "duration": 13,
        "start_time": "2025-01-16T11:29:12.074Z"
      },
      {
        "duration": 20,
        "start_time": "2025-01-16T11:29:58.215Z"
      },
      {
        "duration": 16,
        "start_time": "2025-01-16T11:30:08.274Z"
      },
      {
        "duration": 15,
        "start_time": "2025-01-16T11:34:44.207Z"
      },
      {
        "duration": 15,
        "start_time": "2025-01-16T11:34:57.865Z"
      },
      {
        "duration": 14,
        "start_time": "2025-01-16T11:36:16.676Z"
      },
      {
        "duration": 6,
        "start_time": "2025-01-16T11:38:20.215Z"
      },
      {
        "duration": 20,
        "start_time": "2025-01-16T11:39:40.437Z"
      },
      {
        "duration": 16,
        "start_time": "2025-01-16T11:39:53.026Z"
      },
      {
        "duration": 14,
        "start_time": "2025-01-16T11:44:30.276Z"
      },
      {
        "duration": 418,
        "start_time": "2025-01-16T12:09:35.645Z"
      },
      {
        "duration": 16,
        "start_time": "2025-01-16T19:39:08.658Z"
      },
      {
        "duration": 5,
        "start_time": "2025-01-16T19:47:06.382Z"
      },
      {
        "duration": 16,
        "start_time": "2025-01-16T20:00:07.270Z"
      },
      {
        "duration": 22,
        "start_time": "2025-01-16T20:00:16.244Z"
      },
      {
        "duration": 14,
        "start_time": "2025-01-16T20:01:56.957Z"
      },
      {
        "duration": 7,
        "start_time": "2025-01-16T20:02:43.403Z"
      },
      {
        "duration": 13,
        "start_time": "2025-01-16T20:02:52.596Z"
      },
      {
        "duration": 15,
        "start_time": "2025-01-16T20:03:13.356Z"
      },
      {
        "duration": 823,
        "start_time": "2025-01-16T20:19:43.148Z"
      },
      {
        "duration": 304,
        "start_time": "2025-01-16T20:24:54.089Z"
      },
      {
        "duration": 312,
        "start_time": "2025-01-16T20:25:44.733Z"
      },
      {
        "duration": 317,
        "start_time": "2025-01-16T20:26:11.841Z"
      },
      {
        "duration": 47,
        "start_time": "2025-01-16T20:30:22.759Z"
      },
      {
        "duration": 15,
        "start_time": "2025-01-16T20:30:46.788Z"
      },
      {
        "duration": 15,
        "start_time": "2025-01-16T20:31:38.671Z"
      },
      {
        "duration": 9,
        "start_time": "2025-01-16T20:31:52.671Z"
      },
      {
        "duration": 18,
        "start_time": "2025-01-16T20:32:02.728Z"
      },
      {
        "duration": 8,
        "start_time": "2025-01-16T20:34:42.003Z"
      },
      {
        "duration": 15,
        "start_time": "2025-01-16T20:34:52.177Z"
      },
      {
        "duration": 14,
        "start_time": "2025-01-16T20:35:16.191Z"
      },
      {
        "duration": 14,
        "start_time": "2025-01-16T20:35:44.000Z"
      },
      {
        "duration": 16,
        "start_time": "2025-01-16T20:37:32.702Z"
      },
      {
        "duration": 13,
        "start_time": "2025-01-16T20:37:55.794Z"
      },
      {
        "duration": 85,
        "start_time": "2025-01-16T20:39:57.565Z"
      },
      {
        "duration": 89,
        "start_time": "2025-01-16T20:40:06.155Z"
      },
      {
        "duration": 134,
        "start_time": "2025-01-16T20:40:27.507Z"
      },
      {
        "duration": 150,
        "start_time": "2025-01-16T20:40:40.365Z"
      },
      {
        "duration": 97,
        "start_time": "2025-01-16T20:40:51.703Z"
      },
      {
        "duration": 9,
        "start_time": "2025-01-16T20:40:58.563Z"
      },
      {
        "duration": 19,
        "start_time": "2025-01-16T20:41:28.243Z"
      },
      {
        "duration": 17,
        "start_time": "2025-01-16T20:41:47.655Z"
      },
      {
        "duration": 55,
        "start_time": "2025-01-17T10:45:15.841Z"
      },
      {
        "duration": 5807,
        "start_time": "2025-01-17T10:45:20.478Z"
      },
      {
        "duration": 150,
        "start_time": "2025-01-17T10:45:26.287Z"
      },
      {
        "duration": 4,
        "start_time": "2025-01-17T10:45:26.441Z"
      },
      {
        "duration": 25,
        "start_time": "2025-01-17T10:45:26.446Z"
      },
      {
        "duration": 12,
        "start_time": "2025-01-17T10:45:26.472Z"
      },
      {
        "duration": 10,
        "start_time": "2025-01-17T10:45:26.486Z"
      },
      {
        "duration": 38,
        "start_time": "2025-01-17T10:45:26.498Z"
      },
      {
        "duration": 22,
        "start_time": "2025-01-17T10:45:26.538Z"
      },
      {
        "duration": 7,
        "start_time": "2025-01-17T10:45:26.563Z"
      },
      {
        "duration": 42,
        "start_time": "2025-01-17T10:45:26.573Z"
      },
      {
        "duration": 6,
        "start_time": "2025-01-17T10:45:26.617Z"
      },
      {
        "duration": 1007,
        "start_time": "2025-01-17T10:45:26.625Z"
      },
      {
        "duration": 329,
        "start_time": "2025-01-17T10:45:27.633Z"
      },
      {
        "duration": 351,
        "start_time": "2025-01-17T10:45:27.964Z"
      },
      {
        "duration": 203,
        "start_time": "2025-01-17T10:45:28.317Z"
      },
      {
        "duration": 192,
        "start_time": "2025-01-17T10:45:28.530Z"
      },
      {
        "duration": 349,
        "start_time": "2025-01-17T10:45:28.724Z"
      },
      {
        "duration": 360,
        "start_time": "2025-01-17T10:45:29.075Z"
      },
      {
        "duration": 169,
        "start_time": "2025-01-17T10:45:29.437Z"
      },
      {
        "duration": 991,
        "start_time": "2025-01-17T10:45:29.608Z"
      },
      {
        "duration": 372,
        "start_time": "2025-01-17T10:45:30.601Z"
      },
      {
        "duration": 14,
        "start_time": "2025-01-17T10:45:30.976Z"
      },
      {
        "duration": 48,
        "start_time": "2025-01-17T10:45:30.992Z"
      },
      {
        "duration": 36,
        "start_time": "2025-01-17T10:45:31.042Z"
      },
      {
        "duration": 28,
        "start_time": "2025-01-17T10:45:31.080Z"
      },
      {
        "duration": 18,
        "start_time": "2025-01-17T10:45:31.110Z"
      },
      {
        "duration": 20,
        "start_time": "2025-01-17T10:45:31.132Z"
      },
      {
        "duration": 20,
        "start_time": "2025-01-17T10:45:31.154Z"
      },
      {
        "duration": 178,
        "start_time": "2025-01-17T10:53:10.277Z"
      },
      {
        "duration": 278,
        "start_time": "2025-01-17T10:56:15.399Z"
      },
      {
        "duration": 255,
        "start_time": "2025-01-17T10:56:58.627Z"
      },
      {
        "duration": 877,
        "start_time": "2025-01-17T10:58:37.203Z"
      },
      {
        "duration": 248,
        "start_time": "2025-01-17T11:08:21.523Z"
      },
      {
        "duration": 222,
        "start_time": "2025-01-17T11:11:21.245Z"
      },
      {
        "duration": 582,
        "start_time": "2025-01-17T11:15:40.344Z"
      },
      {
        "duration": 583,
        "start_time": "2025-01-17T11:16:07.142Z"
      },
      {
        "duration": 1585,
        "start_time": "2025-01-17T11:20:50.966Z"
      },
      {
        "duration": 1413,
        "start_time": "2025-01-17T11:21:43.155Z"
      },
      {
        "duration": 10,
        "start_time": "2025-01-17T11:22:14.361Z"
      },
      {
        "duration": 1520,
        "start_time": "2025-01-17T11:22:28.415Z"
      },
      {
        "duration": 4242,
        "start_time": "2025-01-17T11:22:34.950Z"
      },
      {
        "duration": 107,
        "start_time": "2025-01-17T11:22:39.194Z"
      },
      {
        "duration": 3,
        "start_time": "2025-01-17T11:22:39.303Z"
      },
      {
        "duration": 31,
        "start_time": "2025-01-17T11:22:39.308Z"
      },
      {
        "duration": 12,
        "start_time": "2025-01-17T11:22:39.341Z"
      },
      {
        "duration": 11,
        "start_time": "2025-01-17T11:22:39.355Z"
      },
      {
        "duration": 12,
        "start_time": "2025-01-17T11:22:39.368Z"
      },
      {
        "duration": 37,
        "start_time": "2025-01-17T11:22:39.381Z"
      },
      {
        "duration": 10,
        "start_time": "2025-01-17T11:22:39.420Z"
      },
      {
        "duration": 13,
        "start_time": "2025-01-17T11:22:39.433Z"
      },
      {
        "duration": 6,
        "start_time": "2025-01-17T11:22:39.448Z"
      },
      {
        "duration": 1013,
        "start_time": "2025-01-17T11:22:39.456Z"
      },
      {
        "duration": 326,
        "start_time": "2025-01-17T11:22:40.471Z"
      },
      {
        "duration": 342,
        "start_time": "2025-01-17T11:22:40.798Z"
      },
      {
        "duration": 182,
        "start_time": "2025-01-17T11:22:41.142Z"
      },
      {
        "duration": 192,
        "start_time": "2025-01-17T11:22:41.330Z"
      },
      {
        "duration": 339,
        "start_time": "2025-01-17T11:22:41.524Z"
      },
      {
        "duration": 347,
        "start_time": "2025-01-17T11:22:41.865Z"
      },
      {
        "duration": 173,
        "start_time": "2025-01-17T11:22:42.213Z"
      },
      {
        "duration": 1000,
        "start_time": "2025-01-17T11:22:42.387Z"
      },
      {
        "duration": 373,
        "start_time": "2025-01-17T11:22:43.389Z"
      },
      {
        "duration": 12,
        "start_time": "2025-01-17T11:22:43.764Z"
      },
      {
        "duration": 25,
        "start_time": "2025-01-17T11:22:43.778Z"
      },
      {
        "duration": 15,
        "start_time": "2025-01-17T11:22:43.805Z"
      },
      {
        "duration": 17,
        "start_time": "2025-01-17T11:22:43.829Z"
      },
      {
        "duration": 5,
        "start_time": "2025-01-17T11:22:43.848Z"
      },
      {
        "duration": 266,
        "start_time": "2025-01-17T11:22:43.854Z"
      },
      {
        "duration": 227,
        "start_time": "2025-01-17T11:22:44.123Z"
      },
      {
        "duration": 16,
        "start_time": "2025-01-17T11:22:44.352Z"
      },
      {
        "duration": 626,
        "start_time": "2025-01-17T11:22:44.370Z"
      },
      {
        "duration": 1547,
        "start_time": "2025-01-17T11:22:44.998Z"
      },
      {
        "duration": 0,
        "start_time": "2025-01-17T11:22:46.547Z"
      },
      {
        "duration": 10,
        "start_time": "2025-01-17T11:24:27.740Z"
      },
      {
        "duration": 15,
        "start_time": "2025-01-17T11:26:51.864Z"
      },
      {
        "duration": 4283,
        "start_time": "2025-01-17T11:27:12.599Z"
      },
      {
        "duration": 119,
        "start_time": "2025-01-17T11:27:16.885Z"
      },
      {
        "duration": 4,
        "start_time": "2025-01-17T11:27:17.006Z"
      },
      {
        "duration": 34,
        "start_time": "2025-01-17T11:27:17.013Z"
      },
      {
        "duration": 10,
        "start_time": "2025-01-17T11:27:17.049Z"
      },
      {
        "duration": 10,
        "start_time": "2025-01-17T11:27:17.061Z"
      },
      {
        "duration": 13,
        "start_time": "2025-01-17T11:27:17.073Z"
      },
      {
        "duration": 16,
        "start_time": "2025-01-17T11:27:17.087Z"
      },
      {
        "duration": 27,
        "start_time": "2025-01-17T11:27:17.104Z"
      },
      {
        "duration": 13,
        "start_time": "2025-01-17T11:27:17.134Z"
      },
      {
        "duration": 7,
        "start_time": "2025-01-17T11:27:17.148Z"
      },
      {
        "duration": 995,
        "start_time": "2025-01-17T11:27:17.156Z"
      },
      {
        "duration": 359,
        "start_time": "2025-01-17T11:27:18.153Z"
      },
      {
        "duration": 346,
        "start_time": "2025-01-17T11:27:18.515Z"
      },
      {
        "duration": 181,
        "start_time": "2025-01-17T11:27:18.863Z"
      },
      {
        "duration": 192,
        "start_time": "2025-01-17T11:27:19.046Z"
      },
      {
        "duration": 345,
        "start_time": "2025-01-17T11:27:19.240Z"
      },
      {
        "duration": 345,
        "start_time": "2025-01-17T11:27:19.587Z"
      },
      {
        "duration": 163,
        "start_time": "2025-01-17T11:27:19.934Z"
      },
      {
        "duration": 965,
        "start_time": "2025-01-17T11:27:20.098Z"
      },
      {
        "duration": 340,
        "start_time": "2025-01-17T11:27:21.064Z"
      },
      {
        "duration": 13,
        "start_time": "2025-01-17T11:27:21.406Z"
      },
      {
        "duration": 9,
        "start_time": "2025-01-17T11:27:21.431Z"
      },
      {
        "duration": 31,
        "start_time": "2025-01-17T11:27:21.442Z"
      },
      {
        "duration": 49,
        "start_time": "2025-01-17T11:27:21.475Z"
      },
      {
        "duration": 18,
        "start_time": "2025-01-17T11:27:21.527Z"
      },
      {
        "duration": 257,
        "start_time": "2025-01-17T11:27:21.547Z"
      },
      {
        "duration": 245,
        "start_time": "2025-01-17T11:27:21.808Z"
      },
      {
        "duration": 17,
        "start_time": "2025-01-17T11:27:22.055Z"
      },
      {
        "duration": 623,
        "start_time": "2025-01-17T11:27:22.074Z"
      },
      {
        "duration": 10,
        "start_time": "2025-01-17T11:27:22.699Z"
      },
      {
        "duration": 35,
        "start_time": "2025-01-17T11:27:22.711Z"
      },
      {
        "duration": 297,
        "start_time": "2025-01-17T11:27:22.748Z"
      },
      {
        "duration": 3,
        "start_time": "2025-01-17T11:34:55.544Z"
      },
      {
        "duration": 4268,
        "start_time": "2025-01-17T11:35:35.732Z"
      },
      {
        "duration": 206,
        "start_time": "2025-01-17T11:35:40.002Z"
      },
      {
        "duration": 4,
        "start_time": "2025-01-17T11:35:40.210Z"
      },
      {
        "duration": 44,
        "start_time": "2025-01-17T11:35:40.217Z"
      },
      {
        "duration": 16,
        "start_time": "2025-01-17T11:35:40.263Z"
      },
      {
        "duration": 12,
        "start_time": "2025-01-17T11:35:40.282Z"
      },
      {
        "duration": 36,
        "start_time": "2025-01-17T11:35:40.296Z"
      },
      {
        "duration": 14,
        "start_time": "2025-01-17T11:35:40.334Z"
      },
      {
        "duration": 6,
        "start_time": "2025-01-17T11:35:40.349Z"
      },
      {
        "duration": 21,
        "start_time": "2025-01-17T11:35:40.357Z"
      },
      {
        "duration": 6,
        "start_time": "2025-01-17T11:35:40.380Z"
      },
      {
        "duration": 1069,
        "start_time": "2025-01-17T11:35:40.388Z"
      },
      {
        "duration": 334,
        "start_time": "2025-01-17T11:35:41.458Z"
      },
      {
        "duration": 351,
        "start_time": "2025-01-17T11:35:41.794Z"
      },
      {
        "duration": 191,
        "start_time": "2025-01-17T11:35:42.146Z"
      },
      {
        "duration": 211,
        "start_time": "2025-01-17T11:35:42.339Z"
      },
      {
        "duration": 345,
        "start_time": "2025-01-17T11:35:42.552Z"
      },
      {
        "duration": 368,
        "start_time": "2025-01-17T11:35:42.899Z"
      },
      {
        "duration": 174,
        "start_time": "2025-01-17T11:35:43.269Z"
      },
      {
        "duration": 997,
        "start_time": "2025-01-17T11:35:43.446Z"
      },
      {
        "duration": 386,
        "start_time": "2025-01-17T11:35:44.444Z"
      },
      {
        "duration": 12,
        "start_time": "2025-01-17T11:35:44.831Z"
      },
      {
        "duration": 46,
        "start_time": "2025-01-17T11:35:44.845Z"
      },
      {
        "duration": 14,
        "start_time": "2025-01-17T11:35:44.893Z"
      },
      {
        "duration": 17,
        "start_time": "2025-01-17T11:35:44.909Z"
      },
      {
        "duration": 5,
        "start_time": "2025-01-17T11:35:44.928Z"
      },
      {
        "duration": 261,
        "start_time": "2025-01-17T11:35:44.935Z"
      },
      {
        "duration": 244,
        "start_time": "2025-01-17T11:35:45.200Z"
      },
      {
        "duration": 16,
        "start_time": "2025-01-17T11:35:45.446Z"
      },
      {
        "duration": 628,
        "start_time": "2025-01-17T11:35:45.464Z"
      },
      {
        "duration": 10,
        "start_time": "2025-01-17T11:35:46.095Z"
      },
      {
        "duration": 29,
        "start_time": "2025-01-17T11:35:46.106Z"
      },
      {
        "duration": 284,
        "start_time": "2025-01-17T11:35:46.136Z"
      },
      {
        "duration": 386,
        "start_time": "2025-01-17T11:37:37.695Z"
      },
      {
        "duration": 5,
        "start_time": "2025-01-17T11:38:21.685Z"
      },
      {
        "duration": 5,
        "start_time": "2025-01-17T11:38:35.380Z"
      },
      {
        "duration": 10123,
        "start_time": "2025-01-17T14:41:25.419Z"
      },
      {
        "duration": 7685,
        "start_time": "2025-01-17T14:48:06.082Z"
      },
      {
        "duration": 2482,
        "start_time": "2025-01-17T14:48:47.107Z"
      },
      {
        "duration": 145,
        "start_time": "2025-01-17T17:56:25.302Z"
      },
      {
        "duration": 136,
        "start_time": "2025-01-17T17:56:38.543Z"
      },
      {
        "duration": 204,
        "start_time": "2025-01-17T17:56:47.428Z"
      },
      {
        "duration": 1477,
        "start_time": "2025-01-17T17:57:58.588Z"
      },
      {
        "duration": 331,
        "start_time": "2025-01-17T17:58:22.018Z"
      },
      {
        "duration": 193,
        "start_time": "2025-01-17T17:58:37.929Z"
      },
      {
        "duration": 595,
        "start_time": "2025-01-17T18:09:41.497Z"
      },
      {
        "duration": 350,
        "start_time": "2025-01-17T18:09:56.199Z"
      },
      {
        "duration": 447,
        "start_time": "2025-01-17T18:10:03.843Z"
      },
      {
        "duration": 256,
        "start_time": "2025-01-17T18:14:47.386Z"
      },
      {
        "duration": 282,
        "start_time": "2025-01-17T18:15:01.067Z"
      },
      {
        "duration": 237,
        "start_time": "2025-01-17T18:15:17.047Z"
      },
      {
        "duration": 397,
        "start_time": "2025-01-17T18:15:32.009Z"
      },
      {
        "duration": 277,
        "start_time": "2025-01-17T18:16:01.395Z"
      },
      {
        "duration": 243,
        "start_time": "2025-01-17T18:16:14.200Z"
      },
      {
        "duration": 53,
        "start_time": "2025-01-17T18:19:05.171Z"
      },
      {
        "duration": 4347,
        "start_time": "2025-01-17T18:19:13.317Z"
      },
      {
        "duration": 168,
        "start_time": "2025-01-17T18:19:17.666Z"
      },
      {
        "duration": 4,
        "start_time": "2025-01-17T18:19:17.835Z"
      },
      {
        "duration": 61,
        "start_time": "2025-01-17T18:19:17.841Z"
      },
      {
        "duration": 11,
        "start_time": "2025-01-17T18:19:17.904Z"
      },
      {
        "duration": 11,
        "start_time": "2025-01-17T18:19:17.917Z"
      },
      {
        "duration": 8,
        "start_time": "2025-01-17T18:19:17.929Z"
      },
      {
        "duration": 11,
        "start_time": "2025-01-17T18:19:17.939Z"
      },
      {
        "duration": 6,
        "start_time": "2025-01-17T18:19:17.952Z"
      },
      {
        "duration": 25,
        "start_time": "2025-01-17T18:19:17.962Z"
      },
      {
        "duration": 8,
        "start_time": "2025-01-17T18:19:17.988Z"
      },
      {
        "duration": 389,
        "start_time": "2025-01-17T18:19:17.998Z"
      },
      {
        "duration": 290,
        "start_time": "2025-01-17T18:19:18.389Z"
      },
      {
        "duration": 193,
        "start_time": "2025-01-17T18:19:18.681Z"
      },
      {
        "duration": 436,
        "start_time": "2025-01-17T18:19:18.877Z"
      },
      {
        "duration": 247,
        "start_time": "2025-01-17T18:19:19.315Z"
      },
      {
        "duration": 4166,
        "start_time": "2025-01-17T18:22:31.684Z"
      },
      {
        "duration": 104,
        "start_time": "2025-01-17T18:22:35.852Z"
      },
      {
        "duration": 3,
        "start_time": "2025-01-17T18:22:35.958Z"
      },
      {
        "duration": 43,
        "start_time": "2025-01-17T18:22:35.963Z"
      },
      {
        "duration": 29,
        "start_time": "2025-01-17T18:22:36.008Z"
      },
      {
        "duration": 44,
        "start_time": "2025-01-17T18:22:36.038Z"
      },
      {
        "duration": 23,
        "start_time": "2025-01-17T18:22:36.084Z"
      },
      {
        "duration": 26,
        "start_time": "2025-01-17T18:22:36.110Z"
      },
      {
        "duration": 23,
        "start_time": "2025-01-17T18:22:36.138Z"
      },
      {
        "duration": 31,
        "start_time": "2025-01-17T18:22:36.165Z"
      },
      {
        "duration": 7,
        "start_time": "2025-01-17T18:22:36.198Z"
      },
      {
        "duration": 353,
        "start_time": "2025-01-17T18:22:36.206Z"
      },
      {
        "duration": 282,
        "start_time": "2025-01-17T18:22:36.561Z"
      },
      {
        "duration": 188,
        "start_time": "2025-01-17T18:22:36.844Z"
      },
      {
        "duration": 426,
        "start_time": "2025-01-17T18:22:37.034Z"
      },
      {
        "duration": 248,
        "start_time": "2025-01-17T18:22:37.462Z"
      },
      {
        "duration": 4188,
        "start_time": "2025-01-17T18:23:12.544Z"
      },
      {
        "duration": 105,
        "start_time": "2025-01-17T18:23:16.734Z"
      },
      {
        "duration": 3,
        "start_time": "2025-01-17T18:23:16.841Z"
      },
      {
        "duration": 31,
        "start_time": "2025-01-17T18:23:16.846Z"
      },
      {
        "duration": 13,
        "start_time": "2025-01-17T18:23:16.879Z"
      },
      {
        "duration": 11,
        "start_time": "2025-01-17T18:23:16.894Z"
      },
      {
        "duration": 28,
        "start_time": "2025-01-17T18:23:16.907Z"
      },
      {
        "duration": 17,
        "start_time": "2025-01-17T18:23:16.937Z"
      },
      {
        "duration": 5,
        "start_time": "2025-01-17T18:23:16.956Z"
      },
      {
        "duration": 18,
        "start_time": "2025-01-17T18:23:16.964Z"
      },
      {
        "duration": 13,
        "start_time": "2025-01-17T18:23:16.983Z"
      },
      {
        "duration": 368,
        "start_time": "2025-01-17T18:23:16.998Z"
      },
      {
        "duration": 281,
        "start_time": "2025-01-17T18:23:17.367Z"
      },
      {
        "duration": 188,
        "start_time": "2025-01-17T18:23:17.650Z"
      },
      {
        "duration": 432,
        "start_time": "2025-01-17T18:23:17.839Z"
      },
      {
        "duration": 276,
        "start_time": "2025-01-17T18:23:18.274Z"
      },
      {
        "duration": 98,
        "start_time": "2025-01-17T18:30:06.893Z"
      },
      {
        "duration": 89,
        "start_time": "2025-01-17T18:31:09.270Z"
      },
      {
        "duration": 4244,
        "start_time": "2025-01-17T18:32:21.102Z"
      },
      {
        "duration": 127,
        "start_time": "2025-01-17T18:32:25.348Z"
      },
      {
        "duration": 4,
        "start_time": "2025-01-17T18:32:25.476Z"
      },
      {
        "duration": 48,
        "start_time": "2025-01-17T18:32:25.482Z"
      },
      {
        "duration": 12,
        "start_time": "2025-01-17T18:32:25.532Z"
      },
      {
        "duration": 11,
        "start_time": "2025-01-17T18:32:25.545Z"
      },
      {
        "duration": 9,
        "start_time": "2025-01-17T18:32:25.558Z"
      },
      {
        "duration": 20,
        "start_time": "2025-01-17T18:32:25.569Z"
      },
      {
        "duration": 17,
        "start_time": "2025-01-17T18:32:25.591Z"
      },
      {
        "duration": 28,
        "start_time": "2025-01-17T18:32:25.611Z"
      },
      {
        "duration": 6,
        "start_time": "2025-01-17T18:32:25.640Z"
      },
      {
        "duration": 350,
        "start_time": "2025-01-17T18:32:25.647Z"
      },
      {
        "duration": 277,
        "start_time": "2025-01-17T18:32:25.999Z"
      },
      {
        "duration": 191,
        "start_time": "2025-01-17T18:32:26.277Z"
      },
      {
        "duration": 427,
        "start_time": "2025-01-17T18:32:26.470Z"
      },
      {
        "duration": 235,
        "start_time": "2025-01-17T18:32:26.899Z"
      },
      {
        "duration": 53,
        "start_time": "2025-01-17T18:32:55.845Z"
      },
      {
        "duration": 4215,
        "start_time": "2025-01-17T18:33:04.714Z"
      },
      {
        "duration": 121,
        "start_time": "2025-01-17T18:33:08.932Z"
      },
      {
        "duration": 4,
        "start_time": "2025-01-17T18:33:09.054Z"
      },
      {
        "duration": 27,
        "start_time": "2025-01-17T18:33:09.060Z"
      },
      {
        "duration": 13,
        "start_time": "2025-01-17T18:33:09.089Z"
      },
      {
        "duration": 13,
        "start_time": "2025-01-17T18:33:09.129Z"
      },
      {
        "duration": 9,
        "start_time": "2025-01-17T18:33:09.144Z"
      },
      {
        "duration": 16,
        "start_time": "2025-01-17T18:33:09.155Z"
      },
      {
        "duration": 8,
        "start_time": "2025-01-17T18:33:09.173Z"
      },
      {
        "duration": 53,
        "start_time": "2025-01-17T18:33:09.185Z"
      },
      {
        "duration": 7,
        "start_time": "2025-01-17T18:33:09.240Z"
      },
      {
        "duration": 363,
        "start_time": "2025-01-17T18:33:09.249Z"
      },
      {
        "duration": 281,
        "start_time": "2025-01-17T18:33:09.614Z"
      },
      {
        "duration": 188,
        "start_time": "2025-01-17T18:33:09.897Z"
      },
      {
        "duration": 435,
        "start_time": "2025-01-17T18:33:10.087Z"
      },
      {
        "duration": 232,
        "start_time": "2025-01-17T18:33:10.530Z"
      },
      {
        "duration": 7076,
        "start_time": "2025-01-17T18:33:10.764Z"
      },
      {
        "duration": 239,
        "start_time": "2025-01-17T18:33:17.842Z"
      },
      {
        "duration": 168,
        "start_time": "2025-01-17T18:33:18.082Z"
      },
      {
        "duration": 1278,
        "start_time": "2025-01-17T18:33:18.252Z"
      },
      {
        "duration": 226,
        "start_time": "2025-01-17T18:33:19.532Z"
      },
      {
        "duration": 928,
        "start_time": "2025-01-17T18:33:19.759Z"
      },
      {
        "duration": 373,
        "start_time": "2025-01-17T18:33:20.688Z"
      },
      {
        "duration": 12,
        "start_time": "2025-01-17T18:33:21.063Z"
      },
      {
        "duration": 8,
        "start_time": "2025-01-17T18:33:21.077Z"
      },
      {
        "duration": 27,
        "start_time": "2025-01-17T18:33:21.087Z"
      },
      {
        "duration": 28,
        "start_time": "2025-01-17T18:33:21.116Z"
      },
      {
        "duration": 5,
        "start_time": "2025-01-17T18:33:21.147Z"
      },
      {
        "duration": 263,
        "start_time": "2025-01-17T18:33:21.154Z"
      },
      {
        "duration": 235,
        "start_time": "2025-01-17T18:33:21.420Z"
      },
      {
        "duration": 16,
        "start_time": "2025-01-17T18:33:21.656Z"
      },
      {
        "duration": 6,
        "start_time": "2025-01-17T18:33:21.675Z"
      },
      {
        "duration": 740,
        "start_time": "2025-01-17T18:33:21.682Z"
      },
      {
        "duration": 14,
        "start_time": "2025-01-17T18:33:22.423Z"
      },
      {
        "duration": 15,
        "start_time": "2025-01-17T18:33:22.439Z"
      },
      {
        "duration": 5,
        "start_time": "2025-01-17T18:33:22.456Z"
      },
      {
        "duration": 294,
        "start_time": "2025-01-17T18:33:22.462Z"
      },
      {
        "duration": 93,
        "start_time": "2025-01-17T18:34:22.179Z"
      },
      {
        "duration": 6712,
        "start_time": "2025-01-17T18:34:28.919Z"
      },
      {
        "duration": 6816,
        "start_time": "2025-01-17T18:34:48.836Z"
      },
      {
        "duration": 54,
        "start_time": "2025-01-17T18:35:20.874Z"
      },
      {
        "duration": 4166,
        "start_time": "2025-01-17T18:35:25.324Z"
      },
      {
        "duration": 123,
        "start_time": "2025-01-17T18:35:29.492Z"
      },
      {
        "duration": 3,
        "start_time": "2025-01-17T18:35:29.617Z"
      },
      {
        "duration": 25,
        "start_time": "2025-01-17T18:35:29.623Z"
      },
      {
        "duration": 11,
        "start_time": "2025-01-17T18:35:29.649Z"
      },
      {
        "duration": 12,
        "start_time": "2025-01-17T18:35:29.662Z"
      },
      {
        "duration": 8,
        "start_time": "2025-01-17T18:35:29.675Z"
      },
      {
        "duration": 17,
        "start_time": "2025-01-17T18:35:29.685Z"
      },
      {
        "duration": 26,
        "start_time": "2025-01-17T18:35:29.704Z"
      },
      {
        "duration": 12,
        "start_time": "2025-01-17T18:35:29.733Z"
      },
      {
        "duration": 5,
        "start_time": "2025-01-17T18:35:29.747Z"
      },
      {
        "duration": 363,
        "start_time": "2025-01-17T18:35:29.754Z"
      },
      {
        "duration": 285,
        "start_time": "2025-01-17T18:35:30.119Z"
      },
      {
        "duration": 192,
        "start_time": "2025-01-17T18:35:30.405Z"
      },
      {
        "duration": 425,
        "start_time": "2025-01-17T18:35:30.599Z"
      },
      {
        "duration": 229,
        "start_time": "2025-01-17T18:35:31.030Z"
      },
      {
        "duration": 7084,
        "start_time": "2025-01-17T18:35:31.260Z"
      },
      {
        "duration": 247,
        "start_time": "2025-01-17T18:35:38.347Z"
      },
      {
        "duration": 175,
        "start_time": "2025-01-17T18:35:38.596Z"
      },
      {
        "duration": 1249,
        "start_time": "2025-01-17T18:35:38.774Z"
      },
      {
        "duration": 245,
        "start_time": "2025-01-17T18:35:40.025Z"
      },
      {
        "duration": 951,
        "start_time": "2025-01-17T18:35:40.272Z"
      },
      {
        "duration": 356,
        "start_time": "2025-01-17T18:35:41.225Z"
      },
      {
        "duration": 15,
        "start_time": "2025-01-17T18:35:41.584Z"
      },
      {
        "duration": 33,
        "start_time": "2025-01-17T18:35:41.600Z"
      },
      {
        "duration": 14,
        "start_time": "2025-01-17T18:35:41.635Z"
      },
      {
        "duration": 16,
        "start_time": "2025-01-17T18:35:41.651Z"
      },
      {
        "duration": 5,
        "start_time": "2025-01-17T18:35:41.670Z"
      },
      {
        "duration": 283,
        "start_time": "2025-01-17T18:35:41.676Z"
      },
      {
        "duration": 281,
        "start_time": "2025-01-17T18:35:41.961Z"
      },
      {
        "duration": 17,
        "start_time": "2025-01-17T18:35:42.243Z"
      },
      {
        "duration": 5,
        "start_time": "2025-01-17T18:35:42.262Z"
      },
      {
        "duration": 793,
        "start_time": "2025-01-17T18:35:42.268Z"
      },
      {
        "duration": 10,
        "start_time": "2025-01-17T18:35:43.063Z"
      },
      {
        "duration": 15,
        "start_time": "2025-01-17T18:35:43.075Z"
      },
      {
        "duration": 5,
        "start_time": "2025-01-17T18:35:43.091Z"
      },
      {
        "duration": 291,
        "start_time": "2025-01-17T18:35:43.098Z"
      },
      {
        "duration": 6159,
        "start_time": "2025-01-17T18:35:55.702Z"
      },
      {
        "duration": 6712,
        "start_time": "2025-01-17T18:36:10.759Z"
      },
      {
        "duration": 6568,
        "start_time": "2025-01-17T18:37:47.390Z"
      },
      {
        "duration": 6741,
        "start_time": "2025-01-17T18:40:22.806Z"
      },
      {
        "duration": 6535,
        "start_time": "2025-01-17T18:41:11.065Z"
      },
      {
        "duration": 115,
        "start_time": "2025-01-17T18:41:37.233Z"
      },
      {
        "duration": 6569,
        "start_time": "2025-01-17T18:41:40.530Z"
      },
      {
        "duration": 6549,
        "start_time": "2025-01-17T18:42:04.706Z"
      },
      {
        "duration": 6501,
        "start_time": "2025-01-17T18:42:19.010Z"
      },
      {
        "duration": 9,
        "start_time": "2025-01-17T18:44:39.534Z"
      },
      {
        "duration": 6,
        "start_time": "2025-01-17T18:44:47.432Z"
      },
      {
        "duration": 5,
        "start_time": "2025-01-17T18:45:09.859Z"
      },
      {
        "duration": 5,
        "start_time": "2025-01-17T18:45:14.120Z"
      },
      {
        "duration": 5,
        "start_time": "2025-01-17T18:45:20.985Z"
      },
      {
        "duration": 5,
        "start_time": "2025-01-17T18:45:40.290Z"
      },
      {
        "duration": 6422,
        "start_time": "2025-01-17T18:47:23.596Z"
      },
      {
        "duration": 6426,
        "start_time": "2025-01-17T18:47:35.919Z"
      },
      {
        "duration": 6435,
        "start_time": "2025-01-17T18:51:51.480Z"
      },
      {
        "duration": 218,
        "start_time": "2025-01-17T18:53:44.459Z"
      },
      {
        "duration": 212,
        "start_time": "2025-01-17T18:54:39.751Z"
      },
      {
        "duration": 628,
        "start_time": "2025-01-17T18:54:59.615Z"
      },
      {
        "duration": 219,
        "start_time": "2025-01-17T18:57:06.335Z"
      },
      {
        "duration": 239,
        "start_time": "2025-01-17T19:02:34.686Z"
      },
      {
        "duration": 229,
        "start_time": "2025-01-17T19:03:00.127Z"
      },
      {
        "duration": 160,
        "start_time": "2025-01-17T19:06:11.833Z"
      },
      {
        "duration": 155,
        "start_time": "2025-01-17T19:06:23.516Z"
      },
      {
        "duration": 218,
        "start_time": "2025-01-17T19:07:27.568Z"
      },
      {
        "duration": 230,
        "start_time": "2025-01-17T19:07:33.344Z"
      },
      {
        "duration": 215,
        "start_time": "2025-01-17T19:11:32.656Z"
      },
      {
        "duration": 962,
        "start_time": "2025-01-17T19:53:41.023Z"
      },
      {
        "duration": 819,
        "start_time": "2025-01-17T19:53:46.773Z"
      },
      {
        "duration": 961,
        "start_time": "2025-01-17T19:54:15.714Z"
      },
      {
        "duration": 255,
        "start_time": "2025-01-17T20:02:40.589Z"
      },
      {
        "duration": 206,
        "start_time": "2025-01-17T20:06:07.059Z"
      },
      {
        "duration": 225,
        "start_time": "2025-01-17T20:10:11.231Z"
      },
      {
        "duration": 230,
        "start_time": "2025-01-17T20:10:46.858Z"
      },
      {
        "duration": 221,
        "start_time": "2025-01-17T20:13:34.772Z"
      },
      {
        "duration": 5147,
        "start_time": "2025-01-18T15:56:39.476Z"
      },
      {
        "duration": 103,
        "start_time": "2025-01-18T15:56:44.625Z"
      },
      {
        "duration": 3,
        "start_time": "2025-01-18T15:56:44.730Z"
      },
      {
        "duration": 35,
        "start_time": "2025-01-18T15:56:44.735Z"
      },
      {
        "duration": 12,
        "start_time": "2025-01-18T15:56:44.771Z"
      },
      {
        "duration": 10,
        "start_time": "2025-01-18T15:56:44.785Z"
      },
      {
        "duration": 8,
        "start_time": "2025-01-18T15:56:44.797Z"
      },
      {
        "duration": 11,
        "start_time": "2025-01-18T15:56:44.831Z"
      },
      {
        "duration": 6,
        "start_time": "2025-01-18T15:56:44.844Z"
      },
      {
        "duration": 29,
        "start_time": "2025-01-18T15:56:44.852Z"
      },
      {
        "duration": 14,
        "start_time": "2025-01-18T15:56:44.883Z"
      },
      {
        "duration": 372,
        "start_time": "2025-01-18T15:56:44.899Z"
      },
      {
        "duration": 286,
        "start_time": "2025-01-18T15:56:45.273Z"
      },
      {
        "duration": 185,
        "start_time": "2025-01-18T15:56:45.560Z"
      },
      {
        "duration": 457,
        "start_time": "2025-01-18T15:56:45.747Z"
      },
      {
        "duration": 229,
        "start_time": "2025-01-18T15:56:46.205Z"
      },
      {
        "duration": 6203,
        "start_time": "2025-01-18T15:56:46.436Z"
      },
      {
        "duration": 229,
        "start_time": "2025-01-18T15:56:52.641Z"
      },
      {
        "duration": 165,
        "start_time": "2025-01-18T15:56:52.871Z"
      },
      {
        "duration": 1265,
        "start_time": "2025-01-18T15:56:53.038Z"
      },
      {
        "duration": 225,
        "start_time": "2025-01-18T15:56:54.305Z"
      },
      {
        "duration": 935,
        "start_time": "2025-01-18T15:56:54.532Z"
      },
      {
        "duration": 338,
        "start_time": "2025-01-18T15:56:55.468Z"
      },
      {
        "duration": 11,
        "start_time": "2025-01-18T15:56:55.808Z"
      },
      {
        "duration": 127,
        "start_time": "2025-01-18T15:56:55.830Z"
      },
      {
        "duration": 18,
        "start_time": "2025-01-18T15:56:55.959Z"
      },
      {
        "duration": 22,
        "start_time": "2025-01-18T15:56:55.979Z"
      },
      {
        "duration": 6,
        "start_time": "2025-01-18T15:56:56.005Z"
      },
      {
        "duration": 261,
        "start_time": "2025-01-18T15:56:56.015Z"
      },
      {
        "duration": 228,
        "start_time": "2025-01-18T15:56:56.279Z"
      },
      {
        "duration": 25,
        "start_time": "2025-01-18T15:56:56.509Z"
      },
      {
        "duration": 5,
        "start_time": "2025-01-18T15:56:56.536Z"
      },
      {
        "duration": 742,
        "start_time": "2025-01-18T15:56:56.543Z"
      },
      {
        "duration": 9,
        "start_time": "2025-01-18T15:56:57.287Z"
      },
      {
        "duration": 32,
        "start_time": "2025-01-18T15:56:57.298Z"
      },
      {
        "duration": 4,
        "start_time": "2025-01-18T15:56:57.332Z"
      },
      {
        "duration": 274,
        "start_time": "2025-01-18T15:56:57.338Z"
      },
      {
        "duration": 208,
        "start_time": "2025-01-18T16:02:56.248Z"
      },
      {
        "duration": 227,
        "start_time": "2025-01-18T16:03:06.545Z"
      },
      {
        "duration": 215,
        "start_time": "2025-01-18T16:04:16.510Z"
      },
      {
        "duration": 6361,
        "start_time": "2025-01-18T16:27:51.128Z"
      },
      {
        "duration": 11,
        "start_time": "2025-01-18T16:36:57.015Z"
      },
      {
        "duration": 11,
        "start_time": "2025-01-18T16:42:24.802Z"
      },
      {
        "duration": 7,
        "start_time": "2025-01-18T16:42:58.433Z"
      },
      {
        "duration": 7,
        "start_time": "2025-01-18T16:44:30.367Z"
      },
      {
        "duration": 5,
        "start_time": "2025-01-18T16:55:33.446Z"
      },
      {
        "duration": 6,
        "start_time": "2025-01-18T16:58:53.836Z"
      },
      {
        "duration": 9,
        "start_time": "2025-01-18T16:59:09.774Z"
      },
      {
        "duration": 6,
        "start_time": "2025-01-18T17:02:02.999Z"
      },
      {
        "duration": 225,
        "start_time": "2025-01-18T17:03:56.955Z"
      },
      {
        "duration": 8,
        "start_time": "2025-01-18T17:09:36.025Z"
      },
      {
        "duration": 5,
        "start_time": "2025-01-18T17:09:56.879Z"
      },
      {
        "duration": 5,
        "start_time": "2025-01-18T17:11:42.322Z"
      },
      {
        "duration": 6,
        "start_time": "2025-01-18T17:12:50.768Z"
      },
      {
        "duration": 9,
        "start_time": "2025-01-18T17:17:14.150Z"
      },
      {
        "duration": 7,
        "start_time": "2025-01-18T17:23:17.315Z"
      },
      {
        "duration": 7,
        "start_time": "2025-01-18T17:24:18.100Z"
      },
      {
        "duration": 9,
        "start_time": "2025-01-18T17:25:26.034Z"
      },
      {
        "duration": 5,
        "start_time": "2025-01-18T17:27:10.028Z"
      },
      {
        "duration": 7,
        "start_time": "2025-01-18T17:32:19.751Z"
      },
      {
        "duration": 5,
        "start_time": "2025-01-18T17:32:39.642Z"
      },
      {
        "duration": 11,
        "start_time": "2025-01-18T17:33:09.123Z"
      },
      {
        "duration": 7,
        "start_time": "2025-01-18T17:34:08.027Z"
      },
      {
        "duration": 14,
        "start_time": "2025-01-18T17:36:53.818Z"
      },
      {
        "duration": 23,
        "start_time": "2025-01-18T17:40:25.479Z"
      },
      {
        "duration": 9,
        "start_time": "2025-01-18T17:40:56.528Z"
      },
      {
        "duration": 8,
        "start_time": "2025-01-18T17:43:55.544Z"
      },
      {
        "duration": 8,
        "start_time": "2025-01-18T17:47:42.278Z"
      },
      {
        "duration": 7,
        "start_time": "2025-01-18T17:48:26.687Z"
      },
      {
        "duration": 6,
        "start_time": "2025-01-18T17:48:58.417Z"
      },
      {
        "duration": 165,
        "start_time": "2025-01-18T18:11:01.745Z"
      },
      {
        "duration": 16,
        "start_time": "2025-01-18T18:13:45.062Z"
      },
      {
        "duration": 5,
        "start_time": "2025-01-18T18:13:51.206Z"
      },
      {
        "duration": 15,
        "start_time": "2025-01-18T18:14:01.180Z"
      },
      {
        "duration": 5,
        "start_time": "2025-01-18T18:14:05.882Z"
      },
      {
        "duration": 11,
        "start_time": "2025-01-18T18:15:38.854Z"
      },
      {
        "duration": 5,
        "start_time": "2025-01-18T18:15:41.316Z"
      },
      {
        "duration": 9,
        "start_time": "2025-01-18T18:16:13.857Z"
      },
      {
        "duration": 9,
        "start_time": "2025-01-18T18:16:27.049Z"
      },
      {
        "duration": 9,
        "start_time": "2025-01-18T18:17:21.002Z"
      },
      {
        "duration": 4,
        "start_time": "2025-01-18T18:17:22.374Z"
      },
      {
        "duration": 551,
        "start_time": "2025-01-18T18:17:40.251Z"
      },
      {
        "duration": 6,
        "start_time": "2025-01-18T18:23:12.161Z"
      },
      {
        "duration": 15,
        "start_time": "2025-01-18T19:00:25.379Z"
      },
      {
        "duration": 14,
        "start_time": "2025-01-18T19:42:25.586Z"
      },
      {
        "duration": 6,
        "start_time": "2025-01-18T19:42:30.225Z"
      },
      {
        "duration": 15,
        "start_time": "2025-01-18T19:42:52.340Z"
      },
      {
        "duration": 5,
        "start_time": "2025-01-18T19:47:59.632Z"
      },
      {
        "duration": 668,
        "start_time": "2025-01-18T19:57:53.185Z"
      },
      {
        "duration": 9,
        "start_time": "2025-01-18T20:00:06.429Z"
      },
      {
        "duration": 17,
        "start_time": "2025-01-18T20:00:32.619Z"
      },
      {
        "duration": 5,
        "start_time": "2025-01-18T20:00:37.864Z"
      },
      {
        "duration": 87,
        "start_time": "2025-01-18T20:03:36.330Z"
      },
      {
        "duration": 16,
        "start_time": "2025-01-18T20:04:29.018Z"
      },
      {
        "duration": 5,
        "start_time": "2025-01-18T20:04:33.332Z"
      },
      {
        "duration": 598,
        "start_time": "2025-01-18T20:04:44.505Z"
      },
      {
        "duration": 16,
        "start_time": "2025-01-18T20:12:28.458Z"
      },
      {
        "duration": 5,
        "start_time": "2025-01-18T20:12:35.619Z"
      },
      {
        "duration": 5125,
        "start_time": "2025-01-19T12:10:23.203Z"
      },
      {
        "duration": 119,
        "start_time": "2025-01-19T12:10:28.330Z"
      },
      {
        "duration": 3,
        "start_time": "2025-01-19T12:10:28.451Z"
      },
      {
        "duration": 19,
        "start_time": "2025-01-19T12:10:28.455Z"
      },
      {
        "duration": 9,
        "start_time": "2025-01-19T12:10:28.475Z"
      },
      {
        "duration": 9,
        "start_time": "2025-01-19T12:10:28.485Z"
      },
      {
        "duration": 6,
        "start_time": "2025-01-19T12:10:28.495Z"
      },
      {
        "duration": 44,
        "start_time": "2025-01-19T12:10:28.502Z"
      },
      {
        "duration": 5,
        "start_time": "2025-01-19T12:10:28.547Z"
      },
      {
        "duration": 21,
        "start_time": "2025-01-19T12:10:28.554Z"
      },
      {
        "duration": 295,
        "start_time": "2025-01-19T12:10:28.576Z"
      },
      {
        "duration": 214,
        "start_time": "2025-01-19T12:10:28.872Z"
      },
      {
        "duration": 154,
        "start_time": "2025-01-19T12:10:29.087Z"
      },
      {
        "duration": 331,
        "start_time": "2025-01-19T12:10:29.245Z"
      },
      {
        "duration": 190,
        "start_time": "2025-01-19T12:10:29.578Z"
      },
      {
        "duration": 4707,
        "start_time": "2025-01-19T12:10:29.769Z"
      },
      {
        "duration": 191,
        "start_time": "2025-01-19T12:10:34.478Z"
      },
      {
        "duration": 137,
        "start_time": "2025-01-19T12:10:34.671Z"
      },
      {
        "duration": 192,
        "start_time": "2025-01-19T12:10:34.810Z"
      },
      {
        "duration": 1021,
        "start_time": "2025-01-19T12:10:35.004Z"
      },
      {
        "duration": 194,
        "start_time": "2025-01-19T12:10:36.027Z"
      },
      {
        "duration": 10,
        "start_time": "2025-01-19T12:10:36.223Z"
      },
      {
        "duration": 824,
        "start_time": "2025-01-19T12:10:36.234Z"
      },
      {
        "duration": 293,
        "start_time": "2025-01-19T12:10:37.060Z"
      },
      {
        "duration": 7,
        "start_time": "2025-01-19T12:10:37.355Z"
      },
      {
        "duration": 36,
        "start_time": "2025-01-19T12:10:37.363Z"
      },
      {
        "duration": 26,
        "start_time": "2025-01-19T12:10:37.401Z"
      },
      {
        "duration": 11,
        "start_time": "2025-01-19T12:10:37.430Z"
      },
      {
        "duration": 210,
        "start_time": "2025-01-19T12:10:37.442Z"
      },
      {
        "duration": 186,
        "start_time": "2025-01-19T12:10:37.654Z"
      },
      {
        "duration": 15,
        "start_time": "2025-01-19T12:10:37.842Z"
      },
      {
        "duration": 34,
        "start_time": "2025-01-19T12:10:37.859Z"
      },
      {
        "duration": 153,
        "start_time": "2025-01-19T12:10:37.895Z"
      },
      {
        "duration": 0,
        "start_time": "2025-01-19T12:10:38.049Z"
      },
      {
        "duration": 0,
        "start_time": "2025-01-19T12:10:38.050Z"
      },
      {
        "duration": 0,
        "start_time": "2025-01-19T12:10:38.051Z"
      },
      {
        "duration": 289,
        "start_time": "2025-01-19T12:13:13.480Z"
      },
      {
        "duration": 3903,
        "start_time": "2025-01-19T12:21:03.499Z"
      },
      {
        "duration": 109,
        "start_time": "2025-01-19T12:21:07.404Z"
      },
      {
        "duration": 3,
        "start_time": "2025-01-19T12:21:07.515Z"
      },
      {
        "duration": 20,
        "start_time": "2025-01-19T12:21:07.521Z"
      },
      {
        "duration": 11,
        "start_time": "2025-01-19T12:21:07.545Z"
      },
      {
        "duration": 10,
        "start_time": "2025-01-19T12:21:07.557Z"
      },
      {
        "duration": 7,
        "start_time": "2025-01-19T12:21:07.569Z"
      },
      {
        "duration": 10,
        "start_time": "2025-01-19T12:21:07.577Z"
      },
      {
        "duration": 5,
        "start_time": "2025-01-19T12:21:07.588Z"
      },
      {
        "duration": 5,
        "start_time": "2025-01-19T12:21:07.596Z"
      },
      {
        "duration": 322,
        "start_time": "2025-01-19T12:21:07.603Z"
      },
      {
        "duration": 227,
        "start_time": "2025-01-19T12:21:07.927Z"
      },
      {
        "duration": 158,
        "start_time": "2025-01-19T12:21:08.156Z"
      },
      {
        "duration": 334,
        "start_time": "2025-01-19T12:21:08.316Z"
      },
      {
        "duration": 195,
        "start_time": "2025-01-19T12:21:08.651Z"
      },
      {
        "duration": 4728,
        "start_time": "2025-01-19T12:21:08.847Z"
      },
      {
        "duration": 192,
        "start_time": "2025-01-19T12:21:13.577Z"
      },
      {
        "duration": 145,
        "start_time": "2025-01-19T12:21:13.771Z"
      },
      {
        "duration": 190,
        "start_time": "2025-01-19T12:21:13.918Z"
      },
      {
        "duration": 1013,
        "start_time": "2025-01-19T12:21:14.109Z"
      },
      {
        "duration": 195,
        "start_time": "2025-01-19T12:21:15.123Z"
      },
      {
        "duration": 10,
        "start_time": "2025-01-19T12:21:15.319Z"
      },
      {
        "duration": 799,
        "start_time": "2025-01-19T12:21:15.331Z"
      },
      {
        "duration": 324,
        "start_time": "2025-01-19T12:21:16.132Z"
      },
      {
        "duration": 6,
        "start_time": "2025-01-19T12:21:16.458Z"
      },
      {
        "duration": 15,
        "start_time": "2025-01-19T12:21:16.466Z"
      },
      {
        "duration": 13,
        "start_time": "2025-01-19T12:21:16.482Z"
      },
      {
        "duration": 5,
        "start_time": "2025-01-19T12:21:16.498Z"
      },
      {
        "duration": 217,
        "start_time": "2025-01-19T12:21:16.504Z"
      },
      {
        "duration": 192,
        "start_time": "2025-01-19T12:21:16.722Z"
      },
      {
        "duration": 12,
        "start_time": "2025-01-19T12:21:16.916Z"
      },
      {
        "duration": 19,
        "start_time": "2025-01-19T12:21:16.929Z"
      },
      {
        "duration": 214,
        "start_time": "2025-01-19T12:21:16.949Z"
      },
      {
        "duration": 14,
        "start_time": "2025-01-19T12:21:17.164Z"
      },
      {
        "duration": 26,
        "start_time": "2025-01-19T12:21:17.180Z"
      },
      {
        "duration": 584,
        "start_time": "2025-01-19T12:21:17.208Z"
      },
      {
        "duration": 4,
        "start_time": "2025-01-19T12:43:09.461Z"
      },
      {
        "duration": 4,
        "start_time": "2025-01-19T12:43:14.623Z"
      },
      {
        "duration": 4,
        "start_time": "2025-01-19T12:43:19.794Z"
      },
      {
        "duration": 3,
        "start_time": "2025-01-19T12:43:23.941Z"
      },
      {
        "duration": 4,
        "start_time": "2025-01-19T12:43:36.916Z"
      },
      {
        "duration": 4,
        "start_time": "2025-01-19T12:45:44.749Z"
      },
      {
        "duration": 5,
        "start_time": "2025-01-19T12:45:51.003Z"
      },
      {
        "duration": 4,
        "start_time": "2025-01-19T12:45:54.727Z"
      },
      {
        "duration": 4,
        "start_time": "2025-01-19T12:45:59.280Z"
      },
      {
        "duration": 4,
        "start_time": "2025-01-19T12:46:05.079Z"
      },
      {
        "duration": 5,
        "start_time": "2025-01-19T12:46:20.601Z"
      },
      {
        "duration": 4,
        "start_time": "2025-01-19T12:46:27.194Z"
      },
      {
        "duration": 4,
        "start_time": "2025-01-19T12:46:32.286Z"
      },
      {
        "duration": 4,
        "start_time": "2025-01-19T12:46:37.854Z"
      },
      {
        "duration": 4,
        "start_time": "2025-01-19T12:47:00.143Z"
      },
      {
        "duration": 3,
        "start_time": "2025-01-19T12:47:03.338Z"
      },
      {
        "duration": 149,
        "start_time": "2025-01-19T12:57:31.335Z"
      },
      {
        "duration": 4013,
        "start_time": "2025-01-19T18:25:58.044Z"
      },
      {
        "duration": 116,
        "start_time": "2025-01-19T18:26:02.058Z"
      },
      {
        "duration": 3,
        "start_time": "2025-01-19T18:26:02.176Z"
      },
      {
        "duration": 31,
        "start_time": "2025-01-19T18:26:02.181Z"
      },
      {
        "duration": 9,
        "start_time": "2025-01-19T18:26:02.214Z"
      },
      {
        "duration": 22,
        "start_time": "2025-01-19T18:26:02.225Z"
      },
      {
        "duration": 11,
        "start_time": "2025-01-19T18:26:02.248Z"
      },
      {
        "duration": 18,
        "start_time": "2025-01-19T18:26:02.260Z"
      },
      {
        "duration": 24,
        "start_time": "2025-01-19T18:26:02.279Z"
      },
      {
        "duration": 31,
        "start_time": "2025-01-19T18:26:02.306Z"
      },
      {
        "duration": 296,
        "start_time": "2025-01-19T18:26:02.339Z"
      },
      {
        "duration": 251,
        "start_time": "2025-01-19T18:26:02.637Z"
      },
      {
        "duration": 158,
        "start_time": "2025-01-19T18:26:02.890Z"
      },
      {
        "duration": 344,
        "start_time": "2025-01-19T18:26:03.049Z"
      },
      {
        "duration": 201,
        "start_time": "2025-01-19T18:26:03.395Z"
      },
      {
        "duration": 4765,
        "start_time": "2025-01-19T18:26:03.599Z"
      },
      {
        "duration": 191,
        "start_time": "2025-01-19T18:26:08.366Z"
      },
      {
        "duration": 139,
        "start_time": "2025-01-19T18:26:08.558Z"
      },
      {
        "duration": 377,
        "start_time": "2025-01-19T18:26:08.698Z"
      },
      {
        "duration": 1913,
        "start_time": "2025-01-19T18:26:09.077Z"
      },
      {
        "duration": 388,
        "start_time": "2025-01-19T18:26:10.991Z"
      },
      {
        "duration": 65,
        "start_time": "2025-01-19T18:26:11.381Z"
      },
      {
        "duration": 862,
        "start_time": "2025-01-19T18:26:11.448Z"
      },
      {
        "duration": 337,
        "start_time": "2025-01-19T18:26:12.312Z"
      },
      {
        "duration": 8,
        "start_time": "2025-01-19T18:26:12.651Z"
      },
      {
        "duration": 42,
        "start_time": "2025-01-19T18:26:12.660Z"
      },
      {
        "duration": 23,
        "start_time": "2025-01-19T18:26:12.704Z"
      },
      {
        "duration": 5,
        "start_time": "2025-01-19T18:26:12.731Z"
      },
      {
        "duration": 200,
        "start_time": "2025-01-19T18:26:12.740Z"
      },
      {
        "duration": 189,
        "start_time": "2025-01-19T18:26:12.946Z"
      },
      {
        "duration": 9,
        "start_time": "2025-01-19T18:26:13.136Z"
      },
      {
        "duration": 16,
        "start_time": "2025-01-19T18:26:13.147Z"
      },
      {
        "duration": 5,
        "start_time": "2025-01-19T18:26:13.164Z"
      },
      {
        "duration": 221,
        "start_time": "2025-01-19T18:26:13.170Z"
      },
      {
        "duration": 13,
        "start_time": "2025-01-19T18:26:13.393Z"
      },
      {
        "duration": 58,
        "start_time": "2025-01-19T18:26:13.408Z"
      },
      {
        "duration": 594,
        "start_time": "2025-01-19T18:26:13.468Z"
      },
      {
        "duration": 2603,
        "start_time": "2025-01-19T18:34:14.231Z"
      },
      {
        "duration": 4305,
        "start_time": "2025-01-19T18:34:23.365Z"
      },
      {
        "duration": 175,
        "start_time": "2025-01-19T18:34:27.671Z"
      },
      {
        "duration": 3,
        "start_time": "2025-01-19T18:34:27.847Z"
      },
      {
        "duration": 20,
        "start_time": "2025-01-19T18:34:27.851Z"
      },
      {
        "duration": 10,
        "start_time": "2025-01-19T18:34:27.872Z"
      },
      {
        "duration": 9,
        "start_time": "2025-01-19T18:34:27.883Z"
      },
      {
        "duration": 6,
        "start_time": "2025-01-19T18:34:27.894Z"
      },
      {
        "duration": 24,
        "start_time": "2025-01-19T18:34:27.901Z"
      },
      {
        "duration": 22,
        "start_time": "2025-01-19T18:34:27.926Z"
      },
      {
        "duration": 6,
        "start_time": "2025-01-19T18:34:27.951Z"
      },
      {
        "duration": 305,
        "start_time": "2025-01-19T18:34:27.958Z"
      },
      {
        "duration": 232,
        "start_time": "2025-01-19T18:34:28.265Z"
      },
      {
        "duration": 166,
        "start_time": "2025-01-19T18:34:28.498Z"
      },
      {
        "duration": 336,
        "start_time": "2025-01-19T18:34:28.666Z"
      },
      {
        "duration": 200,
        "start_time": "2025-01-19T18:34:29.004Z"
      },
      {
        "duration": 4722,
        "start_time": "2025-01-19T18:34:29.206Z"
      },
      {
        "duration": 422,
        "start_time": "2025-01-19T18:34:33.930Z"
      },
      {
        "duration": 237,
        "start_time": "2025-01-19T18:34:34.353Z"
      },
      {
        "duration": 336,
        "start_time": "2025-01-19T18:34:34.645Z"
      },
      {
        "duration": 1155,
        "start_time": "2025-01-19T18:34:34.982Z"
      },
      {
        "duration": 214,
        "start_time": "2025-01-19T18:34:36.139Z"
      },
      {
        "duration": 9,
        "start_time": "2025-01-19T18:34:36.355Z"
      },
      {
        "duration": 845,
        "start_time": "2025-01-19T18:34:36.365Z"
      },
      {
        "duration": 326,
        "start_time": "2025-01-19T18:34:37.212Z"
      },
      {
        "duration": 8,
        "start_time": "2025-01-19T18:34:37.545Z"
      },
      {
        "duration": 12,
        "start_time": "2025-01-19T18:34:37.554Z"
      },
      {
        "duration": 12,
        "start_time": "2025-01-19T18:34:37.567Z"
      },
      {
        "duration": 4,
        "start_time": "2025-01-19T18:34:37.582Z"
      },
      {
        "duration": 232,
        "start_time": "2025-01-19T18:34:37.587Z"
      },
      {
        "duration": 188,
        "start_time": "2025-01-19T18:34:37.820Z"
      },
      {
        "duration": 3,
        "start_time": "2025-01-19T18:34:38.009Z"
      },
      {
        "duration": 19,
        "start_time": "2025-01-19T18:34:38.014Z"
      },
      {
        "duration": 4,
        "start_time": "2025-01-19T18:34:38.034Z"
      },
      {
        "duration": 216,
        "start_time": "2025-01-19T18:34:38.046Z"
      },
      {
        "duration": 14,
        "start_time": "2025-01-19T18:34:38.263Z"
      },
      {
        "duration": 4,
        "start_time": "2025-01-19T18:34:38.279Z"
      },
      {
        "duration": 591,
        "start_time": "2025-01-19T18:34:38.284Z"
      },
      {
        "duration": 189,
        "start_time": "2025-01-19T18:49:44.949Z"
      },
      {
        "duration": 10,
        "start_time": "2025-01-19T18:51:49.382Z"
      },
      {
        "duration": 12,
        "start_time": "2025-01-19T18:54:17.900Z"
      },
      {
        "duration": 13,
        "start_time": "2025-01-19T18:56:13.054Z"
      },
      {
        "duration": 12,
        "start_time": "2025-01-19T18:58:07.770Z"
      },
      {
        "duration": 145,
        "start_time": "2025-01-19T18:58:39.211Z"
      },
      {
        "duration": 12,
        "start_time": "2025-01-19T18:59:45.505Z"
      },
      {
        "duration": 3991,
        "start_time": "2025-01-19T19:46:17.062Z"
      },
      {
        "duration": 87,
        "start_time": "2025-01-19T19:46:21.055Z"
      },
      {
        "duration": 3,
        "start_time": "2025-01-19T19:46:21.143Z"
      },
      {
        "duration": 18,
        "start_time": "2025-01-19T19:46:21.148Z"
      },
      {
        "duration": 9,
        "start_time": "2025-01-19T19:46:21.168Z"
      },
      {
        "duration": 9,
        "start_time": "2025-01-19T19:46:21.178Z"
      },
      {
        "duration": 6,
        "start_time": "2025-01-19T19:46:21.188Z"
      },
      {
        "duration": 10,
        "start_time": "2025-01-19T19:46:21.195Z"
      },
      {
        "duration": 4,
        "start_time": "2025-01-19T19:46:21.206Z"
      },
      {
        "duration": 6,
        "start_time": "2025-01-19T19:46:21.247Z"
      },
      {
        "duration": 281,
        "start_time": "2025-01-19T19:46:21.254Z"
      },
      {
        "duration": 221,
        "start_time": "2025-01-19T19:46:21.536Z"
      },
      {
        "duration": 160,
        "start_time": "2025-01-19T19:46:21.758Z"
      },
      {
        "duration": 342,
        "start_time": "2025-01-19T19:46:21.919Z"
      },
      {
        "duration": 195,
        "start_time": "2025-01-19T19:46:22.262Z"
      },
      {
        "duration": 4671,
        "start_time": "2025-01-19T19:46:22.458Z"
      },
      {
        "duration": 187,
        "start_time": "2025-01-19T19:46:27.130Z"
      },
      {
        "duration": 186,
        "start_time": "2025-01-19T19:46:27.319Z"
      },
      {
        "duration": 213,
        "start_time": "2025-01-19T19:46:27.507Z"
      },
      {
        "duration": 982,
        "start_time": "2025-01-19T19:46:27.721Z"
      },
      {
        "duration": 187,
        "start_time": "2025-01-19T19:46:28.705Z"
      },
      {
        "duration": 10,
        "start_time": "2025-01-19T19:46:28.894Z"
      },
      {
        "duration": 10,
        "start_time": "2025-01-19T19:46:28.906Z"
      },
      {
        "duration": 813,
        "start_time": "2025-01-19T19:46:28.917Z"
      },
      {
        "duration": 337,
        "start_time": "2025-01-19T19:46:29.733Z"
      },
      {
        "duration": 8,
        "start_time": "2025-01-19T19:46:30.072Z"
      },
      {
        "duration": 100,
        "start_time": "2025-01-19T19:46:30.082Z"
      },
      {
        "duration": 14,
        "start_time": "2025-01-19T19:46:30.186Z"
      },
      {
        "duration": 9,
        "start_time": "2025-01-19T19:46:30.202Z"
      },
      {
        "duration": 206,
        "start_time": "2025-01-19T19:46:30.213Z"
      },
      {
        "duration": 196,
        "start_time": "2025-01-19T19:46:30.420Z"
      },
      {
        "duration": 4,
        "start_time": "2025-01-19T19:46:30.617Z"
      },
      {
        "duration": 31,
        "start_time": "2025-01-19T19:46:30.623Z"
      },
      {
        "duration": 3,
        "start_time": "2025-01-19T19:46:30.656Z"
      },
      {
        "duration": 226,
        "start_time": "2025-01-19T19:46:30.661Z"
      },
      {
        "duration": 15,
        "start_time": "2025-01-19T19:46:30.889Z"
      },
      {
        "duration": 4,
        "start_time": "2025-01-19T19:46:30.905Z"
      },
      {
        "duration": 653,
        "start_time": "2025-01-19T19:46:30.911Z"
      },
      {
        "duration": 4147,
        "start_time": "2025-01-20T04:36:08.861Z"
      },
      {
        "duration": 292,
        "start_time": "2025-01-20T04:36:13.010Z"
      },
      {
        "duration": 3,
        "start_time": "2025-01-20T04:36:13.304Z"
      },
      {
        "duration": 18,
        "start_time": "2025-01-20T04:36:13.310Z"
      },
      {
        "duration": 10,
        "start_time": "2025-01-20T04:36:13.329Z"
      },
      {
        "duration": 9,
        "start_time": "2025-01-20T04:36:13.341Z"
      },
      {
        "duration": 7,
        "start_time": "2025-01-20T04:36:13.352Z"
      },
      {
        "duration": 10,
        "start_time": "2025-01-20T04:36:13.388Z"
      },
      {
        "duration": 5,
        "start_time": "2025-01-20T04:36:13.399Z"
      },
      {
        "duration": 5,
        "start_time": "2025-01-20T04:36:13.408Z"
      },
      {
        "duration": 448,
        "start_time": "2025-01-20T04:36:13.415Z"
      },
      {
        "duration": 284,
        "start_time": "2025-01-20T04:36:13.865Z"
      },
      {
        "duration": 287,
        "start_time": "2025-01-20T04:36:14.151Z"
      },
      {
        "duration": 445,
        "start_time": "2025-01-20T04:36:14.440Z"
      },
      {
        "duration": 295,
        "start_time": "2025-01-20T04:36:14.887Z"
      },
      {
        "duration": 4007,
        "start_time": "2025-01-20T04:36:15.187Z"
      },
      {
        "duration": 323,
        "start_time": "2025-01-20T04:36:19.196Z"
      },
      {
        "duration": 309,
        "start_time": "2025-01-20T04:36:19.521Z"
      },
      {
        "duration": 326,
        "start_time": "2025-01-20T04:36:19.832Z"
      },
      {
        "duration": 660,
        "start_time": "2025-01-20T04:36:20.159Z"
      },
      {
        "duration": 310,
        "start_time": "2025-01-20T04:36:20.821Z"
      },
      {
        "duration": 11,
        "start_time": "2025-01-20T04:36:21.133Z"
      },
      {
        "duration": 18,
        "start_time": "2025-01-20T04:36:21.145Z"
      },
      {
        "duration": 671,
        "start_time": "2025-01-20T04:36:21.165Z"
      },
      {
        "duration": 348,
        "start_time": "2025-01-20T04:36:21.838Z"
      },
      {
        "duration": 10,
        "start_time": "2025-01-20T04:36:22.188Z"
      },
      {
        "duration": 15,
        "start_time": "2025-01-20T04:36:22.199Z"
      },
      {
        "duration": 15,
        "start_time": "2025-01-20T04:36:22.219Z"
      },
      {
        "duration": 5,
        "start_time": "2025-01-20T04:36:22.236Z"
      },
      {
        "duration": 347,
        "start_time": "2025-01-20T04:36:22.243Z"
      },
      {
        "duration": 317,
        "start_time": "2025-01-20T04:36:22.592Z"
      },
      {
        "duration": 4,
        "start_time": "2025-01-20T04:36:22.912Z"
      },
      {
        "duration": 13,
        "start_time": "2025-01-20T04:36:22.919Z"
      },
      {
        "duration": 4,
        "start_time": "2025-01-20T04:36:22.934Z"
      },
      {
        "duration": 354,
        "start_time": "2025-01-20T04:36:22.940Z"
      },
      {
        "duration": 12,
        "start_time": "2025-01-20T04:36:23.296Z"
      },
      {
        "duration": 9,
        "start_time": "2025-01-20T04:36:23.310Z"
      },
      {
        "duration": 528,
        "start_time": "2025-01-20T04:36:23.320Z"
      },
      {
        "duration": 50,
        "start_time": "2025-01-21T17:26:27.120Z"
      },
      {
        "duration": 5170,
        "start_time": "2025-01-21T17:26:31.971Z"
      },
      {
        "duration": 122,
        "start_time": "2025-01-21T17:26:37.143Z"
      },
      {
        "duration": 3,
        "start_time": "2025-01-21T17:26:37.266Z"
      },
      {
        "duration": 57,
        "start_time": "2025-01-21T17:26:37.271Z"
      },
      {
        "duration": 12,
        "start_time": "2025-01-21T17:26:37.329Z"
      },
      {
        "duration": 33,
        "start_time": "2025-01-21T17:26:37.342Z"
      },
      {
        "duration": 17,
        "start_time": "2025-01-21T17:26:37.377Z"
      },
      {
        "duration": 10,
        "start_time": "2025-01-21T17:26:37.396Z"
      },
      {
        "duration": 5,
        "start_time": "2025-01-21T17:26:37.407Z"
      },
      {
        "duration": 4,
        "start_time": "2025-01-21T17:26:37.416Z"
      },
      {
        "duration": 335,
        "start_time": "2025-01-21T17:26:37.422Z"
      },
      {
        "duration": 273,
        "start_time": "2025-01-21T17:26:37.759Z"
      },
      {
        "duration": 175,
        "start_time": "2025-01-21T17:26:38.034Z"
      },
      {
        "duration": 409,
        "start_time": "2025-01-21T17:26:38.215Z"
      },
      {
        "duration": 225,
        "start_time": "2025-01-21T17:26:38.626Z"
      },
      {
        "duration": 6635,
        "start_time": "2025-01-21T17:26:38.853Z"
      },
      {
        "duration": 212,
        "start_time": "2025-01-21T17:26:45.490Z"
      },
      {
        "duration": 202,
        "start_time": "2025-01-21T17:26:45.704Z"
      },
      {
        "duration": 155,
        "start_time": "2025-01-21T17:26:45.907Z"
      },
      {
        "duration": 212,
        "start_time": "2025-01-21T17:26:46.064Z"
      },
      {
        "duration": 1280,
        "start_time": "2025-01-21T17:26:46.277Z"
      },
      {
        "duration": 211,
        "start_time": "2025-01-21T17:26:47.559Z"
      },
      {
        "duration": 11,
        "start_time": "2025-01-21T17:26:47.772Z"
      },
      {
        "duration": 59,
        "start_time": "2025-01-21T17:26:47.785Z"
      },
      {
        "duration": 902,
        "start_time": "2025-01-21T17:26:47.846Z"
      },
      {
        "duration": 349,
        "start_time": "2025-01-21T17:26:48.749Z"
      },
      {
        "duration": 15,
        "start_time": "2025-01-21T17:26:49.100Z"
      },
      {
        "duration": 13,
        "start_time": "2025-01-21T17:26:49.119Z"
      },
      {
        "duration": 17,
        "start_time": "2025-01-21T17:26:49.133Z"
      },
      {
        "duration": 12,
        "start_time": "2025-01-21T17:26:49.152Z"
      },
      {
        "duration": 252,
        "start_time": "2025-01-21T17:26:49.165Z"
      },
      {
        "duration": 210,
        "start_time": "2025-01-21T17:26:49.419Z"
      },
      {
        "duration": 4,
        "start_time": "2025-01-21T17:26:49.631Z"
      },
      {
        "duration": 31,
        "start_time": "2025-01-21T17:26:49.637Z"
      },
      {
        "duration": 4,
        "start_time": "2025-01-21T17:26:49.670Z"
      },
      {
        "duration": 366,
        "start_time": "2025-01-21T17:26:49.676Z"
      },
      {
        "duration": 17,
        "start_time": "2025-01-21T17:26:50.043Z"
      },
      {
        "duration": 9,
        "start_time": "2025-01-21T17:26:50.061Z"
      },
      {
        "duration": 611,
        "start_time": "2025-01-21T17:26:50.072Z"
      },
      {
        "duration": 1155,
        "start_time": "2025-01-21T17:32:03.488Z"
      },
      {
        "duration": 1150,
        "start_time": "2025-01-21T17:33:49.965Z"
      },
      {
        "duration": 149,
        "start_time": "2025-01-21T17:37:05.677Z"
      },
      {
        "duration": 3399,
        "start_time": "2025-01-21T17:37:10.432Z"
      },
      {
        "duration": 52,
        "start_time": "2025-01-21T17:37:18.341Z"
      },
      {
        "duration": 128,
        "start_time": "2025-01-21T17:38:16.693Z"
      },
      {
        "duration": 89,
        "start_time": "2025-01-21T17:38:27.225Z"
      },
      {
        "duration": 48,
        "start_time": "2025-01-21T17:38:36.361Z"
      },
      {
        "duration": 373,
        "start_time": "2025-01-21T17:40:50.859Z"
      },
      {
        "duration": 53,
        "start_time": "2025-01-21T17:46:25.451Z"
      },
      {
        "duration": 4097,
        "start_time": "2025-01-21T17:46:34.375Z"
      },
      {
        "duration": 109,
        "start_time": "2025-01-21T17:46:38.474Z"
      },
      {
        "duration": 3,
        "start_time": "2025-01-21T17:46:38.585Z"
      },
      {
        "duration": 39,
        "start_time": "2025-01-21T17:46:38.590Z"
      },
      {
        "duration": 18,
        "start_time": "2025-01-21T17:46:38.630Z"
      },
      {
        "duration": 87,
        "start_time": "2025-01-21T17:46:38.650Z"
      },
      {
        "duration": 6,
        "start_time": "2025-01-21T17:46:38.739Z"
      },
      {
        "duration": 12,
        "start_time": "2025-01-21T17:46:38.747Z"
      },
      {
        "duration": 4,
        "start_time": "2025-01-21T17:46:38.761Z"
      },
      {
        "duration": 6,
        "start_time": "2025-01-21T17:46:38.768Z"
      },
      {
        "duration": 409,
        "start_time": "2025-01-21T17:46:38.775Z"
      },
      {
        "duration": 282,
        "start_time": "2025-01-21T17:46:39.187Z"
      },
      {
        "duration": 180,
        "start_time": "2025-01-21T17:46:39.472Z"
      },
      {
        "duration": 420,
        "start_time": "2025-01-21T17:46:39.654Z"
      },
      {
        "duration": 228,
        "start_time": "2025-01-21T17:46:40.076Z"
      },
      {
        "duration": 5835,
        "start_time": "2025-01-21T17:46:40.306Z"
      },
      {
        "duration": 212,
        "start_time": "2025-01-21T17:46:46.143Z"
      },
      {
        "duration": 209,
        "start_time": "2025-01-21T17:46:46.357Z"
      },
      {
        "duration": 166,
        "start_time": "2025-01-21T17:46:46.568Z"
      },
      {
        "duration": 226,
        "start_time": "2025-01-21T17:46:46.736Z"
      },
      {
        "duration": 1770,
        "start_time": "2025-01-21T17:46:46.964Z"
      },
      {
        "duration": 489,
        "start_time": "2025-01-21T17:46:48.735Z"
      },
      {
        "duration": 14,
        "start_time": "2025-01-21T17:46:49.226Z"
      },
      {
        "duration": 12,
        "start_time": "2025-01-21T17:46:49.242Z"
      },
      {
        "duration": 972,
        "start_time": "2025-01-21T17:46:49.256Z"
      },
      {
        "duration": 155,
        "start_time": "2025-01-21T17:46:50.229Z"
      },
      {
        "duration": 0,
        "start_time": "2025-01-21T17:46:50.386Z"
      },
      {
        "duration": 0,
        "start_time": "2025-01-21T17:46:50.387Z"
      },
      {
        "duration": 0,
        "start_time": "2025-01-21T17:46:50.389Z"
      },
      {
        "duration": 0,
        "start_time": "2025-01-21T17:46:50.390Z"
      },
      {
        "duration": 0,
        "start_time": "2025-01-21T17:46:50.391Z"
      },
      {
        "duration": 0,
        "start_time": "2025-01-21T17:46:50.392Z"
      },
      {
        "duration": 0,
        "start_time": "2025-01-21T17:46:50.393Z"
      },
      {
        "duration": 0,
        "start_time": "2025-01-21T17:46:50.394Z"
      },
      {
        "duration": 0,
        "start_time": "2025-01-21T17:46:50.395Z"
      },
      {
        "duration": 0,
        "start_time": "2025-01-21T17:46:50.396Z"
      },
      {
        "duration": 0,
        "start_time": "2025-01-21T17:46:50.415Z"
      },
      {
        "duration": 0,
        "start_time": "2025-01-21T17:46:50.416Z"
      },
      {
        "duration": 0,
        "start_time": "2025-01-21T17:46:50.418Z"
      },
      {
        "duration": 0,
        "start_time": "2025-01-21T17:46:50.420Z"
      },
      {
        "duration": 363,
        "start_time": "2025-01-21T17:47:48.332Z"
      },
      {
        "duration": 2757,
        "start_time": "2025-01-21T17:49:16.937Z"
      },
      {
        "duration": 325,
        "start_time": "2025-01-21T17:50:13.848Z"
      },
      {
        "duration": 121,
        "start_time": "2025-01-22T16:11:08.734Z"
      },
      {
        "duration": 5486,
        "start_time": "2025-01-22T16:11:19.507Z"
      },
      {
        "duration": 193,
        "start_time": "2025-01-22T16:11:25.000Z"
      },
      {
        "duration": 3,
        "start_time": "2025-01-22T16:11:25.199Z"
      },
      {
        "duration": 31,
        "start_time": "2025-01-22T16:11:25.204Z"
      },
      {
        "duration": 23,
        "start_time": "2025-01-22T16:11:25.237Z"
      },
      {
        "duration": 11,
        "start_time": "2025-01-22T16:11:25.261Z"
      },
      {
        "duration": 8,
        "start_time": "2025-01-22T16:11:25.274Z"
      },
      {
        "duration": 15,
        "start_time": "2025-01-22T16:11:25.294Z"
      },
      {
        "duration": 5,
        "start_time": "2025-01-22T16:11:25.311Z"
      },
      {
        "duration": 8,
        "start_time": "2025-01-22T16:11:25.319Z"
      },
      {
        "duration": 374,
        "start_time": "2025-01-22T16:11:25.329Z"
      },
      {
        "duration": 276,
        "start_time": "2025-01-22T16:11:25.705Z"
      },
      {
        "duration": 212,
        "start_time": "2025-01-22T16:11:25.985Z"
      },
      {
        "duration": 461,
        "start_time": "2025-01-22T16:11:26.199Z"
      },
      {
        "duration": 256,
        "start_time": "2025-01-22T16:11:26.662Z"
      },
      {
        "duration": 6540,
        "start_time": "2025-01-22T16:11:26.920Z"
      },
      {
        "duration": 242,
        "start_time": "2025-01-22T16:11:33.462Z"
      },
      {
        "duration": 222,
        "start_time": "2025-01-22T16:11:33.706Z"
      },
      {
        "duration": 175,
        "start_time": "2025-01-22T16:11:33.929Z"
      },
      {
        "duration": 247,
        "start_time": "2025-01-22T16:11:34.106Z"
      },
      {
        "duration": 1293,
        "start_time": "2025-01-22T16:11:34.355Z"
      },
      {
        "duration": 247,
        "start_time": "2025-01-22T16:11:35.650Z"
      },
      {
        "duration": 12,
        "start_time": "2025-01-22T16:11:35.900Z"
      },
      {
        "duration": 51,
        "start_time": "2025-01-22T16:11:35.914Z"
      },
      {
        "duration": 1057,
        "start_time": "2025-01-22T16:11:35.966Z"
      },
      {
        "duration": 3095,
        "start_time": "2025-01-22T16:11:37.025Z"
      },
      {
        "duration": 386,
        "start_time": "2025-01-22T16:11:40.122Z"
      },
      {
        "duration": 9,
        "start_time": "2025-01-22T16:11:40.513Z"
      },
      {
        "duration": 17,
        "start_time": "2025-01-22T16:11:40.523Z"
      },
      {
        "duration": 110,
        "start_time": "2025-01-22T16:11:40.541Z"
      },
      {
        "duration": 0,
        "start_time": "2025-01-22T16:11:40.653Z"
      },
      {
        "duration": 0,
        "start_time": "2025-01-22T16:11:40.654Z"
      },
      {
        "duration": 0,
        "start_time": "2025-01-22T16:11:40.655Z"
      },
      {
        "duration": 0,
        "start_time": "2025-01-22T16:11:40.657Z"
      },
      {
        "duration": 0,
        "start_time": "2025-01-22T16:11:40.658Z"
      },
      {
        "duration": 0,
        "start_time": "2025-01-22T16:11:40.660Z"
      },
      {
        "duration": 0,
        "start_time": "2025-01-22T16:11:40.662Z"
      },
      {
        "duration": 0,
        "start_time": "2025-01-22T16:11:40.663Z"
      },
      {
        "duration": 0,
        "start_time": "2025-01-22T16:11:40.665Z"
      },
      {
        "duration": 0,
        "start_time": "2025-01-22T16:11:40.666Z"
      },
      {
        "duration": 0,
        "start_time": "2025-01-22T16:11:40.667Z"
      },
      {
        "duration": 109,
        "start_time": "2025-01-22T16:12:14.384Z"
      },
      {
        "duration": 20,
        "start_time": "2025-01-22T16:12:35.881Z"
      },
      {
        "duration": 21,
        "start_time": "2025-01-22T16:15:36.919Z"
      },
      {
        "duration": 25,
        "start_time": "2025-01-22T16:21:33.900Z"
      },
      {
        "duration": 4233,
        "start_time": "2025-01-22T16:22:46.000Z"
      },
      {
        "duration": 113,
        "start_time": "2025-01-22T16:22:50.236Z"
      },
      {
        "duration": 4,
        "start_time": "2025-01-22T16:22:50.351Z"
      },
      {
        "duration": 59,
        "start_time": "2025-01-22T16:22:50.357Z"
      },
      {
        "duration": 12,
        "start_time": "2025-01-22T16:22:50.419Z"
      },
      {
        "duration": 25,
        "start_time": "2025-01-22T16:22:50.432Z"
      },
      {
        "duration": 8,
        "start_time": "2025-01-22T16:22:50.459Z"
      },
      {
        "duration": 33,
        "start_time": "2025-01-22T16:22:50.468Z"
      },
      {
        "duration": 14,
        "start_time": "2025-01-22T16:22:50.503Z"
      },
      {
        "duration": 10,
        "start_time": "2025-01-22T16:22:50.519Z"
      },
      {
        "duration": 349,
        "start_time": "2025-01-22T16:22:50.531Z"
      },
      {
        "duration": 284,
        "start_time": "2025-01-22T16:22:50.886Z"
      },
      {
        "duration": 191,
        "start_time": "2025-01-22T16:22:51.172Z"
      },
      {
        "duration": 440,
        "start_time": "2025-01-22T16:22:51.367Z"
      },
      {
        "duration": 261,
        "start_time": "2025-01-22T16:22:51.809Z"
      },
      {
        "duration": 6413,
        "start_time": "2025-01-22T16:22:52.073Z"
      },
      {
        "duration": 239,
        "start_time": "2025-01-22T16:22:58.487Z"
      },
      {
        "duration": 226,
        "start_time": "2025-01-22T16:22:58.728Z"
      },
      {
        "duration": 176,
        "start_time": "2025-01-22T16:22:58.957Z"
      },
      {
        "duration": 254,
        "start_time": "2025-01-22T16:22:59.135Z"
      },
      {
        "duration": 1320,
        "start_time": "2025-01-22T16:22:59.391Z"
      },
      {
        "duration": 234,
        "start_time": "2025-01-22T16:23:00.713Z"
      },
      {
        "duration": 13,
        "start_time": "2025-01-22T16:23:00.948Z"
      },
      {
        "duration": 30,
        "start_time": "2025-01-22T16:23:00.963Z"
      },
      {
        "duration": 980,
        "start_time": "2025-01-22T16:23:00.995Z"
      },
      {
        "duration": 3012,
        "start_time": "2025-01-22T16:23:01.977Z"
      },
      {
        "duration": 350,
        "start_time": "2025-01-22T16:23:04.991Z"
      },
      {
        "duration": 10,
        "start_time": "2025-01-22T16:23:05.344Z"
      },
      {
        "duration": 33,
        "start_time": "2025-01-22T16:23:05.356Z"
      },
      {
        "duration": 15,
        "start_time": "2025-01-22T16:23:05.392Z"
      },
      {
        "duration": 30,
        "start_time": "2025-01-22T16:23:05.410Z"
      },
      {
        "duration": 6,
        "start_time": "2025-01-22T16:23:05.442Z"
      },
      {
        "duration": 272,
        "start_time": "2025-01-22T16:23:05.450Z"
      },
      {
        "duration": 239,
        "start_time": "2025-01-22T16:23:05.724Z"
      },
      {
        "duration": 5,
        "start_time": "2025-01-22T16:23:05.964Z"
      },
      {
        "duration": 37,
        "start_time": "2025-01-22T16:23:05.971Z"
      },
      {
        "duration": 15,
        "start_time": "2025-01-22T16:23:06.010Z"
      },
      {
        "duration": 288,
        "start_time": "2025-01-22T16:23:06.027Z"
      },
      {
        "duration": 18,
        "start_time": "2025-01-22T16:23:06.318Z"
      },
      {
        "duration": 38,
        "start_time": "2025-01-22T16:23:06.338Z"
      },
      {
        "duration": 675,
        "start_time": "2025-01-22T16:23:06.381Z"
      },
      {
        "duration": 18,
        "start_time": "2025-01-22T16:29:51.906Z"
      },
      {
        "duration": 5,
        "start_time": "2025-01-22T16:29:56.427Z"
      },
      {
        "duration": 232,
        "start_time": "2025-01-22T16:30:37.730Z"
      },
      {
        "duration": 4101,
        "start_time": "2025-01-22T19:38:12.538Z"
      },
      {
        "duration": 125,
        "start_time": "2025-01-22T19:38:16.641Z"
      },
      {
        "duration": 4,
        "start_time": "2025-01-22T19:38:16.767Z"
      },
      {
        "duration": 47,
        "start_time": "2025-01-22T19:38:16.773Z"
      },
      {
        "duration": 11,
        "start_time": "2025-01-22T19:38:16.822Z"
      },
      {
        "duration": 20,
        "start_time": "2025-01-22T19:38:16.835Z"
      },
      {
        "duration": 14,
        "start_time": "2025-01-22T19:38:16.857Z"
      },
      {
        "duration": 14,
        "start_time": "2025-01-22T19:38:16.873Z"
      },
      {
        "duration": 29,
        "start_time": "2025-01-22T19:38:16.889Z"
      },
      {
        "duration": 19,
        "start_time": "2025-01-22T19:38:16.920Z"
      },
      {
        "duration": 354,
        "start_time": "2025-01-22T19:38:16.940Z"
      },
      {
        "duration": 277,
        "start_time": "2025-01-22T19:38:17.295Z"
      },
      {
        "duration": 185,
        "start_time": "2025-01-22T19:38:17.574Z"
      },
      {
        "duration": 428,
        "start_time": "2025-01-22T19:38:17.760Z"
      },
      {
        "duration": 233,
        "start_time": "2025-01-22T19:38:18.190Z"
      },
      {
        "duration": 6602,
        "start_time": "2025-01-22T19:38:18.425Z"
      },
      {
        "duration": 484,
        "start_time": "2025-01-22T19:38:25.029Z"
      },
      {
        "duration": 294,
        "start_time": "2025-01-22T19:38:25.515Z"
      },
      {
        "duration": 160,
        "start_time": "2025-01-22T19:38:25.811Z"
      },
      {
        "duration": 218,
        "start_time": "2025-01-22T19:38:25.973Z"
      },
      {
        "duration": 1905,
        "start_time": "2025-01-22T19:38:26.193Z"
      },
      {
        "duration": 401,
        "start_time": "2025-01-22T19:38:28.099Z"
      },
      {
        "duration": 12,
        "start_time": "2025-01-22T19:38:28.502Z"
      },
      {
        "duration": 29,
        "start_time": "2025-01-22T19:38:28.516Z"
      },
      {
        "duration": 1267,
        "start_time": "2025-01-22T19:38:28.547Z"
      },
      {
        "duration": 4276,
        "start_time": "2025-01-22T19:38:29.816Z"
      },
      {
        "duration": 346,
        "start_time": "2025-01-22T19:38:34.094Z"
      },
      {
        "duration": 9,
        "start_time": "2025-01-22T19:38:34.444Z"
      },
      {
        "duration": 58,
        "start_time": "2025-01-22T19:38:34.455Z"
      },
      {
        "duration": 13,
        "start_time": "2025-01-22T19:38:34.515Z"
      },
      {
        "duration": 35,
        "start_time": "2025-01-22T19:38:34.530Z"
      },
      {
        "duration": 10,
        "start_time": "2025-01-22T19:38:34.567Z"
      },
      {
        "duration": 253,
        "start_time": "2025-01-22T19:38:34.579Z"
      },
      {
        "duration": 229,
        "start_time": "2025-01-22T19:38:34.834Z"
      },
      {
        "duration": 4,
        "start_time": "2025-01-22T19:38:35.065Z"
      },
      {
        "duration": 25,
        "start_time": "2025-01-22T19:38:35.085Z"
      },
      {
        "duration": 4,
        "start_time": "2025-01-22T19:38:35.112Z"
      },
      {
        "duration": 271,
        "start_time": "2025-01-22T19:38:35.117Z"
      },
      {
        "duration": 24,
        "start_time": "2025-01-22T19:38:35.390Z"
      },
      {
        "duration": 4,
        "start_time": "2025-01-22T19:38:35.415Z"
      },
      {
        "duration": 279,
        "start_time": "2025-01-22T19:38:35.421Z"
      },
      {
        "duration": 577,
        "start_time": "2025-01-22T19:38:35.701Z"
      },
      {
        "duration": 4317,
        "start_time": "2025-01-22T19:47:55.587Z"
      },
      {
        "duration": 141,
        "start_time": "2025-01-22T19:47:59.907Z"
      },
      {
        "duration": 4,
        "start_time": "2025-01-22T19:48:00.050Z"
      },
      {
        "duration": 114,
        "start_time": "2025-01-22T19:48:00.056Z"
      },
      {
        "duration": 77,
        "start_time": "2025-01-22T19:48:00.172Z"
      },
      {
        "duration": 54,
        "start_time": "2025-01-22T19:48:00.251Z"
      },
      {
        "duration": 44,
        "start_time": "2025-01-22T19:48:00.307Z"
      },
      {
        "duration": 36,
        "start_time": "2025-01-22T19:48:00.353Z"
      },
      {
        "duration": 47,
        "start_time": "2025-01-22T19:48:00.391Z"
      },
      {
        "duration": 44,
        "start_time": "2025-01-22T19:48:00.440Z"
      },
      {
        "duration": 383,
        "start_time": "2025-01-22T19:48:00.486Z"
      },
      {
        "duration": 315,
        "start_time": "2025-01-22T19:48:00.871Z"
      },
      {
        "duration": 200,
        "start_time": "2025-01-22T19:48:01.188Z"
      },
      {
        "duration": 479,
        "start_time": "2025-01-22T19:48:01.390Z"
      },
      {
        "duration": 256,
        "start_time": "2025-01-22T19:48:01.872Z"
      },
      {
        "duration": 6812,
        "start_time": "2025-01-22T19:48:02.130Z"
      },
      {
        "duration": 277,
        "start_time": "2025-01-22T19:48:08.944Z"
      },
      {
        "duration": 243,
        "start_time": "2025-01-22T19:48:09.223Z"
      },
      {
        "duration": 169,
        "start_time": "2025-01-22T19:48:09.467Z"
      },
      {
        "duration": 238,
        "start_time": "2025-01-22T19:48:09.638Z"
      },
      {
        "duration": 1326,
        "start_time": "2025-01-22T19:48:09.885Z"
      },
      {
        "duration": 258,
        "start_time": "2025-01-22T19:48:11.214Z"
      },
      {
        "duration": 24,
        "start_time": "2025-01-22T19:48:11.474Z"
      },
      {
        "duration": 22,
        "start_time": "2025-01-22T19:48:11.502Z"
      },
      {
        "duration": 1008,
        "start_time": "2025-01-22T19:48:11.526Z"
      },
      {
        "duration": 2961,
        "start_time": "2025-01-22T19:48:12.536Z"
      },
      {
        "duration": 338,
        "start_time": "2025-01-22T19:48:15.499Z"
      },
      {
        "duration": 9,
        "start_time": "2025-01-22T19:48:15.840Z"
      },
      {
        "duration": 32,
        "start_time": "2025-01-22T19:48:15.850Z"
      },
      {
        "duration": 18,
        "start_time": "2025-01-22T19:48:15.883Z"
      },
      {
        "duration": 29,
        "start_time": "2025-01-22T19:48:15.904Z"
      },
      {
        "duration": 5,
        "start_time": "2025-01-22T19:48:15.934Z"
      },
      {
        "duration": 273,
        "start_time": "2025-01-22T19:48:15.941Z"
      },
      {
        "duration": 236,
        "start_time": "2025-01-22T19:48:16.216Z"
      },
      {
        "duration": 5,
        "start_time": "2025-01-22T19:48:16.454Z"
      },
      {
        "duration": 61,
        "start_time": "2025-01-22T19:48:16.461Z"
      },
      {
        "duration": 7,
        "start_time": "2025-01-22T19:48:16.525Z"
      },
      {
        "duration": 590,
        "start_time": "2025-01-22T19:48:16.534Z"
      },
      {
        "duration": 89,
        "start_time": "2025-01-22T19:48:17.126Z"
      },
      {
        "duration": 5,
        "start_time": "2025-01-22T19:48:17.216Z"
      },
      {
        "duration": 563,
        "start_time": "2025-01-22T19:48:17.223Z"
      },
      {
        "duration": 873,
        "start_time": "2025-01-22T19:48:17.788Z"
      },
      {
        "duration": 4076,
        "start_time": "2025-01-22T19:53:16.042Z"
      },
      {
        "duration": 142,
        "start_time": "2025-01-22T19:53:20.120Z"
      },
      {
        "duration": 4,
        "start_time": "2025-01-22T19:53:20.264Z"
      },
      {
        "duration": 50,
        "start_time": "2025-01-22T19:53:20.271Z"
      },
      {
        "duration": 24,
        "start_time": "2025-01-22T19:53:20.323Z"
      },
      {
        "duration": 11,
        "start_time": "2025-01-22T19:53:20.349Z"
      },
      {
        "duration": 14,
        "start_time": "2025-01-22T19:53:20.362Z"
      },
      {
        "duration": 28,
        "start_time": "2025-01-22T19:53:20.378Z"
      },
      {
        "duration": 6,
        "start_time": "2025-01-22T19:53:20.409Z"
      },
      {
        "duration": 25,
        "start_time": "2025-01-22T19:53:20.417Z"
      },
      {
        "duration": 355,
        "start_time": "2025-01-22T19:53:20.444Z"
      },
      {
        "duration": 292,
        "start_time": "2025-01-22T19:53:20.801Z"
      },
      {
        "duration": 198,
        "start_time": "2025-01-22T19:53:21.095Z"
      },
      {
        "duration": 454,
        "start_time": "2025-01-22T19:53:21.295Z"
      },
      {
        "duration": 276,
        "start_time": "2025-01-22T19:53:21.751Z"
      },
      {
        "duration": 6192,
        "start_time": "2025-01-22T19:53:22.030Z"
      },
      {
        "duration": 238,
        "start_time": "2025-01-22T19:53:28.224Z"
      },
      {
        "duration": 217,
        "start_time": "2025-01-22T19:53:28.463Z"
      },
      {
        "duration": 171,
        "start_time": "2025-01-22T19:53:28.681Z"
      },
      {
        "duration": 235,
        "start_time": "2025-01-22T19:53:28.854Z"
      },
      {
        "duration": 1298,
        "start_time": "2025-01-22T19:53:29.091Z"
      },
      {
        "duration": 223,
        "start_time": "2025-01-22T19:53:30.391Z"
      },
      {
        "duration": 12,
        "start_time": "2025-01-22T19:53:30.616Z"
      },
      {
        "duration": 51,
        "start_time": "2025-01-22T19:53:30.630Z"
      },
      {
        "duration": 934,
        "start_time": "2025-01-22T19:53:30.683Z"
      },
      {
        "duration": 2978,
        "start_time": "2025-01-22T19:53:31.618Z"
      },
      {
        "duration": 332,
        "start_time": "2025-01-22T19:53:34.597Z"
      },
      {
        "duration": 10,
        "start_time": "2025-01-22T19:53:34.934Z"
      },
      {
        "duration": 35,
        "start_time": "2025-01-22T19:53:34.946Z"
      },
      {
        "duration": 14,
        "start_time": "2025-01-22T19:53:34.986Z"
      },
      {
        "duration": 25,
        "start_time": "2025-01-22T19:53:35.002Z"
      },
      {
        "duration": 6,
        "start_time": "2025-01-22T19:53:35.028Z"
      },
      {
        "duration": 280,
        "start_time": "2025-01-22T19:53:35.036Z"
      },
      {
        "duration": 233,
        "start_time": "2025-01-22T19:53:35.318Z"
      },
      {
        "duration": 4,
        "start_time": "2025-01-22T19:53:35.552Z"
      },
      {
        "duration": 57,
        "start_time": "2025-01-22T19:53:35.558Z"
      },
      {
        "duration": 58,
        "start_time": "2025-01-22T19:53:35.616Z"
      },
      {
        "duration": 287,
        "start_time": "2025-01-22T19:53:35.676Z"
      },
      {
        "duration": 35,
        "start_time": "2025-01-22T19:53:35.965Z"
      },
      {
        "duration": 15,
        "start_time": "2025-01-22T19:53:36.002Z"
      },
      {
        "duration": 273,
        "start_time": "2025-01-22T19:53:36.019Z"
      },
      {
        "duration": 834,
        "start_time": "2025-01-22T19:53:36.294Z"
      },
      {
        "duration": 4174,
        "start_time": "2025-01-22T19:54:18.592Z"
      },
      {
        "duration": 132,
        "start_time": "2025-01-22T19:54:22.768Z"
      },
      {
        "duration": 4,
        "start_time": "2025-01-22T19:54:22.902Z"
      },
      {
        "duration": 47,
        "start_time": "2025-01-22T19:54:22.908Z"
      },
      {
        "duration": 42,
        "start_time": "2025-01-22T19:54:22.957Z"
      },
      {
        "duration": 11,
        "start_time": "2025-01-22T19:54:23.001Z"
      },
      {
        "duration": 8,
        "start_time": "2025-01-22T19:54:23.014Z"
      },
      {
        "duration": 11,
        "start_time": "2025-01-22T19:54:23.024Z"
      },
      {
        "duration": 30,
        "start_time": "2025-01-22T19:54:23.037Z"
      },
      {
        "duration": 18,
        "start_time": "2025-01-22T19:54:23.070Z"
      },
      {
        "duration": 363,
        "start_time": "2025-01-22T19:54:23.090Z"
      },
      {
        "duration": 286,
        "start_time": "2025-01-22T19:54:23.455Z"
      },
      {
        "duration": 193,
        "start_time": "2025-01-22T19:54:23.744Z"
      },
      {
        "duration": 439,
        "start_time": "2025-01-22T19:54:23.938Z"
      },
      {
        "duration": 230,
        "start_time": "2025-01-22T19:54:24.379Z"
      },
      {
        "duration": 6183,
        "start_time": "2025-01-22T19:54:24.611Z"
      },
      {
        "duration": 234,
        "start_time": "2025-01-22T19:54:30.795Z"
      },
      {
        "duration": 218,
        "start_time": "2025-01-22T19:54:31.031Z"
      },
      {
        "duration": 172,
        "start_time": "2025-01-22T19:54:31.251Z"
      },
      {
        "duration": 236,
        "start_time": "2025-01-22T19:54:31.425Z"
      },
      {
        "duration": 1308,
        "start_time": "2025-01-22T19:54:31.662Z"
      },
      {
        "duration": 234,
        "start_time": "2025-01-22T19:54:32.972Z"
      },
      {
        "duration": 12,
        "start_time": "2025-01-22T19:54:33.208Z"
      },
      {
        "duration": 45,
        "start_time": "2025-01-22T19:54:33.222Z"
      },
      {
        "duration": 946,
        "start_time": "2025-01-22T19:54:33.269Z"
      },
      {
        "duration": 2971,
        "start_time": "2025-01-22T19:54:34.217Z"
      },
      {
        "duration": 335,
        "start_time": "2025-01-22T19:54:37.190Z"
      },
      {
        "duration": 10,
        "start_time": "2025-01-22T19:54:37.528Z"
      },
      {
        "duration": 46,
        "start_time": "2025-01-22T19:54:37.539Z"
      },
      {
        "duration": 20,
        "start_time": "2025-01-22T19:54:37.587Z"
      },
      {
        "duration": 30,
        "start_time": "2025-01-22T19:54:37.608Z"
      },
      {
        "duration": 6,
        "start_time": "2025-01-22T19:54:37.640Z"
      },
      {
        "duration": 274,
        "start_time": "2025-01-22T19:54:37.648Z"
      },
      {
        "duration": 232,
        "start_time": "2025-01-22T19:54:37.924Z"
      },
      {
        "duration": 4,
        "start_time": "2025-01-22T19:54:38.158Z"
      },
      {
        "duration": 40,
        "start_time": "2025-01-22T19:54:38.164Z"
      },
      {
        "duration": 4,
        "start_time": "2025-01-22T19:54:38.206Z"
      },
      {
        "duration": 283,
        "start_time": "2025-01-22T19:54:38.212Z"
      },
      {
        "duration": 25,
        "start_time": "2025-01-22T19:54:38.497Z"
      },
      {
        "duration": 4,
        "start_time": "2025-01-22T19:54:38.524Z"
      },
      {
        "duration": 260,
        "start_time": "2025-01-22T19:54:38.530Z"
      },
      {
        "duration": 581,
        "start_time": "2025-01-22T19:54:38.792Z"
      }
    ],
    "toc": {
      "base_numbering": 1,
      "nav_menu": {},
      "number_sections": true,
      "sideBar": true,
      "skip_h1_title": true,
      "title_cell": "Table of Contents",
      "title_sidebar": "Contents",
      "toc_cell": false,
      "toc_position": {
        "height": "254.4px",
        "left": "540px",
        "top": "110.525px",
        "width": "165px"
      },
      "toc_section_display": true,
      "toc_window_display": true
    }
  },
  "nbformat_minor": 4,
  "nbformat": 4,
  "cells": [
    {
      "cell_type": "markdown",
      "source": "# Материалы",
      "metadata": {}
    },
    {
      "cell_type": "markdown",
      "source": "[Презентация](https://docs.google.com/presentation/d/1i2H59nUjhLj2ms5Rpb3o44iYk7Ybv_Ajb9fhp5EHdfE/edit?usp=sharing)",
      "metadata": {}
    },
    {
      "cell_type": "markdown",
      "source": "# Анализ оттока клиентов",
      "metadata": {}
    },
    {
      "cell_type": "markdown",
      "source": "План исследования:\n1. Определение целей и знакомство с данными\n- Знакомство с данными\n\n2. Предобработка данных \n- Обработка дубликатов\n- Обработка пропусков\n- Приведение наименования колонок в корректный вид\n- Преобразование данных в нужные типы\n\n3. Исследовательский анализ данных \n- Подсчет доли ушедших клиентов\n- Построение гистограмм отточных и оставшихся клиентов по их основным характеристикам \n- Построение гистограмм отточных и оставшихся клиентов по их финансовым данным\n- Построение графиков отточных и оставшихся клиентов по данным о доходе и активности клиента\n- Матрица и столбец корреляций\n- Портрет клиента, который склонен и не склонен уходить из банка\n\n4. Проверка гипотез \n- Определение гипотез: формулировка нулевой и альтернативной гипотезы\n- Проведение тестов: Расчет p-значений\n- Интерпретация результатов\n\n5. Отбор лучших и формирование сегментов \n- Рекомендации на основе полученных данных\n\n6. Общий вывод",
      "metadata": {}
    },
    {
      "cell_type": "markdown",
      "source": "## Определение целей и знакомство с данными",
      "metadata": {}
    },
    {
      "cell_type": "markdown",
      "source": "Цель проекта: проанализировать клиентов регионального банка \"Метанпром\". Выделить сегменты клиентов и определить какие из них склонны уходить из банка.",
      "metadata": {}
    },
    {
      "cell_type": "code",
      "source": "import pandas as pd\n!pip install phik\nfrom phik import phik_matrix\nimport seaborn as sns\nimport matplotlib.pyplot as plt\nimport numpy as np\nfrom scipy.stats import chi2_contingency\nfrom scipy import stats as st\nfrom statsmodels.stats.proportion import proportions_ztest\nimport statsmodels.api as sm\nimport warnings\nwarnings.filterwarnings(\"ignore\")",
      "metadata": {},
      "outputs": [
        {
          "name": "stdout",
          "output_type": "stream",
          "text": "Requirement already satisfied: phik in /opt/conda/lib/python3.9/site-packages (0.12.4)\r\n,Requirement already satisfied: scipy>=1.5.2 in /opt/conda/lib/python3.9/site-packages (from phik) (1.9.1)\r\n,Requirement already satisfied: joblib>=0.14.1 in /opt/conda/lib/python3.9/site-packages (from phik) (1.1.0)\r\n,Requirement already satisfied: numpy>=1.18.0 in /opt/conda/lib/python3.9/site-packages (from phik) (1.21.1)\r\n,Requirement already satisfied: pandas>=0.25.1 in /opt/conda/lib/python3.9/site-packages (from phik) (1.2.4)\r\n,Requirement already satisfied: matplotlib>=2.2.3 in /opt/conda/lib/python3.9/site-packages (from phik) (3.3.4)\r\n,Requirement already satisfied: cycler>=0.10 in /opt/conda/lib/python3.9/site-packages (from matplotlib>=2.2.3->phik) (0.11.0)\r\n,Requirement already satisfied: python-dateutil>=2.1 in /opt/conda/lib/python3.9/site-packages (from matplotlib>=2.2.3->phik) (2.8.1)\r\n,Requirement already satisfied: pyparsing!=2.0.4,!=2.1.2,!=2.1.6,>=2.0.3 in /opt/conda/lib/python3.9/site-packages (from matplotlib>=2.2.3->phik) (2.4.7)\r\n,Requirement already satisfied: pillow>=6.2.0 in /opt/conda/lib/python3.9/site-packages (from matplotlib>=2.2.3->phik) (8.4.0)\r\n,Requirement already satisfied: kiwisolver>=1.0.1 in /opt/conda/lib/python3.9/site-packages (from matplotlib>=2.2.3->phik) (1.4.4)\r\n,Requirement already satisfied: pytz>=2017.3 in /opt/conda/lib/python3.9/site-packages (from pandas>=0.25.1->phik) (2021.1)\r\n,Requirement already satisfied: six>=1.5 in /opt/conda/lib/python3.9/site-packages (from python-dateutil>=2.1->matplotlib>=2.2.3->phik) (1.16.0)\r\n"
        }
      ],
      "execution_count": 1
    },
    {
      "cell_type": "markdown",
      "source": "Ознакомимся с данными",
      "metadata": {}
    },
    {
      "cell_type": "code",
      "source": "data = pd.read_csv('../../bank_scrooge.csv')\ndata.info()\ndata.head(50)",
      "metadata": {},
      "outputs": [
        {
          "name": "stdout",
          "output_type": "stream",
          "text": "<class 'pandas.core.frame.DataFrame'>\n,RangeIndex: 10000 entries, 0 to 9999\n,Data columns (total 12 columns):\n, #   Column         Non-Null Count  Dtype  \n,---  ------         --------------  -----  \n, 0   USERID         10000 non-null  int64  \n, 1   score          10000 non-null  float64\n, 2   city           10000 non-null  object \n, 3   gender         10000 non-null  object \n, 4   age            9974 non-null   float64\n, 5   equity         10000 non-null  int64  \n, 6   balance        7705 non-null   float64\n, 7   products       10000 non-null  int64  \n, 8   credit_card    10000 non-null  int64  \n, 9   last_activity  10000 non-null  int64  \n, 10  EST_SALARY     10000 non-null  float64\n, 11  churn          10000 non-null  int64  \n,dtypes: float64(4), int64(6), object(2)\n,memory usage: 937.6+ KB\n"
        },
        {
          "data": {
            "text/html": [
              "<div>\n",
              "<style scoped>\n",
              "    .dataframe tbody tr th:only-of-type {\n",
              "        vertical-align: middle;\n",
              "    }\n",
              "\n",
              "    .dataframe tbody tr th {\n",
              "        vertical-align: top;\n",
              "    }\n",
              "\n",
              "    .dataframe thead th {\n",
              "        text-align: right;\n",
              "    }\n",
              "</style>\n",
              "<table border=\"1\" class=\"dataframe\">\n",
              "  <thead>\n",
              "    <tr style=\"text-align: right;\">\n",
              "      <th></th>\n",
              "      <th>USERID</th>\n",
              "      <th>score</th>\n",
              "      <th>city</th>\n",
              "      <th>gender</th>\n",
              "      <th>age</th>\n",
              "      <th>equity</th>\n",
              "      <th>balance</th>\n",
              "      <th>products</th>\n",
              "      <th>credit_card</th>\n",
              "      <th>last_activity</th>\n",
              "      <th>EST_SALARY</th>\n",
              "      <th>churn</th>\n",
              "    </tr>\n",
              "  </thead>\n",
              "  <tbody>\n",
              "    <tr>\n",
              "      <th>0</th>\n",
              "      <td>183012</td>\n",
              "      <td>850.0</td>\n",
              "      <td>Рыбинск</td>\n",
              "      <td>Ж</td>\n",
              "      <td>25.0</td>\n",
              "      <td>1</td>\n",
              "      <td>59214.82</td>\n",
              "      <td>2</td>\n",
              "      <td>0</td>\n",
              "      <td>1</td>\n",
              "      <td>75719.14</td>\n",
              "      <td>1</td>\n",
              "    </tr>\n",
              "    <tr>\n",
              "      <th>1</th>\n",
              "      <td>146556</td>\n",
              "      <td>861.0</td>\n",
              "      <td>Рыбинск</td>\n",
              "      <td>Ж</td>\n",
              "      <td>37.0</td>\n",
              "      <td>5</td>\n",
              "      <td>850594.33</td>\n",
              "      <td>3</td>\n",
              "      <td>1</td>\n",
              "      <td>0</td>\n",
              "      <td>86621.77</td>\n",
              "      <td>0</td>\n",
              "    </tr>\n",
              "    <tr>\n",
              "      <th>2</th>\n",
              "      <td>120722</td>\n",
              "      <td>892.0</td>\n",
              "      <td>Рыбинск</td>\n",
              "      <td>Ж</td>\n",
              "      <td>30.0</td>\n",
              "      <td>0</td>\n",
              "      <td>NaN</td>\n",
              "      <td>1</td>\n",
              "      <td>1</td>\n",
              "      <td>1</td>\n",
              "      <td>107683.34</td>\n",
              "      <td>0</td>\n",
              "    </tr>\n",
              "    <tr>\n",
              "      <th>3</th>\n",
              "      <td>225363</td>\n",
              "      <td>866.0</td>\n",
              "      <td>Ярославль</td>\n",
              "      <td>Ж</td>\n",
              "      <td>51.0</td>\n",
              "      <td>5</td>\n",
              "      <td>1524746.26</td>\n",
              "      <td>2</td>\n",
              "      <td>0</td>\n",
              "      <td>1</td>\n",
              "      <td>174423.53</td>\n",
              "      <td>1</td>\n",
              "    </tr>\n",
              "    <tr>\n",
              "      <th>4</th>\n",
              "      <td>157978</td>\n",
              "      <td>730.0</td>\n",
              "      <td>Ярославль</td>\n",
              "      <td>М</td>\n",
              "      <td>34.0</td>\n",
              "      <td>5</td>\n",
              "      <td>174.00</td>\n",
              "      <td>1</td>\n",
              "      <td>1</td>\n",
              "      <td>0</td>\n",
              "      <td>67353.16</td>\n",
              "      <td>1</td>\n",
              "    </tr>\n",
              "    <tr>\n",
              "      <th>5</th>\n",
              "      <td>202305</td>\n",
              "      <td>856.0</td>\n",
              "      <td>Рыбинск</td>\n",
              "      <td>М</td>\n",
              "      <td>56.0</td>\n",
              "      <td>4</td>\n",
              "      <td>863687.24</td>\n",
              "      <td>3</td>\n",
              "      <td>1</td>\n",
              "      <td>0</td>\n",
              "      <td>156619.80</td>\n",
              "      <td>0</td>\n",
              "    </tr>\n",
              "    <tr>\n",
              "      <th>6</th>\n",
              "      <td>177259</td>\n",
              "      <td>807.0</td>\n",
              "      <td>Ярославль</td>\n",
              "      <td>Ж</td>\n",
              "      <td>39.0</td>\n",
              "      <td>3</td>\n",
              "      <td>405042.44</td>\n",
              "      <td>3</td>\n",
              "      <td>0</td>\n",
              "      <td>1</td>\n",
              "      <td>103838.32</td>\n",
              "      <td>0</td>\n",
              "    </tr>\n",
              "    <tr>\n",
              "      <th>7</th>\n",
              "      <td>218868</td>\n",
              "      <td>825.0</td>\n",
              "      <td>Ярославль</td>\n",
              "      <td>Ж</td>\n",
              "      <td>38.0</td>\n",
              "      <td>4</td>\n",
              "      <td>458145.40</td>\n",
              "      <td>2</td>\n",
              "      <td>1</td>\n",
              "      <td>1</td>\n",
              "      <td>68085.48</td>\n",
              "      <td>0</td>\n",
              "    </tr>\n",
              "    <tr>\n",
              "      <th>8</th>\n",
              "      <td>211686</td>\n",
              "      <td>923.0</td>\n",
              "      <td>Ярославль</td>\n",
              "      <td>М</td>\n",
              "      <td>54.0</td>\n",
              "      <td>5</td>\n",
              "      <td>1206337.87</td>\n",
              "      <td>2</td>\n",
              "      <td>1</td>\n",
              "      <td>0</td>\n",
              "      <td>155371.79</td>\n",
              "      <td>0</td>\n",
              "    </tr>\n",
              "    <tr>\n",
              "      <th>9</th>\n",
              "      <td>133130</td>\n",
              "      <td>906.0</td>\n",
              "      <td>Ярославль</td>\n",
              "      <td>Ж</td>\n",
              "      <td>67.0</td>\n",
              "      <td>0</td>\n",
              "      <td>NaN</td>\n",
              "      <td>1</td>\n",
              "      <td>0</td>\n",
              "      <td>1</td>\n",
              "      <td>238055.53</td>\n",
              "      <td>0</td>\n",
              "    </tr>\n",
              "    <tr>\n",
              "      <th>10</th>\n",
              "      <td>148929</td>\n",
              "      <td>927.0</td>\n",
              "      <td>Ростов</td>\n",
              "      <td>М</td>\n",
              "      <td>52.0</td>\n",
              "      <td>0</td>\n",
              "      <td>NaN</td>\n",
              "      <td>1</td>\n",
              "      <td>1</td>\n",
              "      <td>1</td>\n",
              "      <td>196820.07</td>\n",
              "      <td>0</td>\n",
              "    </tr>\n",
              "    <tr>\n",
              "      <th>11</th>\n",
              "      <td>172184</td>\n",
              "      <td>921.0</td>\n",
              "      <td>Ростов</td>\n",
              "      <td>М</td>\n",
              "      <td>41.0</td>\n",
              "      <td>0</td>\n",
              "      <td>NaN</td>\n",
              "      <td>1</td>\n",
              "      <td>1</td>\n",
              "      <td>1</td>\n",
              "      <td>217469.48</td>\n",
              "      <td>0</td>\n",
              "    </tr>\n",
              "    <tr>\n",
              "      <th>12</th>\n",
              "      <td>132970</td>\n",
              "      <td>845.0</td>\n",
              "      <td>Ярославль</td>\n",
              "      <td>Ж</td>\n",
              "      <td>31.0</td>\n",
              "      <td>3</td>\n",
              "      <td>591928.52</td>\n",
              "      <td>2</td>\n",
              "      <td>1</td>\n",
              "      <td>1</td>\n",
              "      <td>112697.16</td>\n",
              "      <td>1</td>\n",
              "    </tr>\n",
              "    <tr>\n",
              "      <th>13</th>\n",
              "      <td>166357</td>\n",
              "      <td>837.0</td>\n",
              "      <td>Рыбинск</td>\n",
              "      <td>Ж</td>\n",
              "      <td>28.0</td>\n",
              "      <td>4</td>\n",
              "      <td>302249.22</td>\n",
              "      <td>2</td>\n",
              "      <td>0</td>\n",
              "      <td>1</td>\n",
              "      <td>30950.94</td>\n",
              "      <td>0</td>\n",
              "    </tr>\n",
              "    <tr>\n",
              "      <th>14</th>\n",
              "      <td>172138</td>\n",
              "      <td>815.0</td>\n",
              "      <td>Ярославль</td>\n",
              "      <td>М</td>\n",
              "      <td>35.0</td>\n",
              "      <td>5</td>\n",
              "      <td>547499.87</td>\n",
              "      <td>2</td>\n",
              "      <td>1</td>\n",
              "      <td>1</td>\n",
              "      <td>105883.26</td>\n",
              "      <td>0</td>\n",
              "    </tr>\n",
              "    <tr>\n",
              "      <th>15</th>\n",
              "      <td>120260</td>\n",
              "      <td>731.0</td>\n",
              "      <td>Рыбинск</td>\n",
              "      <td>М</td>\n",
              "      <td>42.0</td>\n",
              "      <td>3</td>\n",
              "      <td>1480548.47</td>\n",
              "      <td>3</td>\n",
              "      <td>1</td>\n",
              "      <td>0</td>\n",
              "      <td>160974.43</td>\n",
              "      <td>0</td>\n",
              "    </tr>\n",
              "    <tr>\n",
              "      <th>16</th>\n",
              "      <td>123335</td>\n",
              "      <td>829.0</td>\n",
              "      <td>Ярославль</td>\n",
              "      <td>М</td>\n",
              "      <td>45.0</td>\n",
              "      <td>5</td>\n",
              "      <td>507842.84</td>\n",
              "      <td>1</td>\n",
              "      <td>1</td>\n",
              "      <td>1</td>\n",
              "      <td>169330.64</td>\n",
              "      <td>0</td>\n",
              "    </tr>\n",
              "    <tr>\n",
              "      <th>17</th>\n",
              "      <td>214277</td>\n",
              "      <td>793.0</td>\n",
              "      <td>Ярославль</td>\n",
              "      <td>М</td>\n",
              "      <td>53.0</td>\n",
              "      <td>3</td>\n",
              "      <td>627034.50</td>\n",
              "      <td>2</td>\n",
              "      <td>1</td>\n",
              "      <td>0</td>\n",
              "      <td>183430.19</td>\n",
              "      <td>0</td>\n",
              "    </tr>\n",
              "    <tr>\n",
              "      <th>18</th>\n",
              "      <td>136651</td>\n",
              "      <td>876.0</td>\n",
              "      <td>Ярославль</td>\n",
              "      <td>М</td>\n",
              "      <td>40.0</td>\n",
              "      <td>5</td>\n",
              "      <td>2307947.36</td>\n",
              "      <td>2</td>\n",
              "      <td>0</td>\n",
              "      <td>0</td>\n",
              "      <td>287010.61</td>\n",
              "      <td>0</td>\n",
              "    </tr>\n",
              "    <tr>\n",
              "      <th>19</th>\n",
              "      <td>127034</td>\n",
              "      <td>922.0</td>\n",
              "      <td>Рыбинск</td>\n",
              "      <td>Ж</td>\n",
              "      <td>53.0</td>\n",
              "      <td>0</td>\n",
              "      <td>NaN</td>\n",
              "      <td>1</td>\n",
              "      <td>0</td>\n",
              "      <td>0</td>\n",
              "      <td>147094.82</td>\n",
              "      <td>0</td>\n",
              "    </tr>\n",
              "    <tr>\n",
              "      <th>20</th>\n",
              "      <td>114192</td>\n",
              "      <td>772.0</td>\n",
              "      <td>Ростов</td>\n",
              "      <td>М</td>\n",
              "      <td>43.0</td>\n",
              "      <td>3</td>\n",
              "      <td>1315511.65</td>\n",
              "      <td>2</td>\n",
              "      <td>0</td>\n",
              "      <td>0</td>\n",
              "      <td>143935.71</td>\n",
              "      <td>0</td>\n",
              "    </tr>\n",
              "    <tr>\n",
              "      <th>21</th>\n",
              "      <td>177415</td>\n",
              "      <td>896.0</td>\n",
              "      <td>Рыбинск</td>\n",
              "      <td>Ж</td>\n",
              "      <td>47.0</td>\n",
              "      <td>0</td>\n",
              "      <td>NaN</td>\n",
              "      <td>1</td>\n",
              "      <td>0</td>\n",
              "      <td>0</td>\n",
              "      <td>225060.35</td>\n",
              "      <td>0</td>\n",
              "    </tr>\n",
              "    <tr>\n",
              "      <th>22</th>\n",
              "      <td>161656</td>\n",
              "      <td>871.0</td>\n",
              "      <td>Ярославль</td>\n",
              "      <td>М</td>\n",
              "      <td>51.0</td>\n",
              "      <td>4</td>\n",
              "      <td>708866.92</td>\n",
              "      <td>1</td>\n",
              "      <td>1</td>\n",
              "      <td>0</td>\n",
              "      <td>106407.26</td>\n",
              "      <td>0</td>\n",
              "    </tr>\n",
              "    <tr>\n",
              "      <th>23</th>\n",
              "      <td>118314</td>\n",
              "      <td>732.0</td>\n",
              "      <td>Ярославль</td>\n",
              "      <td>Ж</td>\n",
              "      <td>48.0</td>\n",
              "      <td>2</td>\n",
              "      <td>163725.37</td>\n",
              "      <td>2</td>\n",
              "      <td>0</td>\n",
              "      <td>1</td>\n",
              "      <td>133528.02</td>\n",
              "      <td>0</td>\n",
              "    </tr>\n",
              "    <tr>\n",
              "      <th>24</th>\n",
              "      <td>130826</td>\n",
              "      <td>898.0</td>\n",
              "      <td>Ярославль</td>\n",
              "      <td>Ж</td>\n",
              "      <td>39.0</td>\n",
              "      <td>5</td>\n",
              "      <td>561906.51</td>\n",
              "      <td>1</td>\n",
              "      <td>1</td>\n",
              "      <td>0</td>\n",
              "      <td>151221.69</td>\n",
              "      <td>0</td>\n",
              "    </tr>\n",
              "    <tr>\n",
              "      <th>25</th>\n",
              "      <td>189712</td>\n",
              "      <td>806.0</td>\n",
              "      <td>Ярославль</td>\n",
              "      <td>Ж</td>\n",
              "      <td>61.0</td>\n",
              "      <td>2</td>\n",
              "      <td>288289.94</td>\n",
              "      <td>2</td>\n",
              "      <td>1</td>\n",
              "      <td>1</td>\n",
              "      <td>55366.82</td>\n",
              "      <td>0</td>\n",
              "    </tr>\n",
              "    <tr>\n",
              "      <th>26</th>\n",
              "      <td>174396</td>\n",
              "      <td>898.0</td>\n",
              "      <td>Ярославль</td>\n",
              "      <td>Ж</td>\n",
              "      <td>62.0</td>\n",
              "      <td>3</td>\n",
              "      <td>364049.27</td>\n",
              "      <td>3</td>\n",
              "      <td>0</td>\n",
              "      <td>1</td>\n",
              "      <td>50661.84</td>\n",
              "      <td>0</td>\n",
              "    </tr>\n",
              "    <tr>\n",
              "      <th>27</th>\n",
              "      <td>167316</td>\n",
              "      <td>766.0</td>\n",
              "      <td>Ярославль</td>\n",
              "      <td>М</td>\n",
              "      <td>36.0</td>\n",
              "      <td>1</td>\n",
              "      <td>250543.82</td>\n",
              "      <td>2</td>\n",
              "      <td>1</td>\n",
              "      <td>1</td>\n",
              "      <td>38843.00</td>\n",
              "      <td>0</td>\n",
              "    </tr>\n",
              "    <tr>\n",
              "      <th>28</th>\n",
              "      <td>123660</td>\n",
              "      <td>776.0</td>\n",
              "      <td>Ярославль</td>\n",
              "      <td>М</td>\n",
              "      <td>26.0</td>\n",
              "      <td>1</td>\n",
              "      <td>49105.63</td>\n",
              "      <td>1</td>\n",
              "      <td>1</td>\n",
              "      <td>1</td>\n",
              "      <td>38234.94</td>\n",
              "      <td>0</td>\n",
              "    </tr>\n",
              "    <tr>\n",
              "      <th>29</th>\n",
              "      <td>210799</td>\n",
              "      <td>868.0</td>\n",
              "      <td>Ярославль</td>\n",
              "      <td>М</td>\n",
              "      <td>43.0</td>\n",
              "      <td>3</td>\n",
              "      <td>532311.98</td>\n",
              "      <td>1</td>\n",
              "      <td>1</td>\n",
              "      <td>0</td>\n",
              "      <td>144073.00</td>\n",
              "      <td>0</td>\n",
              "    </tr>\n",
              "    <tr>\n",
              "      <th>30</th>\n",
              "      <td>155730</td>\n",
              "      <td>946.0</td>\n",
              "      <td>Ярославль</td>\n",
              "      <td>Ж</td>\n",
              "      <td>47.0</td>\n",
              "      <td>0</td>\n",
              "      <td>NaN</td>\n",
              "      <td>2</td>\n",
              "      <td>1</td>\n",
              "      <td>1</td>\n",
              "      <td>660015.85</td>\n",
              "      <td>0</td>\n",
              "    </tr>\n",
              "    <tr>\n",
              "      <th>31</th>\n",
              "      <td>152670</td>\n",
              "      <td>806.0</td>\n",
              "      <td>Ростов</td>\n",
              "      <td>Ж</td>\n",
              "      <td>36.0</td>\n",
              "      <td>5</td>\n",
              "      <td>377460.32</td>\n",
              "      <td>2</td>\n",
              "      <td>1</td>\n",
              "      <td>0</td>\n",
              "      <td>102885.09</td>\n",
              "      <td>0</td>\n",
              "    </tr>\n",
              "    <tr>\n",
              "      <th>32</th>\n",
              "      <td>219185</td>\n",
              "      <td>828.0</td>\n",
              "      <td>Ярославль</td>\n",
              "      <td>Ж</td>\n",
              "      <td>45.0</td>\n",
              "      <td>3</td>\n",
              "      <td>409634.94</td>\n",
              "      <td>2</td>\n",
              "      <td>0</td>\n",
              "      <td>0</td>\n",
              "      <td>134770.40</td>\n",
              "      <td>0</td>\n",
              "    </tr>\n",
              "    <tr>\n",
              "      <th>33</th>\n",
              "      <td>125478</td>\n",
              "      <td>786.0</td>\n",
              "      <td>Ростов</td>\n",
              "      <td>Ж</td>\n",
              "      <td>27.0</td>\n",
              "      <td>3</td>\n",
              "      <td>448062.52</td>\n",
              "      <td>3</td>\n",
              "      <td>1</td>\n",
              "      <td>1</td>\n",
              "      <td>37607.67</td>\n",
              "      <td>0</td>\n",
              "    </tr>\n",
              "    <tr>\n",
              "      <th>34</th>\n",
              "      <td>205226</td>\n",
              "      <td>944.0</td>\n",
              "      <td>Ярославль</td>\n",
              "      <td>М</td>\n",
              "      <td>35.0</td>\n",
              "      <td>0</td>\n",
              "      <td>NaN</td>\n",
              "      <td>2</td>\n",
              "      <td>1</td>\n",
              "      <td>1</td>\n",
              "      <td>239843.39</td>\n",
              "      <td>0</td>\n",
              "    </tr>\n",
              "    <tr>\n",
              "      <th>35</th>\n",
              "      <td>221927</td>\n",
              "      <td>863.0</td>\n",
              "      <td>Ростов</td>\n",
              "      <td>М</td>\n",
              "      <td>39.0</td>\n",
              "      <td>5</td>\n",
              "      <td>1461423.33</td>\n",
              "      <td>1</td>\n",
              "      <td>0</td>\n",
              "      <td>1</td>\n",
              "      <td>221699.52</td>\n",
              "      <td>0</td>\n",
              "    </tr>\n",
              "    <tr>\n",
              "      <th>36</th>\n",
              "      <td>199614</td>\n",
              "      <td>822.0</td>\n",
              "      <td>Ярославль</td>\n",
              "      <td>М</td>\n",
              "      <td>60.0</td>\n",
              "      <td>5</td>\n",
              "      <td>1472483.77</td>\n",
              "      <td>1</td>\n",
              "      <td>1</td>\n",
              "      <td>1</td>\n",
              "      <td>89132.67</td>\n",
              "      <td>0</td>\n",
              "    </tr>\n",
              "    <tr>\n",
              "      <th>37</th>\n",
              "      <td>144893</td>\n",
              "      <td>766.0</td>\n",
              "      <td>Ярославль</td>\n",
              "      <td>М</td>\n",
              "      <td>39.0</td>\n",
              "      <td>3</td>\n",
              "      <td>207919.65</td>\n",
              "      <td>1</td>\n",
              "      <td>1</td>\n",
              "      <td>0</td>\n",
              "      <td>153522.35</td>\n",
              "      <td>0</td>\n",
              "    </tr>\n",
              "    <tr>\n",
              "      <th>38</th>\n",
              "      <td>220711</td>\n",
              "      <td>794.0</td>\n",
              "      <td>Ростов</td>\n",
              "      <td>Ж</td>\n",
              "      <td>26.0</td>\n",
              "      <td>2</td>\n",
              "      <td>147487.39</td>\n",
              "      <td>2</td>\n",
              "      <td>0</td>\n",
              "      <td>1</td>\n",
              "      <td>24912.88</td>\n",
              "      <td>0</td>\n",
              "    </tr>\n",
              "    <tr>\n",
              "      <th>39</th>\n",
              "      <td>173175</td>\n",
              "      <td>924.0</td>\n",
              "      <td>Рыбинск</td>\n",
              "      <td>Ж</td>\n",
              "      <td>51.0</td>\n",
              "      <td>0</td>\n",
              "      <td>NaN</td>\n",
              "      <td>1</td>\n",
              "      <td>1</td>\n",
              "      <td>1</td>\n",
              "      <td>248844.47</td>\n",
              "      <td>0</td>\n",
              "    </tr>\n",
              "    <tr>\n",
              "      <th>40</th>\n",
              "      <td>129705</td>\n",
              "      <td>811.0</td>\n",
              "      <td>Рыбинск</td>\n",
              "      <td>М</td>\n",
              "      <td>34.0</td>\n",
              "      <td>2</td>\n",
              "      <td>129799.35</td>\n",
              "      <td>1</td>\n",
              "      <td>0</td>\n",
              "      <td>0</td>\n",
              "      <td>96242.71</td>\n",
              "      <td>1</td>\n",
              "    </tr>\n",
              "    <tr>\n",
              "      <th>41</th>\n",
              "      <td>206939</td>\n",
              "      <td>814.0</td>\n",
              "      <td>Рыбинск</td>\n",
              "      <td>М</td>\n",
              "      <td>56.0</td>\n",
              "      <td>2</td>\n",
              "      <td>1067536.40</td>\n",
              "      <td>2</td>\n",
              "      <td>1</td>\n",
              "      <td>0</td>\n",
              "      <td>95563.19</td>\n",
              "      <td>0</td>\n",
              "    </tr>\n",
              "    <tr>\n",
              "      <th>42</th>\n",
              "      <td>178683</td>\n",
              "      <td>814.0</td>\n",
              "      <td>Ярославль</td>\n",
              "      <td>М</td>\n",
              "      <td>42.0</td>\n",
              "      <td>3</td>\n",
              "      <td>161088.68</td>\n",
              "      <td>1</td>\n",
              "      <td>1</td>\n",
              "      <td>0</td>\n",
              "      <td>116313.55</td>\n",
              "      <td>0</td>\n",
              "    </tr>\n",
              "    <tr>\n",
              "      <th>43</th>\n",
              "      <td>228585</td>\n",
              "      <td>956.0</td>\n",
              "      <td>Ростов</td>\n",
              "      <td>М</td>\n",
              "      <td>41.0</td>\n",
              "      <td>0</td>\n",
              "      <td>NaN</td>\n",
              "      <td>1</td>\n",
              "      <td>1</td>\n",
              "      <td>0</td>\n",
              "      <td>115117.10</td>\n",
              "      <td>0</td>\n",
              "    </tr>\n",
              "    <tr>\n",
              "      <th>44</th>\n",
              "      <td>210313</td>\n",
              "      <td>935.0</td>\n",
              "      <td>Ярославль</td>\n",
              "      <td>М</td>\n",
              "      <td>41.0</td>\n",
              "      <td>5</td>\n",
              "      <td>3781118.22</td>\n",
              "      <td>2</td>\n",
              "      <td>1</td>\n",
              "      <td>0</td>\n",
              "      <td>761349.20</td>\n",
              "      <td>0</td>\n",
              "    </tr>\n",
              "    <tr>\n",
              "      <th>45</th>\n",
              "      <td>118849</td>\n",
              "      <td>826.0</td>\n",
              "      <td>Ярославль</td>\n",
              "      <td>М</td>\n",
              "      <td>31.0</td>\n",
              "      <td>4</td>\n",
              "      <td>333330.99</td>\n",
              "      <td>1</td>\n",
              "      <td>1</td>\n",
              "      <td>1</td>\n",
              "      <td>46981.53</td>\n",
              "      <td>0</td>\n",
              "    </tr>\n",
              "    <tr>\n",
              "      <th>46</th>\n",
              "      <td>118927</td>\n",
              "      <td>921.0</td>\n",
              "      <td>Ярославль</td>\n",
              "      <td>Ж</td>\n",
              "      <td>72.0</td>\n",
              "      <td>1</td>\n",
              "      <td>NaN</td>\n",
              "      <td>1</td>\n",
              "      <td>1</td>\n",
              "      <td>0</td>\n",
              "      <td>253494.70</td>\n",
              "      <td>0</td>\n",
              "    </tr>\n",
              "    <tr>\n",
              "      <th>47</th>\n",
              "      <td>201837</td>\n",
              "      <td>922.0</td>\n",
              "      <td>Ярославль</td>\n",
              "      <td>М</td>\n",
              "      <td>67.0</td>\n",
              "      <td>3</td>\n",
              "      <td>366599.61</td>\n",
              "      <td>2</td>\n",
              "      <td>1</td>\n",
              "      <td>1</td>\n",
              "      <td>246523.17</td>\n",
              "      <td>0</td>\n",
              "    </tr>\n",
              "    <tr>\n",
              "      <th>48</th>\n",
              "      <td>176516</td>\n",
              "      <td>849.0</td>\n",
              "      <td>Рыбинск</td>\n",
              "      <td>М</td>\n",
              "      <td>50.0</td>\n",
              "      <td>2</td>\n",
              "      <td>376382.04</td>\n",
              "      <td>2</td>\n",
              "      <td>1</td>\n",
              "      <td>0</td>\n",
              "      <td>125309.86</td>\n",
              "      <td>0</td>\n",
              "    </tr>\n",
              "    <tr>\n",
              "      <th>49</th>\n",
              "      <td>214314</td>\n",
              "      <td>901.0</td>\n",
              "      <td>Ярославль</td>\n",
              "      <td>Ж</td>\n",
              "      <td>40.0</td>\n",
              "      <td>5</td>\n",
              "      <td>655642.36</td>\n",
              "      <td>2</td>\n",
              "      <td>0</td>\n",
              "      <td>0</td>\n",
              "      <td>224319.39</td>\n",
              "      <td>0</td>\n",
              "    </tr>\n",
              "  </tbody>\n",
              "</table>\n",
              "</div>"
            ],
            "text/plain": [
              "    USERID  score       city gender   age  equity     balance  products  \\\n",
              "0   183012  850.0    Рыбинск      Ж  25.0       1    59214.82         2   \n",
              "1   146556  861.0    Рыбинск      Ж  37.0       5   850594.33         3   \n",
              "2   120722  892.0    Рыбинск      Ж  30.0       0         NaN         1   \n",
              "3   225363  866.0  Ярославль      Ж  51.0       5  1524746.26         2   \n",
              "4   157978  730.0  Ярославль      М  34.0       5      174.00         1   \n",
              "5   202305  856.0    Рыбинск      М  56.0       4   863687.24         3   \n",
              "6   177259  807.0  Ярославль      Ж  39.0       3   405042.44         3   \n",
              "7   218868  825.0  Ярославль      Ж  38.0       4   458145.40         2   \n",
              "8   211686  923.0  Ярославль      М  54.0       5  1206337.87         2   \n",
              "9   133130  906.0  Ярославль      Ж  67.0       0         NaN         1   \n",
              "10  148929  927.0     Ростов      М  52.0       0         NaN         1   \n",
              "11  172184  921.0     Ростов      М  41.0       0         NaN         1   \n",
              "12  132970  845.0  Ярославль      Ж  31.0       3   591928.52         2   \n",
              "13  166357  837.0    Рыбинск      Ж  28.0       4   302249.22         2   \n",
              "14  172138  815.0  Ярославль      М  35.0       5   547499.87         2   \n",
              "15  120260  731.0    Рыбинск      М  42.0       3  1480548.47         3   \n",
              "16  123335  829.0  Ярославль      М  45.0       5   507842.84         1   \n",
              "17  214277  793.0  Ярославль      М  53.0       3   627034.50         2   \n",
              "18  136651  876.0  Ярославль      М  40.0       5  2307947.36         2   \n",
              "19  127034  922.0    Рыбинск      Ж  53.0       0         NaN         1   \n",
              "20  114192  772.0     Ростов      М  43.0       3  1315511.65         2   \n",
              "21  177415  896.0    Рыбинск      Ж  47.0       0         NaN         1   \n",
              "22  161656  871.0  Ярославль      М  51.0       4   708866.92         1   \n",
              "23  118314  732.0  Ярославль      Ж  48.0       2   163725.37         2   \n",
              "24  130826  898.0  Ярославль      Ж  39.0       5   561906.51         1   \n",
              "25  189712  806.0  Ярославль      Ж  61.0       2   288289.94         2   \n",
              "26  174396  898.0  Ярославль      Ж  62.0       3   364049.27         3   \n",
              "27  167316  766.0  Ярославль      М  36.0       1   250543.82         2   \n",
              "28  123660  776.0  Ярославль      М  26.0       1    49105.63         1   \n",
              "29  210799  868.0  Ярославль      М  43.0       3   532311.98         1   \n",
              "30  155730  946.0  Ярославль      Ж  47.0       0         NaN         2   \n",
              "31  152670  806.0     Ростов      Ж  36.0       5   377460.32         2   \n",
              "32  219185  828.0  Ярославль      Ж  45.0       3   409634.94         2   \n",
              "33  125478  786.0     Ростов      Ж  27.0       3   448062.52         3   \n",
              "34  205226  944.0  Ярославль      М  35.0       0         NaN         2   \n",
              "35  221927  863.0     Ростов      М  39.0       5  1461423.33         1   \n",
              "36  199614  822.0  Ярославль      М  60.0       5  1472483.77         1   \n",
              "37  144893  766.0  Ярославль      М  39.0       3   207919.65         1   \n",
              "38  220711  794.0     Ростов      Ж  26.0       2   147487.39         2   \n",
              "39  173175  924.0    Рыбинск      Ж  51.0       0         NaN         1   \n",
              "40  129705  811.0    Рыбинск      М  34.0       2   129799.35         1   \n",
              "41  206939  814.0    Рыбинск      М  56.0       2  1067536.40         2   \n",
              "42  178683  814.0  Ярославль      М  42.0       3   161088.68         1   \n",
              "43  228585  956.0     Ростов      М  41.0       0         NaN         1   \n",
              "44  210313  935.0  Ярославль      М  41.0       5  3781118.22         2   \n",
              "45  118849  826.0  Ярославль      М  31.0       4   333330.99         1   \n",
              "46  118927  921.0  Ярославль      Ж  72.0       1         NaN         1   \n",
              "47  201837  922.0  Ярославль      М  67.0       3   366599.61         2   \n",
              "48  176516  849.0    Рыбинск      М  50.0       2   376382.04         2   \n",
              "49  214314  901.0  Ярославль      Ж  40.0       5   655642.36         2   \n",
              "\n",
              "    credit_card  last_activity  EST_SALARY  churn  \n",
              "0             0              1    75719.14      1  \n",
              "1             1              0    86621.77      0  \n",
              "2             1              1   107683.34      0  \n",
              "3             0              1   174423.53      1  \n",
              "4             1              0    67353.16      1  \n",
              "5             1              0   156619.80      0  \n",
              "6             0              1   103838.32      0  \n",
              "7             1              1    68085.48      0  \n",
              "8             1              0   155371.79      0  \n",
              "9             0              1   238055.53      0  \n",
              "10            1              1   196820.07      0  \n",
              "11            1              1   217469.48      0  \n",
              "12            1              1   112697.16      1  \n",
              "13            0              1    30950.94      0  \n",
              "14            1              1   105883.26      0  \n",
              "15            1              0   160974.43      0  \n",
              "16            1              1   169330.64      0  \n",
              "17            1              0   183430.19      0  \n",
              "18            0              0   287010.61      0  \n",
              "19            0              0   147094.82      0  \n",
              "20            0              0   143935.71      0  \n",
              "21            0              0   225060.35      0  \n",
              "22            1              0   106407.26      0  \n",
              "23            0              1   133528.02      0  \n",
              "24            1              0   151221.69      0  \n",
              "25            1              1    55366.82      0  \n",
              "26            0              1    50661.84      0  \n",
              "27            1              1    38843.00      0  \n",
              "28            1              1    38234.94      0  \n",
              "29            1              0   144073.00      0  \n",
              "30            1              1   660015.85      0  \n",
              "31            1              0   102885.09      0  \n",
              "32            0              0   134770.40      0  \n",
              "33            1              1    37607.67      0  \n",
              "34            1              1   239843.39      0  \n",
              "35            0              1   221699.52      0  \n",
              "36            1              1    89132.67      0  \n",
              "37            1              0   153522.35      0  \n",
              "38            0              1    24912.88      0  \n",
              "39            1              1   248844.47      0  \n",
              "40            0              0    96242.71      1  \n",
              "41            1              0    95563.19      0  \n",
              "42            1              0   116313.55      0  \n",
              "43            1              0   115117.10      0  \n",
              "44            1              0   761349.20      0  \n",
              "45            1              1    46981.53      0  \n",
              "46            1              0   253494.70      0  \n",
              "47            1              1   246523.17      0  \n",
              "48            1              0   125309.86      0  \n",
              "49            0              0   224319.39      0  "
            ]
          },
          "execution_count": 2,
          "metadata": {},
          "output_type": "execute_result"
        }
      ],
      "execution_count": 2
    },
    {
      "cell_type": "code",
      "source": "shape_out = data.shape # Вызовем метод shape для подсчета строк/столбцов таблицы.\nprint()\nprint(shape_out)",
      "metadata": {},
      "outputs": [
        {
          "name": "stdout",
          "output_type": "stream",
          "text": "\n,(10000, 12)\n"
        }
      ],
      "execution_count": 3
    },
    {
      "cell_type": "markdown",
      "source": "Ознакомительный просмотр таблицы показал, что в столбцах 'score' и 'age' тип данных float64 (`числа с плавающей точкой`). В столбце 'balance' есть пропуски. Названия столбцов неудобно читаются. ",
      "metadata": {}
    },
    {
      "cell_type": "markdown",
      "source": "ВЫВОД ПО РАЗДЕЛУ: в представленном датасете 10000 строк и 12 столбцов. Столбцы 'USERID' и 'EST_SALARY' выделяются среди других названий. Значения в некоторых числовых столбцах требуют замены типа данных для дальнейшего анализа. Встречаются пропуски. ",
      "metadata": {}
    },
    {
      "cell_type": "markdown",
      "source": "## Предобработка данных",
      "metadata": {}
    },
    {
      "cell_type": "markdown",
      "source": "### Приведение наименования колонок в корректный вид",
      "metadata": {}
    },
    {
      "cell_type": "code",
      "source": "data.columns = data.columns.str.lower() # Приводим названия колонок к общепринятому стилю.\ndata = data.rename(columns={'userid': 'user_id'}) # Переименуем столбец.\ndata",
      "metadata": {},
      "outputs": [
        {
          "data": {
            "text/html": [
              "<div>\n",
              "<style scoped>\n",
              "    .dataframe tbody tr th:only-of-type {\n",
              "        vertical-align: middle;\n",
              "    }\n",
              "\n",
              "    .dataframe tbody tr th {\n",
              "        vertical-align: top;\n",
              "    }\n",
              "\n",
              "    .dataframe thead th {\n",
              "        text-align: right;\n",
              "    }\n",
              "</style>\n",
              "<table border=\"1\" class=\"dataframe\">\n",
              "  <thead>\n",
              "    <tr style=\"text-align: right;\">\n",
              "      <th></th>\n",
              "      <th>user_id</th>\n",
              "      <th>score</th>\n",
              "      <th>city</th>\n",
              "      <th>gender</th>\n",
              "      <th>age</th>\n",
              "      <th>equity</th>\n",
              "      <th>balance</th>\n",
              "      <th>products</th>\n",
              "      <th>credit_card</th>\n",
              "      <th>last_activity</th>\n",
              "      <th>est_salary</th>\n",
              "      <th>churn</th>\n",
              "    </tr>\n",
              "  </thead>\n",
              "  <tbody>\n",
              "    <tr>\n",
              "      <th>0</th>\n",
              "      <td>183012</td>\n",
              "      <td>850.0</td>\n",
              "      <td>Рыбинск</td>\n",
              "      <td>Ж</td>\n",
              "      <td>25.0</td>\n",
              "      <td>1</td>\n",
              "      <td>59214.82</td>\n",
              "      <td>2</td>\n",
              "      <td>0</td>\n",
              "      <td>1</td>\n",
              "      <td>75719.14</td>\n",
              "      <td>1</td>\n",
              "    </tr>\n",
              "    <tr>\n",
              "      <th>1</th>\n",
              "      <td>146556</td>\n",
              "      <td>861.0</td>\n",
              "      <td>Рыбинск</td>\n",
              "      <td>Ж</td>\n",
              "      <td>37.0</td>\n",
              "      <td>5</td>\n",
              "      <td>850594.33</td>\n",
              "      <td>3</td>\n",
              "      <td>1</td>\n",
              "      <td>0</td>\n",
              "      <td>86621.77</td>\n",
              "      <td>0</td>\n",
              "    </tr>\n",
              "    <tr>\n",
              "      <th>2</th>\n",
              "      <td>120722</td>\n",
              "      <td>892.0</td>\n",
              "      <td>Рыбинск</td>\n",
              "      <td>Ж</td>\n",
              "      <td>30.0</td>\n",
              "      <td>0</td>\n",
              "      <td>NaN</td>\n",
              "      <td>1</td>\n",
              "      <td>1</td>\n",
              "      <td>1</td>\n",
              "      <td>107683.34</td>\n",
              "      <td>0</td>\n",
              "    </tr>\n",
              "    <tr>\n",
              "      <th>3</th>\n",
              "      <td>225363</td>\n",
              "      <td>866.0</td>\n",
              "      <td>Ярославль</td>\n",
              "      <td>Ж</td>\n",
              "      <td>51.0</td>\n",
              "      <td>5</td>\n",
              "      <td>1524746.26</td>\n",
              "      <td>2</td>\n",
              "      <td>0</td>\n",
              "      <td>1</td>\n",
              "      <td>174423.53</td>\n",
              "      <td>1</td>\n",
              "    </tr>\n",
              "    <tr>\n",
              "      <th>4</th>\n",
              "      <td>157978</td>\n",
              "      <td>730.0</td>\n",
              "      <td>Ярославль</td>\n",
              "      <td>М</td>\n",
              "      <td>34.0</td>\n",
              "      <td>5</td>\n",
              "      <td>174.00</td>\n",
              "      <td>1</td>\n",
              "      <td>1</td>\n",
              "      <td>0</td>\n",
              "      <td>67353.16</td>\n",
              "      <td>1</td>\n",
              "    </tr>\n",
              "    <tr>\n",
              "      <th>...</th>\n",
              "      <td>...</td>\n",
              "      <td>...</td>\n",
              "      <td>...</td>\n",
              "      <td>...</td>\n",
              "      <td>...</td>\n",
              "      <td>...</td>\n",
              "      <td>...</td>\n",
              "      <td>...</td>\n",
              "      <td>...</td>\n",
              "      <td>...</td>\n",
              "      <td>...</td>\n",
              "      <td>...</td>\n",
              "    </tr>\n",
              "    <tr>\n",
              "      <th>9995</th>\n",
              "      <td>120553</td>\n",
              "      <td>814.0</td>\n",
              "      <td>Рыбинск</td>\n",
              "      <td>М</td>\n",
              "      <td>27.0</td>\n",
              "      <td>1</td>\n",
              "      <td>78144.65</td>\n",
              "      <td>1</td>\n",
              "      <td>0</td>\n",
              "      <td>1</td>\n",
              "      <td>18943.64</td>\n",
              "      <td>0</td>\n",
              "    </tr>\n",
              "    <tr>\n",
              "      <th>9996</th>\n",
              "      <td>139170</td>\n",
              "      <td>894.0</td>\n",
              "      <td>Ярославль</td>\n",
              "      <td>М</td>\n",
              "      <td>46.0</td>\n",
              "      <td>0</td>\n",
              "      <td>NaN</td>\n",
              "      <td>1</td>\n",
              "      <td>1</td>\n",
              "      <td>0</td>\n",
              "      <td>196898.29</td>\n",
              "      <td>0</td>\n",
              "    </tr>\n",
              "    <tr>\n",
              "      <th>9997</th>\n",
              "      <td>115639</td>\n",
              "      <td>903.0</td>\n",
              "      <td>Ярославль</td>\n",
              "      <td>М</td>\n",
              "      <td>24.0</td>\n",
              "      <td>0</td>\n",
              "      <td>NaN</td>\n",
              "      <td>2</td>\n",
              "      <td>1</td>\n",
              "      <td>1</td>\n",
              "      <td>108905.09</td>\n",
              "      <td>0</td>\n",
              "    </tr>\n",
              "    <tr>\n",
              "      <th>9998</th>\n",
              "      <td>148700</td>\n",
              "      <td>777.0</td>\n",
              "      <td>Ярославль</td>\n",
              "      <td>Ж</td>\n",
              "      <td>68.0</td>\n",
              "      <td>3</td>\n",
              "      <td>865457.97</td>\n",
              "      <td>3</td>\n",
              "      <td>0</td>\n",
              "      <td>1</td>\n",
              "      <td>86874.90</td>\n",
              "      <td>0</td>\n",
              "    </tr>\n",
              "    <tr>\n",
              "      <th>9999</th>\n",
              "      <td>96267</td>\n",
              "      <td>828.0</td>\n",
              "      <td>Рыбинск</td>\n",
              "      <td>Ж</td>\n",
              "      <td>58.0</td>\n",
              "      <td>3</td>\n",
              "      <td>1180886.70</td>\n",
              "      <td>4</td>\n",
              "      <td>0</td>\n",
              "      <td>1</td>\n",
              "      <td>21422.37</td>\n",
              "      <td>0</td>\n",
              "    </tr>\n",
              "  </tbody>\n",
              "</table>\n",
              "<p>10000 rows × 12 columns</p>\n",
              "</div>"
            ],
            "text/plain": [
              "      user_id  score       city gender   age  equity     balance  products  \\\n",
              "0      183012  850.0    Рыбинск      Ж  25.0       1    59214.82         2   \n",
              "1      146556  861.0    Рыбинск      Ж  37.0       5   850594.33         3   \n",
              "2      120722  892.0    Рыбинск      Ж  30.0       0         NaN         1   \n",
              "3      225363  866.0  Ярославль      Ж  51.0       5  1524746.26         2   \n",
              "4      157978  730.0  Ярославль      М  34.0       5      174.00         1   \n",
              "...       ...    ...        ...    ...   ...     ...         ...       ...   \n",
              "9995   120553  814.0    Рыбинск      М  27.0       1    78144.65         1   \n",
              "9996   139170  894.0  Ярославль      М  46.0       0         NaN         1   \n",
              "9997   115639  903.0  Ярославль      М  24.0       0         NaN         2   \n",
              "9998   148700  777.0  Ярославль      Ж  68.0       3   865457.97         3   \n",
              "9999    96267  828.0    Рыбинск      Ж  58.0       3  1180886.70         4   \n",
              "\n",
              "      credit_card  last_activity  est_salary  churn  \n",
              "0               0              1    75719.14      1  \n",
              "1               1              0    86621.77      0  \n",
              "2               1              1   107683.34      0  \n",
              "3               0              1   174423.53      1  \n",
              "4               1              0    67353.16      1  \n",
              "...           ...            ...         ...    ...  \n",
              "9995            0              1    18943.64      0  \n",
              "9996            1              0   196898.29      0  \n",
              "9997            1              1   108905.09      0  \n",
              "9998            0              1    86874.90      0  \n",
              "9999            0              1    21422.37      0  \n",
              "\n",
              "[10000 rows x 12 columns]"
            ]
          },
          "execution_count": 4,
          "metadata": {},
          "output_type": "execute_result"
        }
      ],
      "execution_count": 4
    },
    {
      "cell_type": "markdown",
      "source": "### Обработка дубликатов",
      "metadata": {}
    },
    {
      "cell_type": "code",
      "source": "data.duplicated().sum()",
      "metadata": {},
      "outputs": [
        {
          "data": {
            "text/plain": [
              "0"
            ]
          },
          "execution_count": 5,
          "metadata": {},
          "output_type": "execute_result"
        }
      ],
      "execution_count": 5
    },
    {
      "cell_type": "code",
      "source": "dup_rows = data[data.duplicated(['user_id', 'city'], keep=False)] # Поищем неявные дубликаты.\ndup_rows",
      "metadata": {},
      "outputs": [
        {
          "data": {
            "text/html": [
              "<div>\n",
              "<style scoped>\n",
              "    .dataframe tbody tr th:only-of-type {\n",
              "        vertical-align: middle;\n",
              "    }\n",
              "\n",
              "    .dataframe tbody tr th {\n",
              "        vertical-align: top;\n",
              "    }\n",
              "\n",
              "    .dataframe thead th {\n",
              "        text-align: right;\n",
              "    }\n",
              "</style>\n",
              "<table border=\"1\" class=\"dataframe\">\n",
              "  <thead>\n",
              "    <tr style=\"text-align: right;\">\n",
              "      <th></th>\n",
              "      <th>user_id</th>\n",
              "      <th>score</th>\n",
              "      <th>city</th>\n",
              "      <th>gender</th>\n",
              "      <th>age</th>\n",
              "      <th>equity</th>\n",
              "      <th>balance</th>\n",
              "      <th>products</th>\n",
              "      <th>credit_card</th>\n",
              "      <th>last_activity</th>\n",
              "      <th>est_salary</th>\n",
              "      <th>churn</th>\n",
              "    </tr>\n",
              "  </thead>\n",
              "  <tbody>\n",
              "  </tbody>\n",
              "</table>\n",
              "</div>"
            ],
            "text/plain": [
              "Empty DataFrame\n",
              "Columns: [user_id, score, city, gender, age, equity, balance, products, credit_card, last_activity, est_salary, churn]\n",
              "Index: []"
            ]
          },
          "execution_count": 6,
          "metadata": {},
          "output_type": "execute_result"
        }
      ],
      "execution_count": 6
    },
    {
      "cell_type": "markdown",
      "source": "### Обработка пропусков",
      "metadata": {}
    },
    {
      "cell_type": "code",
      "source": "data.isna().sum()\n",
      "metadata": {},
      "outputs": [
        {
          "data": {
            "text/plain": [
              "user_id             0\n",
              "score               0\n",
              "city                0\n",
              "gender              0\n",
              "age                26\n",
              "equity              0\n",
              "balance          2295\n",
              "products            0\n",
              "credit_card         0\n",
              "last_activity       0\n",
              "est_salary          0\n",
              "churn               0\n",
              "dtype: int64"
            ]
          },
          "execution_count": 7,
          "metadata": {},
          "output_type": "execute_result"
        }
      ],
      "execution_count": 7
    },
    {
      "cell_type": "markdown",
      "source": "Из 10000 клиентов у 26 не указан возраст. Удалим таких клиентов, т.к. процент потери данных невелик - 0.26%. \n<br> Клиентов без указания баланса на счете оставим. Во-первых, потому что таких клиентов много - 22.95%, а во-вторых, у нас есть столбец 'est_salary' (`оценочный доход клиента`), на который мы тоже можем опираться.",
      "metadata": {}
    },
    {
      "cell_type": "code",
      "source": "data = data.dropna(subset=['age']) # Удаление клиентов без возраста\ndata.isna().sum()",
      "metadata": {},
      "outputs": [
        {
          "data": {
            "text/plain": [
              "user_id             0\n",
              "score               0\n",
              "city                0\n",
              "gender              0\n",
              "age                 0\n",
              "equity              0\n",
              "balance          2279\n",
              "products            0\n",
              "credit_card         0\n",
              "last_activity       0\n",
              "est_salary          0\n",
              "churn               0\n",
              "dtype: int64"
            ]
          },
          "execution_count": 8,
          "metadata": {},
          "output_type": "execute_result"
        }
      ],
      "execution_count": 8
    },
    {
      "cell_type": "markdown",
      "source": "### Преобразование данных в нужные типы",
      "metadata": {}
    },
    {
      "cell_type": "code",
      "source": "# Преобразование столбцов age и score в int64\ndata['age'] = data['age'].astype('int64')\ndata['score'] = data['score'].astype('int64')",
      "metadata": {},
      "outputs": [],
      "execution_count": 9
    },
    {
      "cell_type": "markdown",
      "source": "ВЫВОД ПО РАЗДЕЛУ: сменили регистр у двух названий столбцов. Дубликаты явные и неявные в датасете отсутствуют. Удалено 0.26% клиентов без указания возраста. Преобразованы в целочисленные значения столбцы с возрастом 'age' и баллом кредитного скоринга 'score'.",
      "metadata": {}
    },
    {
      "cell_type": "markdown",
      "source": "## Исследовательский анализ данных",
      "metadata": {}
    },
    {
      "cell_type": "markdown",
      "source": "### Подсчет доли ушедших клиентов",
      "metadata": {}
    },
    {
      "cell_type": "code",
      "source": "# Подсчет оттока клиентов\nchurned = data['churn'].sum()\ncustomers = data['churn'].count() # Общее количество клиентов\nrate = data['churn'].mean() * 100  # Процент оттока\n\nprint(f\"Количество ушедших клиентов: {churned}\")\nprint(f\"Общее количество клиентов: {customers}\")\nprint(f\"Процент оттока клиентов: {rate:.2f}%\")",
      "metadata": {},
      "outputs": [
        {
          "name": "stdout",
          "output_type": "stream",
          "text": "Количество ушедших клиентов: 1819\n,Общее количество клиентов: 9974\n,Процент оттока клиентов: 18.24%\n"
        }
      ],
      "execution_count": 10
    },
    {
      "cell_type": "markdown",
      "source": "Много это или мало и по каким причинам они ушли - на эти вопросы мы ответим дальше. ",
      "metadata": {}
    },
    {
      "cell_type": "markdown",
      "source": "###  Построение гистограмм отточных и оставшихся клиентов по их основным характеристикам",
      "metadata": {}
    },
    {
      "cell_type": "markdown",
      "source": "СКОРИНГОВЫЙ БАЛЛ ",
      "metadata": {}
    },
    {
      "cell_type": "code",
      "source": "# Создание графика гистограммы\nplt.figure(figsize=(10, 6))\nsns.histplot(data=data, hue='churn', x='score', stat='density', common_norm=False, palette='flag')\n\n# Настройка легенды и отображение графика\n\nplt.title('Распределение с нормированной плотностью по скоринговому баллу')\nplt.xlabel('Скоринговый балл')\nplt.ylabel('Плотность')\nplt.show()",
      "metadata": {},
      "outputs": [
        {
          "data": {
            "image/png": "[encoded data removed]",
            "text/plain": [
              "<Figure size 720x432 with 1 Axes>"
            ]
          },
          "metadata": {
            "needs_background": "light"
          },
          "output_type": "display_data"
        }
      ],
      "execution_count": 11
    },
    {
      "cell_type": "markdown",
      "source": "Вероятность ухода клиента выше со скоринговым баллом 825-910 и 920-930. Клиентов с наивысшим баллом сколько ушло, столько же и осталось.",
      "metadata": {}
    },
    {
      "cell_type": "markdown",
      "source": "ГОРОД КЛИЕНТА",
      "metadata": {}
    },
    {
      "cell_type": "code",
      "source": "# Создание графика гистограммы\nplt.figure(figsize=(10, 6))\nsns.histplot(data=data, hue='churn', x='city', stat='density', common_norm=False, palette='flag')\n\n# Настройка легенды и отображение графика\n\nplt.title('Гистограмма с нормированной плотностью по городам клиента')\nplt.xlabel('Город')\nplt.ylabel('Плотность')\nplt.show()",
      "metadata": {},
      "outputs": [
        {
          "data": {
            "image/png": "[encoded data removed]",
            "text/plain": [
              "<Figure size 720x432 with 1 Axes>"
            ]
          },
          "metadata": {
            "needs_background": "light"
          },
          "output_type": "display_data"
        }
      ],
      "execution_count": 12
    },
    {
      "cell_type": "markdown",
      "source": "Вероятность того, что клиент уйдет больше в Ярославле. В Ростове тоже кол-во отточных клиентов больше, чем оставшихся. ",
      "metadata": {}
    },
    {
      "cell_type": "markdown",
      "source": "ПОЛ КЛИЕНТА",
      "metadata": {}
    },
    {
      "cell_type": "code",
      "source": "# Создание графика гистограммы\nplt.figure(figsize=(10, 6))\nsns.histplot(data=data, hue='churn', x='gender', stat='density', common_norm=False, palette='flag')\n\n# Настройка легенды и отображение графика\n\nplt.title('Гистограмма с нормированной плотностью по полу клиента')\nplt.xlabel('Пол')\nplt.ylabel('Плотность')\nplt.show()",
      "metadata": {},
      "outputs": [
        {
          "data": {
            "image/png": "[encoded data removed]",
            "text/plain": [
              "<Figure size 720x432 with 1 Axes>"
            ]
          },
          "metadata": {
            "needs_background": "light"
          },
          "output_type": "display_data"
        }
      ],
      "execution_count": 13
    },
    {
      "cell_type": "markdown",
      "source": "Вероятность, что из банка уйдет мужчина больше.",
      "metadata": {}
    },
    {
      "cell_type": "markdown",
      "source": "ВОЗРАСТ КЛИЕНТА",
      "metadata": {}
    },
    {
      "cell_type": "code",
      "source": "# Создание графика гистограммы\nplt.figure(figsize=(10, 6))\nsns.histplot(data=data, hue='churn', x='age', discrete=True, stat='density', common_norm=False, palette='flag')\n\n# Настройка легенды и отображение графика\n\nplt.title('Гистограмма с нормированной плотностью по возрасту клиента')\nplt.xlabel('Возраст клиента')\nplt.ylabel('Плотность')\nplt.show()",
      "metadata": {},
      "outputs": [
        {
          "data": {
            "image/png": "[encoded data removed]",
            "text/plain": [
              "<Figure size 720x432 with 1 Axes>"
            ]
          },
          "metadata": {
            "needs_background": "light"
          },
          "output_type": "display_data"
        }
      ],
      "execution_count": 14
    },
    {
      "cell_type": "markdown",
      "source": "В возрасте:\n- 18-25 лет клиенты остаются,\n- 25-35 лет большой отток, \n- 35-50 лет клиентов больше осталось, чем ушло. \n- 50-60 лет большой отток \n- 60-85 лет клиенты остались. ",
      "metadata": {}
    },
    {
      "cell_type": "markdown",
      "source": "### Построение гистограмм отточных и оставшихся клиентов по их финансовым данным",
      "metadata": {}
    },
    {
      "cell_type": "markdown",
      "source": "КОЛИЧЕСТВО БАЛЛОВ СОБСТВЕННОСТИ",
      "metadata": {}
    },
    {
      "cell_type": "code",
      "source": "# Создание графика гистограммы\nplt.figure(figsize=(10, 6))\nsns.histplot(data=data, hue='churn', x='equity', discrete=True, stat='density', common_norm=False, palette='flag')\n\n# Настройка легенды и отображение графика\n\nplt.title('Гистограмма с нормированной плотностью по баллам собственности')\nplt.xlabel('Балл собственности')\nplt.ylabel('Плотность')\nplt.show()",
      "metadata": {},
      "outputs": [
        {
          "data": {
            "image/png": "[encoded data removed]",
            "text/plain": [
              "<Figure size 720x432 with 1 Axes>"
            ]
          },
          "metadata": {
            "needs_background": "light"
          },
          "output_type": "display_data"
        }
      ],
      "execution_count": 15
    },
    {
      "cell_type": "markdown",
      "source": "Вероятность того, что клиент уйдет больше у тех клиентов, которые имеют от 3х до 9 баллов собственности.",
      "metadata": {}
    },
    {
      "cell_type": "markdown",
      "source": "БАЛАНС НА СЧЕТЕ",
      "metadata": {}
    },
    {
      "cell_type": "code",
      "source": "# Создание графика гистограммы\nplt.figure(figsize=(10, 6))\nsns.histplot(data=data, hue='churn', x='balance', stat='density', common_norm=False, palette='flag')\n\n# Настройка легенды и отображение графика\n\nplt.title('Гистограмма с нормированной плотностью по балансу на счете')\nplt.xlabel('Баланс')\nplt.ylabel('Плотность')\nplt.ylim(0, 1e-6)\nplt.xlim(0, 1e7)\nplt.show()",
      "metadata": {
        "scrolled": true
      },
      "outputs": [
        {
          "data": {
            "image/png": "[encoded data removed]",
            "text/plain": [
              "<Figure size 720x432 with 1 Axes>"
            ]
          },
          "metadata": {
            "needs_background": "light"
          },
          "output_type": "display_data"
        }
      ],
      "execution_count": 16
    },
    {
      "cell_type": "markdown",
      "source": "Вероятность отточности наблюдается у клиентов с балансом на счете от 100 тыс до 400 тыс и от 450 до 1 млн. \n<br> * В предобработке данных в данной характеристике было обнаружено много пропусков.",
      "metadata": {}
    },
    {
      "cell_type": "markdown",
      "source": "КОЛИЧЕСТВО ПРОДУКТОВ, КОТОРЫМИ ПОЛЬЗУЕТСЯ КЛИЕНТ",
      "metadata": {}
    },
    {
      "cell_type": "code",
      "source": "# Подсчет количества ушедших и оставшихся клиентов по количеству продуктов\nchurn_counts = data.groupby(['products', 'churn']).size().unstack(fill_value=0)\n\n# Расчет процентов\nchurn_percent = churn_counts.div(churn_counts.sum(axis=1), axis=0) * 100\n\n# Преобразование данных для визуализации\nchurn_percent = churn_percent.reset_index().melt(id_vars='products', value_vars=[0, 1], \n                                                  var_name='churn', value_name='percentage')\n\n# Построение диаграммы\nplt.figure(figsize=(10, 6))\nsns.barplot(data=churn_percent, x='products', y='percentage', hue='churn', palette='Set1')\n\n# Настройка заголовка и меток осей\nplt.title('Процент ушедших и оставшихся клиентов по количеству продуктов')\nplt.xlabel('Количество продуктов')\nplt.ylabel('Процент клиентов')\nplt.xticks(rotation=0)\nplt.legend(title='Уход', labels=['Остался (красный)', 'Ушел (синий)'])\n\n# Показать диаграмму\nplt.show()",
      "metadata": {},
      "outputs": [
        {
          "data": {
            "image/png": "[encoded data removed]",
            "text/plain": [
              "<Figure size 720x432 with 1 Axes>"
            ]
          },
          "metadata": {
            "needs_background": "light"
          },
          "output_type": "display_data"
        }
      ],
      "execution_count": 17
    },
    {
      "cell_type": "code",
      "source": "# Подсчет количества ушедших и оставшихся клиентов по количеству продуктов\nchurn_counts = data.groupby(['products', 'churn']).size().unstack(fill_value=0)\n\n# Расчет процентов\nchurn_percent = churn_counts.div(churn_counts.sum(axis=1), axis=0) * 100\n\n# Преобразование данных для визуализации\nchurn_percent = churn_percent.reset_index().melt(id_vars='products', value_vars=[0, 1], \n                                                  var_name='churn', value_name='percentage')\n\n# Исключаем значение 0 по столбцу products\nchurn_percent = churn_percent[churn_percent['products'] != 0]\n\n# Построение диаграммы\nplt.figure(figsize=(10, 6))\nsns.barplot(data=churn_percent, x='products', y='percentage', hue='churn', palette='Set1')\n\n# Настройка заголовка и меток осей\nplt.title('Процент ушедших и оставшихся клиентов по количеству продуктов')\nplt.xlabel('Количество продуктов')\nplt.ylabel('Процент клиентов')\nplt.xticks(rotation=0)\nplt.legend(title='Уход', labels=['Остался (красный)', 'Ушел (синий)'])\nplt.show()",
      "metadata": {},
      "outputs": [
        {
          "data": {
            "image/png": "[encoded data removed]",
            "text/plain": [
              "<Figure size 720x432 with 1 Axes>"
            ]
          },
          "metadata": {
            "needs_background": "light"
          },
          "output_type": "display_data"
        }
      ],
      "execution_count": 18
    },
    {
      "cell_type": "markdown",
      "source": "Чем больше у клиента продуктов, тем выше вероятность его ухода. О выбивающихся данных о 5 продуктах мы рассмотрим ниже. ",
      "metadata": {}
    },
    {
      "cell_type": "code",
      "source": "# Подсчет количества ушедших клиентов по количеству продуктов\nchurn_counts = data[data['churn'] == 1].groupby('products').size()\n\n# Расчет процентов ушедших клиентов\ntotal_counts = data.groupby('products').size()\nchurn_percent = (churn_counts / total_counts * 100).fillna(0).reset_index(name='percentage')\n\n# Построение диаграммы\nplt.figure(figsize=(10, 6))\nsns.barplot(data=churn_percent, x='products', y='percentage', palette='Set1')\n\n# Настройка заголовка и меток осей\nplt.title('Процент ушедших клиентов по количеству продуктов')\nplt.xlabel('Количество продуктов')\nplt.ylabel('Процент ушедших клиентов')\nplt.xlim(1,)\nplt.xticks(rotation=0)\n\n# Показать диаграмму\nplt.show()",
      "metadata": {},
      "outputs": [
        {
          "data": {
            "image/png": "[encoded data removed]",
            "text/plain": [
              "<Figure size 720x432 with 1 Axes>"
            ]
          },
          "metadata": {
            "needs_background": "light"
          },
          "output_type": "display_data"
        }
      ],
      "execution_count": 19
    },
    {
      "cell_type": "markdown",
      "source": "НАЛИЧИЕ КРЕДИТНОЙ КАРТЫ",
      "metadata": {}
    },
    {
      "cell_type": "code",
      "source": "# Создание графика гистограммы\nplt.figure(figsize=(10, 6))\nsns.histplot(data=data, hue='churn', x='credit_card', stat='density', common_norm=False, palette='flag')\n\n# Настройка легенды и отображение графика\n\nplt.title('Гистограмма с нормированной плотностью по наличию кредитной карты')\nplt.xlabel('Кредитная карта')\nplt.ylabel('Плотность')\n# Добавляем подписи на ось X\nplt.xticks([0, 1], ['Карты нет', 'Карта есть'])\nplt.show()",
      "metadata": {},
      "outputs": [
        {
          "data": {
            "image/png": "[encoded data removed]",
            "text/plain": [
              "<Figure size 720x432 with 1 Axes>"
            ]
          },
          "metadata": {
            "needs_background": "light"
          },
          "output_type": "display_data"
        }
      ],
      "execution_count": 20
    },
    {
      "cell_type": "markdown",
      "source": "С кредитной картой вероятность, что клиент уйдет меньше. ",
      "metadata": {}
    },
    {
      "cell_type": "markdown",
      "source": "### Построение графиков отточных и оставшихся клиентов по данным о доходе и активности клиента",
      "metadata": {}
    },
    {
      "cell_type": "markdown",
      "source": "ДОХОД КЛИЕНТА",
      "metadata": {}
    },
    {
      "cell_type": "code",
      "source": "# Создание графика гистограммы\nplt.figure(figsize=(10, 6))\nsns.histplot(data=data, hue='churn', x='est_salary', stat='density', common_norm=False, palette='flag')\n\n# Рассчет средних значений\nmean_values = data.groupby('churn')['est_salary'].mean().reset_index()\n\n# Добавление средних значений на график\nfor _, row in mean_values.iterrows():\n    plt.axvline(x=row['est_salary'], linestyle='--', label=f'Средний доход (churn={row[\"churn\"]}): {row[\"est_salary\"]:.2f}')\n\n# Настройка легенды и отображение графика\nplt.legend()\nplt.title('Гистограмма с нормированной плотностью по доходу клиента')\nplt.xlabel('Доход клиента')\nplt.ylabel('Плотность')\nplt.xlim(0,1e6)\nplt.show()",
      "metadata": {},
      "outputs": [
        {
          "data": {
            "image/png": "[encoded data removed]",
            "text/plain": [
              "<Figure size 720x432 with 1 Axes>"
            ]
          },
          "metadata": {
            "needs_background": "light"
          },
          "output_type": "display_data"
        }
      ],
      "execution_count": 21
    },
    {
      "cell_type": "markdown",
      "source": "Вероятность ухода больше у тех клиентов, доход которых от 90 до 250 тыс., от 270-400 тыс., 500 и 1 млн 100 тыс. ",
      "metadata": {}
    },
    {
      "cell_type": "markdown",
      "source": "АКТИВНОСТЬ КЛИЕНТА",
      "metadata": {}
    },
    {
      "cell_type": "code",
      "source": "# Создание графика гистограммы\nplt.figure(figsize=(10, 6))\nsns.histplot(data=data, hue='churn', x='last_activity', stat='density', common_norm=False, palette='flag')\n\n# Настройка легенды и отображение графика\n\nplt.title('Гистограмма с нормированной плотностью по активности клиента')\nplt.xlabel('Активность')\nplt.ylabel('Плотность')\n# Добавляем подписи на ось X\nplt.xticks([0, 1], ['Не активен', 'Активен'])\nplt.show()",
      "metadata": {
        "scrolled": true
      },
      "outputs": [
        {
          "data": {
            "image/png": "[encoded data removed]",
            "text/plain": [
              "<Figure size 720x432 with 1 Axes>"
            ]
          },
          "metadata": {
            "needs_background": "light"
          },
          "output_type": "display_data"
        }
      ],
      "execution_count": 22
    },
    {
      "cell_type": "markdown",
      "source": "Вероятность, что ушедший клиент был активным больше.",
      "metadata": {}
    },
    {
      "cell_type": "code",
      "source": "# Группируем данные по активности клиента и статуса отточности \nchurn_stats = data.groupby(['last_activity', 'churn']).size().unstack(fill_value=0)\n\n# Предполагаем, что churn_stats уже содержит необходимые данные\nchurn_stats['процент'] = (churn_stats[1] / (churn_stats[0] + churn_stats[1]) * 100).round(2)\n\n# Форматирование для добавления знака %\nchurn_stats['процент'] = churn_stats['процент'].astype(str) + '%'\n# Выводим результаты\nprint(churn_stats)\n\n# Определяем, кто чаще уходит\nif churn_stats.loc[1, 1] > churn_stats.loc[0, 1]:\n    print(\"Чаще уходят активные клиенты.\")\nelif churn_stats.loc[1, 1] < churn_stats.loc[0, 1]:\n    print(\"Чаще уходят неактивные клиенты.\")\nelse:\n    print(\"Количество уходящих клиентов одинаково для активных и неактивных.\")",
      "metadata": {},
      "outputs": [
        {
          "name": "stdout",
          "output_type": "stream",
          "text": "churn             0     1 процент\n,last_activity                    \n,0              4217   542  11.39%\n,1              3938  1277  24.49%\n,Чаще уходят активные клиенты.\n"
        }
      ],
      "execution_count": 23
    },
    {
      "cell_type": "code",
      "source": "# Группируем данные по активности клиента и статуса отточности \nchurn_stats = data.groupby(['last_activity', 'churn']).size().unstack(fill_value=0)\n\n# Предполагаем, что churn_stats уже содержит необходимые данные\nchurn_stats['процент'] = (churn_stats[1] / (churn_stats[0] + churn_stats[1]) * 100).round(2)\n\n# Форматирование для добавления знака %\nchurn_stats['процент'] = churn_stats['процент'].astype(str) + '%'\n\n# Переименовываем индексы\nchurn_stats = churn_stats.rename(index={0: 'Не активен', 1: 'Активен'})\n\n# Выводим результаты\nprint(churn_stats)\n\n# Определяем, кто чаще уходит\nif churn_stats.loc['Активен', 1] > churn_stats.loc['Не активен', 1]:\n    print(\"Чаще уходят активные клиенты.\")\nelif churn_stats.loc['Активен', 1] < churn_stats.loc['Не активен', 1]:\n    print(\"Чаще уходят неактивные клиенты.\")\nelse:\n    print(\"Количество уходящих клиентов одинаково для активных и неактивных.\")",
      "metadata": {},
      "outputs": [
        {
          "name": "stdout",
          "output_type": "stream",
          "text": "churn             0     1 процент\n,last_activity                    \n,Не активен     4217   542  11.39%\n,Активен        3938  1277  24.49%\n,Чаще уходят активные клиенты.\n"
        }
      ],
      "execution_count": 24
    },
    {
      "cell_type": "markdown",
      "source": "### Матрица и столбец корреляций",
      "metadata": {}
    },
    {
      "cell_type": "code",
      "source": "# Вычисляем корреляцию\ncorrelation_matrix = data.corr()\n\n# Строим тепловую карту\nplt.figure(figsize=(10, 8))\nsns.heatmap(correlation_matrix, annot=True, fmt=\".2f\", cmap=\"coolwarm\", center=0)\nplt.title(\"Корреляционная матрица\")\nplt.show()",
      "metadata": {},
      "outputs": [
        {
          "data": {
            "image/png": "[encoded data removed]",
            "text/plain": [
              "<Figure size 720x576 with 2 Axes>"
            ]
          },
          "metadata": {
            "needs_background": "light"
          },
          "output_type": "display_data"
        }
      ],
      "execution_count": 25
    },
    {
      "cell_type": "code",
      "source": "# Функция для вычисления коэффициента корреляции Крамера\ndef cramers_v(confusion_matrix):\n    chi2 = chi2_contingency(confusion_matrix)[0]\n    n = confusion_matrix.sum().sum()  # Общее количество наблюдений\n    phi2 = chi2 / n\n    r, k = confusion_matrix.shape\n    phi2corr = max(0, phi2 - ((k - 1) * (r - 1)) / (n - 1))\n    rcorr = r - 1\n    kcorr = k - 1\n    return np.sqrt(phi2corr / min((kcorr, rcorr)))\n\n# Предположим, ваш DataFrame называется data и содержит столбец user_id\ndata_filtered = data.drop(columns=['user_id'])  # Удаляем столбец user_id\n\n# Получаем список категориальных столбцов\ncategorical_cols = data_filtered.select_dtypes(include=['object', 'int64']).columns\n\n# Создаем матрицу корреляции Крамера\ncramer_matrix = pd.DataFrame(index=categorical_cols, columns=categorical_cols)\n\nfor col1 in categorical_cols:\n    for col2 in categorical_cols:\n        confusion_matrix = pd.crosstab(data_filtered[col1], data_filtered[col2])\n        cramer_matrix.loc[col1, col2] = cramers_v(confusion_matrix)\n\n# Преобразуем значения в числовой формат\ncramer_matrix = cramer_matrix.astype(float)\n\n# Визуализируем матрицу\nplt.figure(figsize=(10, 8))\nsns.heatmap(cramer_matrix, annot=True, fmt=\".2f\", cmap=\"coolwarm\", center=0)\nplt.title(\"Коэффициент корреляции Крамера\")\nplt.show()",
      "metadata": {},
      "outputs": [
        {
          "data": {
            "image/png": "[encoded data removed]",
            "text/plain": [
              "<Figure size 720x576 with 2 Axes>"
            ]
          },
          "metadata": {
            "needs_background": "light"
          },
          "output_type": "display_data"
        }
      ],
      "execution_count": 26
    },
    {
      "cell_type": "markdown",
      "source": "Матрица корреляций показала зависимость (`умеренную`) между:\n- кол-вом продуктов и кредитной картой - 0.33\n- кол-вом продуктов и возрастом - 0.32\n- доходом клиента и балансом на счете - 0.33\n- кол-вом продуктов и отточности - 0.32",
      "metadata": {}
    },
    {
      "cell_type": "code",
      "source": "# Удаляем столбец user_id\ndf_filtered = data.drop(columns=['user_id'])\n\n# Вычисляем корреляционную матрицу\ncorrelation_matrix = df_filtered.corr()\n\n# Строим тепловую карту\nsns.heatmap(correlation_matrix.loc[:, ['churn']].drop('churn').sort_values('churn'), \n            annot=True, fmt=\".0%\", cmap=\"vlag\", center=0)\n\nplt.title(\"Корреляционный столбец по статусу ухода\")\nplt.show()",
      "metadata": {},
      "outputs": [
        {
          "data": {
            "image/png": "[encoded data removed]",
            "text/plain": [
              "<Figure size 432x288 with 2 Axes>"
            ]
          },
          "metadata": {
            "needs_background": "light"
          },
          "output_type": "display_data"
        }
      ],
      "execution_count": 27
    },
    {
      "cell_type": "markdown",
      "source": "Корреляционный столбец по оттоку показал,что из всех показателей больше всего скоррелировало кол-во продуктов, хотя это не очень сильная корреляция. Еще мы обратим внимание на эту взаимосвязь при проверке гипотез.",
      "metadata": {}
    },
    {
      "cell_type": "markdown",
      "source": "### Портрет клиента, который склонен и не склонен уходить из банка",
      "metadata": {}
    },
    {
      "cell_type": "markdown",
      "source": "Клиент склонный УЙТИ из банка:\n- мужчина с доходом от 100 тыс. в возрасте 25-35 лет и 50-60 лет. Имеет 2 и более продуктов, скоринговый балл выше 850. Обслуживается в Ярославле или Ростове. Имеет 3-9 баллов собственности. Баланс на счете 100-400 тыс или 450-1 млн. Когда уходил был активным клиентом.",
      "metadata": {}
    },
    {
      "cell_type": "markdown",
      "source": "Клиент склонный ОСТАТЬСЯ:\n- женщина с доходом до 100 тыс. в возрасте 18-25 лет, 35-50, 60-85 лет. Имеет не больше 1-го продукта и скоринговый балл 650-825 и 940-990. Есть кредитная карта. Обслуживается в Рыбинске. Имеет до 2х баллов собственности. Баланс на счете до 100 тыс.",
      "metadata": {}
    },
    {
      "cell_type": "markdown",
      "source": "ВЫВОД ПО РАЗДЕЛУ: процент оттока клиентов - 18.24%. Перед тем, как понять какие дать рекомендаци мы построили по каждому признаку гистограммы и выделили промежутки с высокой отточностью. Из признаков выделяется\n- наличие кредитной карты у тех, что остались в банке\n- статус активного клиента у тех, что ушли. \n \n<br> Затем построили корреляционную матрицу. Большее влияние на уход из банка показало кол-во продуктов, которыми пользуется клиент. \n<br> Описаны портреты клиентов, что ушли и что остались. ",
      "metadata": {}
    },
    {
      "cell_type": "markdown",
      "source": "## Проверка гипотез",
      "metadata": {}
    },
    {
      "cell_type": "markdown",
      "source": "Проверим две гипотезы о доходе клиентов и количестве продуктов.",
      "metadata": {}
    },
    {
      "cell_type": "markdown",
      "source": "Сформулируем гипотезу. \n<br>H0: Доход у  клиентов, которые\nушли и которые остались ОДИНАКОВЫЙ.\n<br> H1: Доход у  клиентов, которые\nушли и которые остались РАЗЛИЧАЕТСЯ.\n<br> Применим двухсторонний t-тест.",
      "metadata": {}
    },
    {
      "cell_type": "code",
      "source": "# Разделение доходов клиентов по состоянию\nincome_left = data[data['churn'] == 1]['est_salary']\nincome_stayed = data[data['churn'] == 0]['est_salary']\n\n# Уровень значимости\nalpha = 0.05\n\n# Выполним t-тест\nresults = st.ttest_ind(income_left, income_stayed)\n\n# Результат\nprint(f'p-value: {results.pvalue}')\n\nif results.pvalue < alpha:\n    print(\"Отвергаем нулевую гипотезу: доходы различаются.\")\nelse:\n    print(\"Не хватает доказательств, чтобы отвергнуть нулевую гипотезу: доходы одинаковые.\")",
      "metadata": {},
      "outputs": [
        {
          "name": "stdout",
          "output_type": "stream",
          "text": "p-value: 0.8647861589211189\n,Не хватает доказательств, чтобы отвергнуть нулевую гипотезу: доходы одинаковые.\n"
        }
      ],
      "execution_count": 28
    },
    {
      "cell_type": "markdown",
      "source": "Сформулируем вторую гипотезу для двух независимых выборок.\n<br> H0: Доля количества продуктов у клиентов, которые ушли БОЛЬШЕ.\n<br> H1: Доля количества продуктов у клиентов, которые ушли МЕНЬШЕ.\n<br> Мы применим критерий Манна-Уитни, т.к. он менее чувствителен к выбросам и может использоваться, когда дисперсии в группах различны. ",
      "metadata": {}
    },
    {
      "cell_type": "code",
      "source": "# Кол-во продуктов для каждой группы\nproducts_churned = data[data['churn'] == 1]['products']\nproducts_not_churned = data[data['churn'] == 0]['products']\n\n# Уровень значимости\nalpha = 0.05\n\n# Проведем тест Манна-Уитни\nresults = st.mannwhitneyu(products_churned, products_not_churned, alternative='less')\n\n# Результат\nprint(f'p-value: {results.pvalue}')\n\nif results.pvalue < alpha:\n    print(\"Отвергаем нулевую гипотезу: доля продуктов у клиентов, которые ушли МЕНЬШЕ.\")\nelse:\n    print(\"Нет оснований отвергать нулевую гипотезу: доля продуктов у клиентов, которые ушли БОЛЬШЕ.\")\n",
      "metadata": {},
      "outputs": [
        {
          "name": "stdout",
          "output_type": "stream",
          "text": "p-value: 1.0\n,Нет оснований отвергать нулевую гипотезу: доля продуктов у клиентов, которые ушли БОЛЬШЕ.\n"
        }
      ],
      "execution_count": 29
    },
    {
      "cell_type": "markdown",
      "source": "Сформулируем вторую гипотезу для двух независимых выборок.\n<br>H0: Доля количества продуктов у клиентов, которые ушли, РАВНА доле продуктов у клиентов, которые остались.\n<br> H1: Доля количества продуктов у клиентов, которые ушли, НЕ РАВНА доле продуктов у клиентов, которые остались.",
      "metadata": {}
    },
    {
      "cell_type": "code",
      "source": "# Предположим, что ваш DataFrame называется data\nproducts_churned = data[data['churn'] == 1]['products']\nproducts_not_churned = data[data['churn'] == 0]['products']\n\n# Уровень значимости\nalpha = 0.05\n\n# Проведем тест Манна-Уитни для двухсторонней гипотезы\nresults = st.mannwhitneyu(products_churned, products_not_churned, alternative='two-sided')\n\n# Результат\nprint(f'p-value: {results.pvalue}')\n\nif results.pvalue < alpha:\n    print(\"Отвергаем нулевую гипотезу: доля продуктов у клиентов, которые ушли, не равна доле продуктов у клиентов, которые остались.\")\nelse:\n    print(\"Нет оснований отвергать нулевую гипотезу: доля продуктов у клиентов, которые ушли, равна доле продуктов у клиентов, которые остались.\")",
      "metadata": {},
      "outputs": [
        {
          "name": "stdout",
          "output_type": "stream",
          "text": "p-value: 4.58675490285981e-161\n,Отвергаем нулевую гипотезу: доля продуктов у клиентов, которые ушли, не равна доле продуктов у клиентов, которые остались.\n"
        }
      ],
      "execution_count": 30
    },
    {
      "cell_type": "markdown",
      "source": "ВЫВОДЫ ПО РАЗДЕЛУ: гипотеза опровергла влияние дохода клиента на его уход. Вторая гипотеза подтвердила подозрения - доля продуктов у клиентов, которые ушли не равна доле продуктов у клиентов, которые остались. Для формирования сегментов будем это учитывать.",
      "metadata": {}
    },
    {
      "cell_type": "markdown",
      "source": "## Отбор лучших и формирование сегментов",
      "metadata": {}
    },
    {
      "cell_type": "markdown",
      "source": "СЕГМЕНТ С ВЫДЕЛЕНИЕМ ВОЗРАСТА КЛИЕНТА И КОЛИЧЕСТВА ПРОДУКТОВ",
      "metadata": {}
    },
    {
      "cell_type": "code",
      "source": "segment_1 = data.query('((age >= 25 and age <= 35) or (age >= 50 and age <= 60)) and (equity >= 3) and (products >= 2)')\nprint(\"Сегмент 1\")\ndisplay(segment_1)",
      "metadata": {},
      "outputs": [
        {
          "name": "stdout",
          "output_type": "stream",
          "text": "Сегмент 1\n"
        },
        {
          "data": {
            "text/html": [
              "<div>\n",
              "<style scoped>\n",
              "    .dataframe tbody tr th:only-of-type {\n",
              "        vertical-align: middle;\n",
              "    }\n",
              "\n",
              "    .dataframe tbody tr th {\n",
              "        vertical-align: top;\n",
              "    }\n",
              "\n",
              "    .dataframe thead th {\n",
              "        text-align: right;\n",
              "    }\n",
              "</style>\n",
              "<table border=\"1\" class=\"dataframe\">\n",
              "  <thead>\n",
              "    <tr style=\"text-align: right;\">\n",
              "      <th></th>\n",
              "      <th>user_id</th>\n",
              "      <th>score</th>\n",
              "      <th>city</th>\n",
              "      <th>gender</th>\n",
              "      <th>age</th>\n",
              "      <th>equity</th>\n",
              "      <th>balance</th>\n",
              "      <th>products</th>\n",
              "      <th>credit_card</th>\n",
              "      <th>last_activity</th>\n",
              "      <th>est_salary</th>\n",
              "      <th>churn</th>\n",
              "    </tr>\n",
              "  </thead>\n",
              "  <tbody>\n",
              "    <tr>\n",
              "      <th>3</th>\n",
              "      <td>225363</td>\n",
              "      <td>866</td>\n",
              "      <td>Ярославль</td>\n",
              "      <td>Ж</td>\n",
              "      <td>51</td>\n",
              "      <td>5</td>\n",
              "      <td>1524746.26</td>\n",
              "      <td>2</td>\n",
              "      <td>0</td>\n",
              "      <td>1</td>\n",
              "      <td>174423.53</td>\n",
              "      <td>1</td>\n",
              "    </tr>\n",
              "    <tr>\n",
              "      <th>5</th>\n",
              "      <td>202305</td>\n",
              "      <td>856</td>\n",
              "      <td>Рыбинск</td>\n",
              "      <td>М</td>\n",
              "      <td>56</td>\n",
              "      <td>4</td>\n",
              "      <td>863687.24</td>\n",
              "      <td>3</td>\n",
              "      <td>1</td>\n",
              "      <td>0</td>\n",
              "      <td>156619.80</td>\n",
              "      <td>0</td>\n",
              "    </tr>\n",
              "    <tr>\n",
              "      <th>8</th>\n",
              "      <td>211686</td>\n",
              "      <td>923</td>\n",
              "      <td>Ярославль</td>\n",
              "      <td>М</td>\n",
              "      <td>54</td>\n",
              "      <td>5</td>\n",
              "      <td>1206337.87</td>\n",
              "      <td>2</td>\n",
              "      <td>1</td>\n",
              "      <td>0</td>\n",
              "      <td>155371.79</td>\n",
              "      <td>0</td>\n",
              "    </tr>\n",
              "    <tr>\n",
              "      <th>12</th>\n",
              "      <td>132970</td>\n",
              "      <td>845</td>\n",
              "      <td>Ярославль</td>\n",
              "      <td>Ж</td>\n",
              "      <td>31</td>\n",
              "      <td>3</td>\n",
              "      <td>591928.52</td>\n",
              "      <td>2</td>\n",
              "      <td>1</td>\n",
              "      <td>1</td>\n",
              "      <td>112697.16</td>\n",
              "      <td>1</td>\n",
              "    </tr>\n",
              "    <tr>\n",
              "      <th>13</th>\n",
              "      <td>166357</td>\n",
              "      <td>837</td>\n",
              "      <td>Рыбинск</td>\n",
              "      <td>Ж</td>\n",
              "      <td>28</td>\n",
              "      <td>4</td>\n",
              "      <td>302249.22</td>\n",
              "      <td>2</td>\n",
              "      <td>0</td>\n",
              "      <td>1</td>\n",
              "      <td>30950.94</td>\n",
              "      <td>0</td>\n",
              "    </tr>\n",
              "    <tr>\n",
              "      <th>...</th>\n",
              "      <td>...</td>\n",
              "      <td>...</td>\n",
              "      <td>...</td>\n",
              "      <td>...</td>\n",
              "      <td>...</td>\n",
              "      <td>...</td>\n",
              "      <td>...</td>\n",
              "      <td>...</td>\n",
              "      <td>...</td>\n",
              "      <td>...</td>\n",
              "      <td>...</td>\n",
              "      <td>...</td>\n",
              "    </tr>\n",
              "    <tr>\n",
              "      <th>9963</th>\n",
              "      <td>187204</td>\n",
              "      <td>957</td>\n",
              "      <td>Ярославль</td>\n",
              "      <td>М</td>\n",
              "      <td>35</td>\n",
              "      <td>4</td>\n",
              "      <td>3431029.03</td>\n",
              "      <td>4</td>\n",
              "      <td>1</td>\n",
              "      <td>0</td>\n",
              "      <td>354987.43</td>\n",
              "      <td>1</td>\n",
              "    </tr>\n",
              "    <tr>\n",
              "      <th>9972</th>\n",
              "      <td>150126</td>\n",
              "      <td>834</td>\n",
              "      <td>Ростов</td>\n",
              "      <td>М</td>\n",
              "      <td>27</td>\n",
              "      <td>4</td>\n",
              "      <td>192776.27</td>\n",
              "      <td>2</td>\n",
              "      <td>0</td>\n",
              "      <td>1</td>\n",
              "      <td>26570.39</td>\n",
              "      <td>0</td>\n",
              "    </tr>\n",
              "    <tr>\n",
              "      <th>9986</th>\n",
              "      <td>152986</td>\n",
              "      <td>822</td>\n",
              "      <td>Ярославль</td>\n",
              "      <td>М</td>\n",
              "      <td>58</td>\n",
              "      <td>5</td>\n",
              "      <td>1434857.91</td>\n",
              "      <td>2</td>\n",
              "      <td>0</td>\n",
              "      <td>1</td>\n",
              "      <td>83442.41</td>\n",
              "      <td>1</td>\n",
              "    </tr>\n",
              "    <tr>\n",
              "      <th>9988</th>\n",
              "      <td>158678</td>\n",
              "      <td>889</td>\n",
              "      <td>Ярославль</td>\n",
              "      <td>М</td>\n",
              "      <td>35</td>\n",
              "      <td>4</td>\n",
              "      <td>880534.89</td>\n",
              "      <td>4</td>\n",
              "      <td>1</td>\n",
              "      <td>1</td>\n",
              "      <td>126564.61</td>\n",
              "      <td>0</td>\n",
              "    </tr>\n",
              "    <tr>\n",
              "      <th>9999</th>\n",
              "      <td>96267</td>\n",
              "      <td>828</td>\n",
              "      <td>Рыбинск</td>\n",
              "      <td>Ж</td>\n",
              "      <td>58</td>\n",
              "      <td>3</td>\n",
              "      <td>1180886.70</td>\n",
              "      <td>4</td>\n",
              "      <td>0</td>\n",
              "      <td>1</td>\n",
              "      <td>21422.37</td>\n",
              "      <td>0</td>\n",
              "    </tr>\n",
              "  </tbody>\n",
              "</table>\n",
              "<p>2304 rows × 12 columns</p>\n",
              "</div>"
            ],
            "text/plain": [
              "      user_id  score       city gender  age  equity     balance  products  \\\n",
              "3      225363    866  Ярославль      Ж   51       5  1524746.26         2   \n",
              "5      202305    856    Рыбинск      М   56       4   863687.24         3   \n",
              "8      211686    923  Ярославль      М   54       5  1206337.87         2   \n",
              "12     132970    845  Ярославль      Ж   31       3   591928.52         2   \n",
              "13     166357    837    Рыбинск      Ж   28       4   302249.22         2   \n",
              "...       ...    ...        ...    ...  ...     ...         ...       ...   \n",
              "9963   187204    957  Ярославль      М   35       4  3431029.03         4   \n",
              "9972   150126    834     Ростов      М   27       4   192776.27         2   \n",
              "9986   152986    822  Ярославль      М   58       5  1434857.91         2   \n",
              "9988   158678    889  Ярославль      М   35       4   880534.89         4   \n",
              "9999    96267    828    Рыбинск      Ж   58       3  1180886.70         4   \n",
              "\n",
              "      credit_card  last_activity  est_salary  churn  \n",
              "3               0              1   174423.53      1  \n",
              "5               1              0   156619.80      0  \n",
              "8               1              0   155371.79      0  \n",
              "12              1              1   112697.16      1  \n",
              "13              0              1    30950.94      0  \n",
              "...           ...            ...         ...    ...  \n",
              "9963            1              0   354987.43      1  \n",
              "9972            0              1    26570.39      0  \n",
              "9986            0              1    83442.41      1  \n",
              "9988            1              1   126564.61      0  \n",
              "9999            0              1    21422.37      0  \n",
              "\n",
              "[2304 rows x 12 columns]"
            ]
          },
          "metadata": {},
          "output_type": "display_data"
        }
      ],
      "execution_count": 31
    },
    {
      "cell_type": "code",
      "source": "# Подсчет оттока клиентов\ntotal_churned = segment_1['churn'].sum()\ntotal_customers = segment_1['churn'].count() # Общее количество клиентов\nchurn_rate = segment_1['churn'].mean() * 100  # Процент оттока\n\nprint(f\"Количество ушедших клиентов: {total_churned}\")\nprint(f\"Общее количество клиентов: {total_customers}\")\nprint(f\"Процент оттока клиентов: {churn_rate:.2f}%\")",
      "metadata": {},
      "outputs": [
        {
          "name": "stdout",
          "output_type": "stream",
          "text": "Количество ушедших клиентов: 833\n,Общее количество клиентов: 2304\n,Процент оттока клиентов: 36.15%\n"
        }
      ],
      "execution_count": 32
    },
    {
      "cell_type": "code",
      "source": "# Создание графика гистограммы\nplt.figure(figsize=(10, 6))\nsns.histplot(data=segment_1, hue='churn', x='age', stat='density', common_norm=False, palette='flag')\n\n# Настройка легенды и отображение графика\n\nplt.title('Гистограмма с нормированной плотностью по возрасту клиента')\nplt.xlabel('Возраст клиента')\nplt.ylabel('Плотность')\nplt.show()",
      "metadata": {},
      "outputs": [
        {
          "data": {
            "image/png": "[encoded data removed]",
            "text/plain": [
              "<Figure size 720x432 with 1 Axes>"
            ]
          },
          "metadata": {
            "needs_background": "light"
          },
          "output_type": "display_data"
        }
      ],
      "execution_count": 33
    },
    {
      "cell_type": "markdown",
      "source": "Более точная вероятность оттока по возрасту 25-27 и 52-57 лет. ",
      "metadata": {}
    },
    {
      "cell_type": "code",
      "source": "# Подсчет количества ушедших и оставшихся клиентов по количеству продуктов\nchurn_counts = segment_1.groupby(['products', 'churn']).size().unstack(fill_value=0)\n\n# Расчет процентов\nchurn_percent = churn_counts.div(churn_counts.sum(axis=1), axis=0) * 100\n\n# Преобразование данных для визуализации\nchurn_percent = churn_percent.reset_index().melt(id_vars='products', value_vars=[0, 1], \n                                                  var_name='churn', value_name='percentage')\n\n# Построение диаграммы\nplt.figure(figsize=(10, 6))\nsns.barplot(data=churn_percent, x='products', y='percentage', hue='churn', palette='Set1')\n\n# Настройка заголовка и меток осей\nplt.title('Процент ушедших и оставшихся клиентов по количеству продуктов')\nplt.xlabel('Количество продуктов')\nplt.ylabel('Процент клиентов')\nplt.xticks(rotation=0)\nplt.legend(title='Уход', labels=['Остался (красный)', 'Ушел (синий)'])\n\n# Показать диаграмму\nplt.show()",
      "metadata": {},
      "outputs": [
        {
          "data": {
            "image/png": "[encoded data removed]",
            "text/plain": [
              "<Figure size 720x432 with 1 Axes>"
            ]
          },
          "metadata": {
            "needs_background": "light"
          },
          "output_type": "display_data"
        }
      ],
      "execution_count": 34
    },
    {
      "cell_type": "code",
      "source": "# Подсчитаем количество клиентов с 5 продуктами\ncount = (segment_1['products'] == 5).sum()\n\nprint(f'Количество клиентов с 5 продуктами: {count}')",
      "metadata": {},
      "outputs": [
        {
          "name": "stdout",
          "output_type": "stream",
          "text": "Количество клиентов с 5 продуктами: 8\n"
        }
      ],
      "execution_count": 35
    },
    {
      "cell_type": "markdown",
      "source": "Чем больше у клиента продуктов, тем вероятность оттока увеличивается. А при 5 продуктах процент ушедших клиентов меньше в 2 раза - всего 8 клиентов. Возможно выборка с 5ю продуктами слишком мала, чтобы корректно ее оценивать.",
      "metadata": {}
    },
    {
      "cell_type": "markdown",
      "source": "РЕКОМЕНДАЦИЯ: \n- возможно наблюдаются проблемы с удобством пользования мобильного приложения. Обеспечить удобный доступ к услугам банка через мобильное приложение, которое позволяет управлять НЕСКОЛЬКИМИ продуктами (счета, кредиты, инвестиции) в одном месте. \n- сегменту можно предложить кэшбэк на определенные транзакции или услуги, когда клиент использует несколько продуктов банка. \n- для возрастной группы 52-57 лет предложить специальные пенсионные счета с повышенными ставками или выгодные условия по кредитам для пенсионеров. Также для этого возраста можно организовать услуги по планированию выхода на пенсию и управлению пенсионными накоплениями. Ведь клиенты 60+ менее отточны и важно привлечь их в предпенсионном возрасте.",
      "metadata": {}
    },
    {
      "cell_type": "markdown",
      "source": "СЕГМЕНТ С ВЫДЕЛЕНИЕМ СКОРИНГОВОГО БАЛЛА И ОТСУТСТВИЯ КРЕДИТНОЙ КАРТЫ",
      "metadata": {}
    },
    {
      "cell_type": "code",
      "source": "segment_2 = data.query('((score >= 825 and score <= 910) or (score >= 930 and score <= 940)) and (credit_card == 0) and (age <= 65)')\nprint(\"Сегмент 2\")\ndisplay(segment_2)\n# Ограничение возраста, т.к. кредитная карта выдается до 65 лет",
      "metadata": {},
      "outputs": [
        {
          "name": "stdout",
          "output_type": "stream",
          "text": "Сегмент 2\n"
        },
        {
          "data": {
            "text/html": [
              "<div>\n",
              "<style scoped>\n",
              "    .dataframe tbody tr th:only-of-type {\n",
              "        vertical-align: middle;\n",
              "    }\n",
              "\n",
              "    .dataframe tbody tr th {\n",
              "        vertical-align: top;\n",
              "    }\n",
              "\n",
              "    .dataframe thead th {\n",
              "        text-align: right;\n",
              "    }\n",
              "</style>\n",
              "<table border=\"1\" class=\"dataframe\">\n",
              "  <thead>\n",
              "    <tr style=\"text-align: right;\">\n",
              "      <th></th>\n",
              "      <th>user_id</th>\n",
              "      <th>score</th>\n",
              "      <th>city</th>\n",
              "      <th>gender</th>\n",
              "      <th>age</th>\n",
              "      <th>equity</th>\n",
              "      <th>balance</th>\n",
              "      <th>products</th>\n",
              "      <th>credit_card</th>\n",
              "      <th>last_activity</th>\n",
              "      <th>est_salary</th>\n",
              "      <th>churn</th>\n",
              "    </tr>\n",
              "  </thead>\n",
              "  <tbody>\n",
              "    <tr>\n",
              "      <th>0</th>\n",
              "      <td>183012</td>\n",
              "      <td>850</td>\n",
              "      <td>Рыбинск</td>\n",
              "      <td>Ж</td>\n",
              "      <td>25</td>\n",
              "      <td>1</td>\n",
              "      <td>59214.82</td>\n",
              "      <td>2</td>\n",
              "      <td>0</td>\n",
              "      <td>1</td>\n",
              "      <td>75719.14</td>\n",
              "      <td>1</td>\n",
              "    </tr>\n",
              "    <tr>\n",
              "      <th>3</th>\n",
              "      <td>225363</td>\n",
              "      <td>866</td>\n",
              "      <td>Ярославль</td>\n",
              "      <td>Ж</td>\n",
              "      <td>51</td>\n",
              "      <td>5</td>\n",
              "      <td>1524746.26</td>\n",
              "      <td>2</td>\n",
              "      <td>0</td>\n",
              "      <td>1</td>\n",
              "      <td>174423.53</td>\n",
              "      <td>1</td>\n",
              "    </tr>\n",
              "    <tr>\n",
              "      <th>13</th>\n",
              "      <td>166357</td>\n",
              "      <td>837</td>\n",
              "      <td>Рыбинск</td>\n",
              "      <td>Ж</td>\n",
              "      <td>28</td>\n",
              "      <td>4</td>\n",
              "      <td>302249.22</td>\n",
              "      <td>2</td>\n",
              "      <td>0</td>\n",
              "      <td>1</td>\n",
              "      <td>30950.94</td>\n",
              "      <td>0</td>\n",
              "    </tr>\n",
              "    <tr>\n",
              "      <th>18</th>\n",
              "      <td>136651</td>\n",
              "      <td>876</td>\n",
              "      <td>Ярославль</td>\n",
              "      <td>М</td>\n",
              "      <td>40</td>\n",
              "      <td>5</td>\n",
              "      <td>2307947.36</td>\n",
              "      <td>2</td>\n",
              "      <td>0</td>\n",
              "      <td>0</td>\n",
              "      <td>287010.61</td>\n",
              "      <td>0</td>\n",
              "    </tr>\n",
              "    <tr>\n",
              "      <th>21</th>\n",
              "      <td>177415</td>\n",
              "      <td>896</td>\n",
              "      <td>Рыбинск</td>\n",
              "      <td>Ж</td>\n",
              "      <td>47</td>\n",
              "      <td>0</td>\n",
              "      <td>NaN</td>\n",
              "      <td>1</td>\n",
              "      <td>0</td>\n",
              "      <td>0</td>\n",
              "      <td>225060.35</td>\n",
              "      <td>0</td>\n",
              "    </tr>\n",
              "    <tr>\n",
              "      <th>...</th>\n",
              "      <td>...</td>\n",
              "      <td>...</td>\n",
              "      <td>...</td>\n",
              "      <td>...</td>\n",
              "      <td>...</td>\n",
              "      <td>...</td>\n",
              "      <td>...</td>\n",
              "      <td>...</td>\n",
              "      <td>...</td>\n",
              "      <td>...</td>\n",
              "      <td>...</td>\n",
              "      <td>...</td>\n",
              "    </tr>\n",
              "    <tr>\n",
              "      <th>9972</th>\n",
              "      <td>150126</td>\n",
              "      <td>834</td>\n",
              "      <td>Ростов</td>\n",
              "      <td>М</td>\n",
              "      <td>27</td>\n",
              "      <td>4</td>\n",
              "      <td>192776.27</td>\n",
              "      <td>2</td>\n",
              "      <td>0</td>\n",
              "      <td>1</td>\n",
              "      <td>26570.39</td>\n",
              "      <td>0</td>\n",
              "    </tr>\n",
              "    <tr>\n",
              "      <th>9973</th>\n",
              "      <td>120403</td>\n",
              "      <td>859</td>\n",
              "      <td>Рыбинск</td>\n",
              "      <td>М</td>\n",
              "      <td>37</td>\n",
              "      <td>3</td>\n",
              "      <td>410112.86</td>\n",
              "      <td>1</td>\n",
              "      <td>0</td>\n",
              "      <td>1</td>\n",
              "      <td>103821.40</td>\n",
              "      <td>0</td>\n",
              "    </tr>\n",
              "    <tr>\n",
              "      <th>9976</th>\n",
              "      <td>208085</td>\n",
              "      <td>876</td>\n",
              "      <td>Ростов</td>\n",
              "      <td>М</td>\n",
              "      <td>38</td>\n",
              "      <td>0</td>\n",
              "      <td>NaN</td>\n",
              "      <td>1</td>\n",
              "      <td>0</td>\n",
              "      <td>0</td>\n",
              "      <td>171763.69</td>\n",
              "      <td>0</td>\n",
              "    </tr>\n",
              "    <tr>\n",
              "      <th>9981</th>\n",
              "      <td>154871</td>\n",
              "      <td>892</td>\n",
              "      <td>Рыбинск</td>\n",
              "      <td>М</td>\n",
              "      <td>39</td>\n",
              "      <td>5</td>\n",
              "      <td>636287.72</td>\n",
              "      <td>2</td>\n",
              "      <td>0</td>\n",
              "      <td>1</td>\n",
              "      <td>227288.27</td>\n",
              "      <td>1</td>\n",
              "    </tr>\n",
              "    <tr>\n",
              "      <th>9999</th>\n",
              "      <td>96267</td>\n",
              "      <td>828</td>\n",
              "      <td>Рыбинск</td>\n",
              "      <td>Ж</td>\n",
              "      <td>58</td>\n",
              "      <td>3</td>\n",
              "      <td>1180886.70</td>\n",
              "      <td>4</td>\n",
              "      <td>0</td>\n",
              "      <td>1</td>\n",
              "      <td>21422.37</td>\n",
              "      <td>0</td>\n",
              "    </tr>\n",
              "  </tbody>\n",
              "</table>\n",
              "<p>1637 rows × 12 columns</p>\n",
              "</div>"
            ],
            "text/plain": [
              "      user_id  score       city gender  age  equity     balance  products  \\\n",
              "0      183012    850    Рыбинск      Ж   25       1    59214.82         2   \n",
              "3      225363    866  Ярославль      Ж   51       5  1524746.26         2   \n",
              "13     166357    837    Рыбинск      Ж   28       4   302249.22         2   \n",
              "18     136651    876  Ярославль      М   40       5  2307947.36         2   \n",
              "21     177415    896    Рыбинск      Ж   47       0         NaN         1   \n",
              "...       ...    ...        ...    ...  ...     ...         ...       ...   \n",
              "9972   150126    834     Ростов      М   27       4   192776.27         2   \n",
              "9973   120403    859    Рыбинск      М   37       3   410112.86         1   \n",
              "9976   208085    876     Ростов      М   38       0         NaN         1   \n",
              "9981   154871    892    Рыбинск      М   39       5   636287.72         2   \n",
              "9999    96267    828    Рыбинск      Ж   58       3  1180886.70         4   \n",
              "\n",
              "      credit_card  last_activity  est_salary  churn  \n",
              "0               0              1    75719.14      1  \n",
              "3               0              1   174423.53      1  \n",
              "13              0              1    30950.94      0  \n",
              "18              0              0   287010.61      0  \n",
              "21              0              0   225060.35      0  \n",
              "...           ...            ...         ...    ...  \n",
              "9972            0              1    26570.39      0  \n",
              "9973            0              1   103821.40      0  \n",
              "9976            0              0   171763.69      0  \n",
              "9981            0              1   227288.27      1  \n",
              "9999            0              1    21422.37      0  \n",
              "\n",
              "[1637 rows x 12 columns]"
            ]
          },
          "metadata": {},
          "output_type": "display_data"
        }
      ],
      "execution_count": 36
    },
    {
      "cell_type": "code",
      "source": "# Подсчет оттока клиентов\ntotal_churned = segment_2['churn'].sum()\ntotal_customers = segment_2.shape[0]  # Общее количество клиентов\nchurn_rate = total_churned / total_customers * 100  # Процент оттока\n\nprint(f\"Количество ушедших клиентов: {total_churned}\")\nprint(f\"Общее количество клиентов: {total_customers}\")\nprint(f\"Процент оттока клиентов: {churn_rate:.2f}%\")",
      "metadata": {},
      "outputs": [
        {
          "name": "stdout",
          "output_type": "stream",
          "text": "Количество ушедших клиентов: 580\n,Общее количество клиентов: 1637\n,Процент оттока клиентов: 35.43%\n"
        }
      ],
      "execution_count": 37
    },
    {
      "cell_type": "code",
      "source": "# Создание графика гистограммы\nplt.figure(figsize=(10, 6))\nsns.histplot(data=segment_2, hue='churn', x='score', stat='density', common_norm=False, palette='flag')\n\n# Настройка легенды и отображение графика\nplt.title('Распределение скорингового балла для мужчин')\nplt.xlabel('Скоринговый балл')\nplt.ylabel('Плотность')\nplt.show()",
      "metadata": {},
      "outputs": [
        {
          "data": {
            "image/png": "[encoded data removed]",
            "text/plain": [
              "<Figure size 720x432 with 1 Axes>"
            ]
          },
          "metadata": {
            "needs_background": "light"
          },
          "output_type": "display_data"
        }
      ],
      "execution_count": 38
    },
    {
      "cell_type": "markdown",
      "source": "Здесь мы видим, что с баллом 830 и 850-880 клиентов ушло больше, чем осталось.",
      "metadata": {}
    },
    {
      "cell_type": "markdown",
      "source": "РЕКОМЕНДАЦИЯ: Сегменту можно разослать предложение на оформление кредитной карты на привлекательных условиях. Наличие карты минимизирует вероятность оттока. Высокий скоринговый балл в этом сегменте увеличит процент одобрения.",
      "metadata": {}
    },
    {
      "cell_type": "markdown",
      "source": "СЕГМЕНТ С ВЫДЕЛЕНИЕМ ДОХОДА, БАЛЛА СОБСТВЕННОСТИ И ПОЛА КЛИЕНТА",
      "metadata": {}
    },
    {
      "cell_type": "code",
      "source": "segment_3 = data.query(\"(((est_salary >= 90000 and est_salary <= 250000) or (est_salary >= 270000 and est_salary <= 400000) or (est_salary >= 500000 and est_salary <= 1100000))) and (equity >= 3) and (gender == 'М')\")\nprint(\"Сегмент 3\")\ndisplay(segment_3)",
      "metadata": {},
      "outputs": [
        {
          "name": "stdout",
          "output_type": "stream",
          "text": "Сегмент 3\n"
        },
        {
          "data": {
            "text/html": [
              "<div>\n",
              "<style scoped>\n",
              "    .dataframe tbody tr th:only-of-type {\n",
              "        vertical-align: middle;\n",
              "    }\n",
              "\n",
              "    .dataframe tbody tr th {\n",
              "        vertical-align: top;\n",
              "    }\n",
              "\n",
              "    .dataframe thead th {\n",
              "        text-align: right;\n",
              "    }\n",
              "</style>\n",
              "<table border=\"1\" class=\"dataframe\">\n",
              "  <thead>\n",
              "    <tr style=\"text-align: right;\">\n",
              "      <th></th>\n",
              "      <th>user_id</th>\n",
              "      <th>score</th>\n",
              "      <th>city</th>\n",
              "      <th>gender</th>\n",
              "      <th>age</th>\n",
              "      <th>equity</th>\n",
              "      <th>balance</th>\n",
              "      <th>products</th>\n",
              "      <th>credit_card</th>\n",
              "      <th>last_activity</th>\n",
              "      <th>est_salary</th>\n",
              "      <th>churn</th>\n",
              "    </tr>\n",
              "  </thead>\n",
              "  <tbody>\n",
              "    <tr>\n",
              "      <th>5</th>\n",
              "      <td>202305</td>\n",
              "      <td>856</td>\n",
              "      <td>Рыбинск</td>\n",
              "      <td>М</td>\n",
              "      <td>56</td>\n",
              "      <td>4</td>\n",
              "      <td>863687.24</td>\n",
              "      <td>3</td>\n",
              "      <td>1</td>\n",
              "      <td>0</td>\n",
              "      <td>156619.80</td>\n",
              "      <td>0</td>\n",
              "    </tr>\n",
              "    <tr>\n",
              "      <th>8</th>\n",
              "      <td>211686</td>\n",
              "      <td>923</td>\n",
              "      <td>Ярославль</td>\n",
              "      <td>М</td>\n",
              "      <td>54</td>\n",
              "      <td>5</td>\n",
              "      <td>1206337.87</td>\n",
              "      <td>2</td>\n",
              "      <td>1</td>\n",
              "      <td>0</td>\n",
              "      <td>155371.79</td>\n",
              "      <td>0</td>\n",
              "    </tr>\n",
              "    <tr>\n",
              "      <th>14</th>\n",
              "      <td>172138</td>\n",
              "      <td>815</td>\n",
              "      <td>Ярославль</td>\n",
              "      <td>М</td>\n",
              "      <td>35</td>\n",
              "      <td>5</td>\n",
              "      <td>547499.87</td>\n",
              "      <td>2</td>\n",
              "      <td>1</td>\n",
              "      <td>1</td>\n",
              "      <td>105883.26</td>\n",
              "      <td>0</td>\n",
              "    </tr>\n",
              "    <tr>\n",
              "      <th>15</th>\n",
              "      <td>120260</td>\n",
              "      <td>731</td>\n",
              "      <td>Рыбинск</td>\n",
              "      <td>М</td>\n",
              "      <td>42</td>\n",
              "      <td>3</td>\n",
              "      <td>1480548.47</td>\n",
              "      <td>3</td>\n",
              "      <td>1</td>\n",
              "      <td>0</td>\n",
              "      <td>160974.43</td>\n",
              "      <td>0</td>\n",
              "    </tr>\n",
              "    <tr>\n",
              "      <th>16</th>\n",
              "      <td>123335</td>\n",
              "      <td>829</td>\n",
              "      <td>Ярославль</td>\n",
              "      <td>М</td>\n",
              "      <td>45</td>\n",
              "      <td>5</td>\n",
              "      <td>507842.84</td>\n",
              "      <td>1</td>\n",
              "      <td>1</td>\n",
              "      <td>1</td>\n",
              "      <td>169330.64</td>\n",
              "      <td>0</td>\n",
              "    </tr>\n",
              "    <tr>\n",
              "      <th>...</th>\n",
              "      <td>...</td>\n",
              "      <td>...</td>\n",
              "      <td>...</td>\n",
              "      <td>...</td>\n",
              "      <td>...</td>\n",
              "      <td>...</td>\n",
              "      <td>...</td>\n",
              "      <td>...</td>\n",
              "      <td>...</td>\n",
              "      <td>...</td>\n",
              "      <td>...</td>\n",
              "      <td>...</td>\n",
              "    </tr>\n",
              "    <tr>\n",
              "      <th>9977</th>\n",
              "      <td>158143</td>\n",
              "      <td>807</td>\n",
              "      <td>Ростов</td>\n",
              "      <td>М</td>\n",
              "      <td>43</td>\n",
              "      <td>4</td>\n",
              "      <td>1124809.48</td>\n",
              "      <td>1</td>\n",
              "      <td>1</td>\n",
              "      <td>1</td>\n",
              "      <td>185230.60</td>\n",
              "      <td>1</td>\n",
              "    </tr>\n",
              "    <tr>\n",
              "      <th>9981</th>\n",
              "      <td>154871</td>\n",
              "      <td>892</td>\n",
              "      <td>Рыбинск</td>\n",
              "      <td>М</td>\n",
              "      <td>39</td>\n",
              "      <td>5</td>\n",
              "      <td>636287.72</td>\n",
              "      <td>2</td>\n",
              "      <td>0</td>\n",
              "      <td>1</td>\n",
              "      <td>227288.27</td>\n",
              "      <td>1</td>\n",
              "    </tr>\n",
              "    <tr>\n",
              "      <th>9983</th>\n",
              "      <td>179959</td>\n",
              "      <td>762</td>\n",
              "      <td>Ярославль</td>\n",
              "      <td>М</td>\n",
              "      <td>46</td>\n",
              "      <td>3</td>\n",
              "      <td>286775.87</td>\n",
              "      <td>2</td>\n",
              "      <td>1</td>\n",
              "      <td>1</td>\n",
              "      <td>124931.69</td>\n",
              "      <td>0</td>\n",
              "    </tr>\n",
              "    <tr>\n",
              "      <th>9988</th>\n",
              "      <td>158678</td>\n",
              "      <td>889</td>\n",
              "      <td>Ярославль</td>\n",
              "      <td>М</td>\n",
              "      <td>35</td>\n",
              "      <td>4</td>\n",
              "      <td>880534.89</td>\n",
              "      <td>4</td>\n",
              "      <td>1</td>\n",
              "      <td>1</td>\n",
              "      <td>126564.61</td>\n",
              "      <td>0</td>\n",
              "    </tr>\n",
              "    <tr>\n",
              "      <th>9994</th>\n",
              "      <td>114186</td>\n",
              "      <td>851</td>\n",
              "      <td>Ростов</td>\n",
              "      <td>М</td>\n",
              "      <td>42</td>\n",
              "      <td>3</td>\n",
              "      <td>370912.79</td>\n",
              "      <td>2</td>\n",
              "      <td>1</td>\n",
              "      <td>0</td>\n",
              "      <td>102123.93</td>\n",
              "      <td>1</td>\n",
              "    </tr>\n",
              "  </tbody>\n",
              "</table>\n",
              "<p>1715 rows × 12 columns</p>\n",
              "</div>"
            ],
            "text/plain": [
              "      user_id  score       city gender  age  equity     balance  products  \\\n",
              "5      202305    856    Рыбинск      М   56       4   863687.24         3   \n",
              "8      211686    923  Ярославль      М   54       5  1206337.87         2   \n",
              "14     172138    815  Ярославль      М   35       5   547499.87         2   \n",
              "15     120260    731    Рыбинск      М   42       3  1480548.47         3   \n",
              "16     123335    829  Ярославль      М   45       5   507842.84         1   \n",
              "...       ...    ...        ...    ...  ...     ...         ...       ...   \n",
              "9977   158143    807     Ростов      М   43       4  1124809.48         1   \n",
              "9981   154871    892    Рыбинск      М   39       5   636287.72         2   \n",
              "9983   179959    762  Ярославль      М   46       3   286775.87         2   \n",
              "9988   158678    889  Ярославль      М   35       4   880534.89         4   \n",
              "9994   114186    851     Ростов      М   42       3   370912.79         2   \n",
              "\n",
              "      credit_card  last_activity  est_salary  churn  \n",
              "5               1              0   156619.80      0  \n",
              "8               1              0   155371.79      0  \n",
              "14              1              1   105883.26      0  \n",
              "15              1              0   160974.43      0  \n",
              "16              1              1   169330.64      0  \n",
              "...           ...            ...         ...    ...  \n",
              "9977            1              1   185230.60      1  \n",
              "9981            0              1   227288.27      1  \n",
              "9983            1              1   124931.69      0  \n",
              "9988            1              1   126564.61      0  \n",
              "9994            1              0   102123.93      1  \n",
              "\n",
              "[1715 rows x 12 columns]"
            ]
          },
          "metadata": {},
          "output_type": "display_data"
        }
      ],
      "execution_count": 39
    },
    {
      "cell_type": "code",
      "source": "# Подсчет оттока клиентов\ntotal_churned = segment_3['churn'].sum()\ntotal_customers = segment_3.shape[0]  # Общее количество клиентов\nchurn_rate = total_churned / total_customers * 100  # Процент оттока\n\nprint(f\"Количество ушедших клиентов: {total_churned}\")\nprint(f\"Общее количество клиентов: {total_customers}\")\nprint(f\"Процент оттока клиентов: {churn_rate:.2f}%\")",
      "metadata": {},
      "outputs": [
        {
          "name": "stdout",
          "output_type": "stream",
          "text": "Количество ушедших клиентов: 670\n,Общее количество клиентов: 1715\n,Процент оттока клиентов: 39.07%\n"
        }
      ],
      "execution_count": 40
    },
    {
      "cell_type": "code",
      "source": "# Создание графика гистограммы\nplt.figure(figsize=(10, 6))\nsns.histplot(data=segment_3, hue='churn', x='equity', discrete=True, stat='density', common_norm=False, palette='flag')\n\n# Настройка легенды и отображение графика\n\nplt.title('Гистограмма с нормированной плотностью по баллам собственности')\nplt.xlabel('Балл собственности')\nplt.ylabel('Плотность')\nplt.show()",
      "metadata": {},
      "outputs": [
        {
          "data": {
            "image/png": "[encoded data removed]",
            "text/plain": [
              "<Figure size 720x432 with 1 Axes>"
            ]
          },
          "metadata": {
            "needs_background": "light"
          },
          "output_type": "display_data"
        }
      ],
      "execution_count": 41
    },
    {
      "cell_type": "markdown",
      "source": "В этом сегменте вероятность отточности больше у клиентов с баллом собственности от 5. ",
      "metadata": {}
    },
    {
      "cell_type": "code",
      "source": "# Создание графика гистограммы\nplt.figure(figsize=(10, 6))\nsns.histplot(data=segment_3, hue='churn', x='est_salary', stat='density', common_norm=False, palette='flag')\n\n# Рассчет средних значений\nmean_values = segment_3.groupby('churn')['est_salary'].mean().reset_index()\n\n# Добавление средних значений на график\nfor _, row in mean_values.iterrows():\n    plt.axvline(x=row['est_salary'], linestyle='--', label=f'Средний доход (churn={row[\"churn\"]}): {row[\"est_salary\"]:.2f}')\n\n# Настройка легенды и отображение графика\nplt.legend()\nplt.title('Гистограмма с нормированной плотностью по доходу клиента')\nplt.xlabel('Доход клиента')\nplt.ylabel('Плотность')\nplt.show()",
      "metadata": {
        "scrolled": true
      },
      "outputs": [
        {
          "data": {
            "image/png": "[encoded data removed]",
            "text/plain": [
              "<Figure size 720x432 with 1 Axes>"
            ]
          },
          "metadata": {
            "needs_background": "light"
          },
          "output_type": "display_data"
        }
      ],
      "execution_count": 42
    },
    {
      "cell_type": "markdown",
      "source": "Клиенты уходят чаще всего с доходом 90-120 тыс, 200-230 тыс.",
      "metadata": {}
    },
    {
      "cell_type": "markdown",
      "source": "РЕКОМЕНДАЦИЯ:\n- оформление автокредита по льготной ставке \n- промокод на оформление страхования движимого и недвижимого имущества.\n\n<br> Доход позволит собрать минимальный пакет документов для оформления кредита, т.к. в данном сегменте вероятность, что весь доход приходит в наш банк высок. ",
      "metadata": {}
    },
    {
      "cell_type": "markdown",
      "source": "ВЫВОД ПО РАЗДЕЛУ: определено три сегмента. По ним даны рекомендации для улучшения ситуации высокого оттока. ",
      "metadata": {}
    },
    {
      "cell_type": "markdown",
      "source": "## Общий вывод",
      "metadata": {}
    },
    {
      "cell_type": "markdown",
      "source": "Мы проанализировали данные по клиентам регионального банка. Всего предоставлено 10 тыс клиентов из трех городов Ярославь, Ростов и Рыбинск.\n\nПРЕДОБРАБОТКА ДАННЫХ\n<br> Дубликатов в датасете не было. Пропуски были в столбце возраста - удалено 26 клиентов, и в столбце с балансом на счете - их оставим, т.к. таких клиентов много - 22.95%. \n\nИССЛЕДОВАТЕЛЬСКИЙ АНАЛИЗ\n<br> Всего ушедших клиентов 18.24%. Для детального анализа все признаки мы разделили на три группы, по которым построили гистограммы с нормированной плотностью и выделили промежутки, при которых вероятность ухода клиентов выше. \nОсобо выделились отточные сегменты по следующим признакам: \n- по городам - в Ярославле отток больше;\n- по гендеру - выделились мужчины как клиенты, которые чаще уходят;\n- по количеству собственности - имея от 3х до 9 баллов собственности клиенты более отточные;\n- по кол-ву продуктов - клиенты с 4мя продуктами чаще уходят;\n- по наличию кредитной карты - если карта есть вероятность, что клиент уйдет меньше. \n- по доходу - от 100 тыс вероятность оттока больше.\n\nМАТРИЦА КОРРЕЛЯЦИЙ показала, что больше всего скоррелировало с оттоком кол-во продуктов, поэтому мы проверили этот параметр выдвинув гипотезу.\n\nПРОВЕРКА ГИПОТЕЗ\n<br> Чем больше у клиентов продуктов, тем чаще они уходили.\n<br> Вторая гипотеза показала, что доход у клиентов, которые ушли не равен доходу, которые остались.\n\nРЕКОМЕНДАЦИИ \n<br> В разделе ОТБОР ДАННЫХ И ФОРМИРОВАНИЕ СЕГМЕНТОВ даны рекомендации по трем сегментам. Общая рекомендация по всем сегментам: возможно наблюдаются проблемы с удобством пользования мобильного приложения. Обеспечить удобный доступ к услугам банка через мобильное приложение, которое позволяет управлять НЕСКОЛЬКИМИ продуктами (счета, кредиты, инвестиции) в одном месте.\n\nКлиентов по признаку баланса мы не анализировали, т.к. здесь было много пропусков и все-таки баланс не отображает полной картины положения клиента. Ведь у клиента могут быть большие средства на счете после проведенной сделки с недвижимостью.",
      "metadata": {}
    }
  ]
}
